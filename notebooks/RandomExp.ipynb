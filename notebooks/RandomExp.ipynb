{
 "cells": [
  {
   "cell_type": "code",
   "execution_count": 22,
   "metadata": {},
   "outputs": [],
   "source": [
    "%load_ext autoreload\n",
    "%autoreload 2"
   ]
  },
  {
   "cell_type": "code",
   "execution_count": null,
   "metadata": {},
   "outputs": [],
   "source": []
  },
  {
   "cell_type": "code",
   "execution_count": 8,
   "metadata": {},
   "outputs": [],
   "source": [
    "import lib.network as net"
   ]
  },
  {
   "cell_type": "code",
   "execution_count": 167,
   "metadata": {},
   "outputs": [
    {
     "data": {
      "text/plain": [
       "<module 'lib.utils' from 'D:\\\\OneDrive - University of Southampton\\\\PhD\\\\Contact\\\\lib\\\\utils.py'>"
      ]
     },
     "execution_count": 167,
     "metadata": {},
     "output_type": "execute_result"
    }
   ],
   "source": [
    "importlib.reload(ut)"
   ]
  },
  {
   "cell_type": "code",
   "execution_count": 91,
   "metadata": {},
   "outputs": [],
   "source": [
    "fx = 20 * 5 / 2"
   ]
  },
  {
   "cell_type": "code",
   "execution_count": 185,
   "metadata": {},
   "outputs": [],
   "source": [
    "net1 = net.get_random(1000)\n",
    "net2 = net.get_dual(net1, z_rem=0)"
   ]
  },
  {
   "cell_type": "code",
   "execution_count": 186,
   "metadata": {},
   "outputs": [
    {
     "data": {
      "text/plain": [
       "count(1000)"
      ]
     },
     "execution_count": 186,
     "metadata": {},
     "output_type": "execute_result"
    }
   ],
   "source": [
    "net1.cont"
   ]
  },
  {
   "cell_type": "code",
   "execution_count": 163,
   "metadata": {},
   "outputs": [],
   "source": [
    "mic = {tuple(sorted(edge)) for edge in net1.edges}"
   ]
  },
  {
   "cell_type": "code",
   "execution_count": 168,
   "metadata": {},
   "outputs": [],
   "source": [
    "al = ut.rand_pairs_excluding(20, fx, mic)\n",
    "if al in mic:\n",
    "    print(mic)"
   ]
  },
  {
   "cell_type": "code",
   "execution_count": 169,
   "metadata": {},
   "outputs": [
    {
     "data": {
      "text/plain": [
       "100"
      ]
     },
     "execution_count": 169,
     "metadata": {},
     "output_type": "execute_result"
    }
   ],
   "source": [
    "import copy\n",
    "brc = copy.deepcopy(net1)\n",
    "brc.add_edges_from(al)\n",
    "len(brc.edges)"
   ]
  },
  {
   "cell_type": "code",
   "execution_count": 133,
   "metadata": {},
   "outputs": [],
   "source": [
    "import copy\n",
    "brc = copy.deepcopy(net1)\n",
    "current = len(brc.edges)\n",
    "for edge in al:\n",
    "    brc.add_edge(*edge)\n",
    "    if current == len(brc.edges):\n",
    "        print(edge)"
   ]
  },
  {
   "cell_type": "code",
   "execution_count": null,
   "metadata": {},
   "outputs": [],
   "source": []
  },
  {
   "cell_type": "code",
   "execution_count": null,
   "metadata": {},
   "outputs": [],
   "source": []
  },
  {
   "cell_type": "code",
   "execution_count": 61,
   "metadata": {},
   "outputs": [],
   "source": [
    "G = nx.Graph()\n",
    "G.add_edges_from(a)"
   ]
  },
  {
   "cell_type": "code",
   "execution_count": 62,
   "metadata": {},
   "outputs": [
    {
     "data": {
      "text/plain": [
       "[(11, 9),\n",
       " (11, 1),\n",
       " (17, 7),\n",
       " (17, 19),\n",
       " (17, 16),\n",
       " (18, 0),\n",
       " (18, 6),\n",
       " (19, 3),\n",
       " (6, 13),\n",
       " (16, 4)]"
      ]
     },
     "execution_count": 62,
     "metadata": {},
     "output_type": "execute_result"
    }
   ],
   "source": [
    "list(G.edges)"
   ]
  },
  {
   "cell_type": "code",
   "execution_count": null,
   "metadata": {},
   "outputs": [],
   "source": []
  },
  {
   "cell_type": "code",
   "execution_count": 10,
   "metadata": {},
   "outputs": [
    {
     "data": {
      "text/plain": [
       "<module 'lib.network' from 'D:\\\\OneDrive - University of Southampton\\\\PhD\\\\Contact\\\\lib\\\\network.py'>"
      ]
     },
     "execution_count": 10,
     "metadata": {},
     "output_type": "execute_result"
    }
   ],
   "source": [
    "import importlib\n",
    "import lib.utils as ut\n",
    "importlib.reload(net)"
   ]
  },
  {
   "cell_type": "code",
   "execution_count": 35,
   "metadata": {},
   "outputs": [
    {
     "name": "stdout",
     "output_type": "stream",
     "text": [
      "(10, 0)\n",
      "(11, 4)\n",
      "(11, 5)\n",
      "(12, 1)\n",
      "(12, 8)\n",
      "(13, 6)\n"
     ]
    }
   ],
   "source": [
    "for i in range(100):\n",
    "    l = ut.decode_pair(i)\n",
    "    if l in net1.edges:\n",
    "        print(l)"
   ]
  },
  {
   "cell_type": "code",
   "execution_count": 68,
   "metadata": {},
   "outputs": [],
   "source": [
    "f = ut.rand_pairs(1000, 100)\n",
    "d = ut.rand_pairs_excluding(1000, 1000, f) "
   ]
  },
  {
   "cell_type": "code",
   "execution_count": 69,
   "metadata": {},
   "outputs": [
    {
     "data": {
      "text/plain": [
       "set()"
      ]
     },
     "execution_count": 69,
     "metadata": {},
     "output_type": "execute_result"
    }
   ],
   "source": [
    "set(f).intersection(d)"
   ]
  },
  {
   "cell_type": "code",
   "execution_count": 30,
   "metadata": {},
   "outputs": [],
   "source": [
    "import networkx as nx\n",
    "f = nx.Graph()"
   ]
  },
  {
   "cell_type": "code",
   "execution_count": null,
   "metadata": {},
   "outputs": [],
   "source": []
  },
  {
   "cell_type": "code",
   "execution_count": 41,
   "metadata": {},
   "outputs": [
    {
     "data": {
      "text/plain": [
       "[(206, 53),\n",
       " (222, 19),\n",
       " (652, 210),\n",
       " (509, 341),\n",
       " (641, 301),\n",
       " (815, 31),\n",
       " (543, 307),\n",
       " (845, 809),\n",
       " (738, 282),\n",
       " (481, 221),\n",
       " (721, 561),\n",
       " (672, 454),\n",
       " (924, 541),\n",
       " (655, 368),\n",
       " (851, 664),\n",
       " (872, 448),\n",
       " (894, 845),\n",
       " (498, 428),\n",
       " (861, 681),\n",
       " (741, 324),\n",
       " (826, 236),\n",
       " (833, 209),\n",
       " (655, 562),\n",
       " (584, 475),\n",
       " (877, 231),\n",
       " (495, 393),\n",
       " (896, 203),\n",
       " (473, 121),\n",
       " (658, 544),\n",
       " (101, 2),\n",
       " (283, 121),\n",
       " (667, 396),\n",
       " (189, 120),\n",
       " (653, 124),\n",
       " (175, 173),\n",
       " (873, 475),\n",
       " (332, 100),\n",
       " (956, 916),\n",
       " (185, 146),\n",
       " (801, 196),\n",
       " (318, 178),\n",
       " (932, 366),\n",
       " (609, 138),\n",
       " (316, 272),\n",
       " (949, 406),\n",
       " (936, 401),\n",
       " (766, 216),\n",
       " (948, 587),\n",
       " (582, 47),\n",
       " (606, 52)]"
      ]
     },
     "execution_count": 41,
     "metadata": {},
     "output_type": "execute_result"
    }
   ],
   "source": [
    "ut.rand_pairs(1000, 50)"
   ]
  },
  {
   "cell_type": "code",
   "execution_count": null,
   "metadata": {},
   "outputs": [],
   "source": []
  }
 ],
 "metadata": {
  "kernelspec": {
   "display_name": "Python 3",
   "language": "python",
   "name": "python3"
  },
  "language_info": {
   "codemirror_mode": {
    "name": "ipython",
    "version": 3
   },
   "file_extension": ".py",
   "mimetype": "text/x-python",
   "name": "python",
   "nbconvert_exporter": "python",
   "pygments_lexer": "ipython3",
   "version": "3.7.8"
  }
 },
 "nbformat": 4,
 "nbformat_minor": 4
}
