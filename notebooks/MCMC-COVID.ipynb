{
 "cells": [
  {
   "cell_type": "markdown",
   "metadata": {},
   "source": [
    "<h1> Using MCMC to fit COVID-19 epidemiological parameters"
   ]
  },
  {
   "cell_type": "code",
   "execution_count": null,
   "metadata": {},
   "outputs": [],
   "source": [
    "%load_ext autoreload\n",
    "%autoreload 2\n",
    "import os\n",
    "os.chdir('..')"
   ]
  },
  {
   "cell_type": "markdown",
   "metadata": {},
   "source": [
    "This Notebook is inspired by Deephaven labs:\n",
    "https://github.com/deephaven/covid-19-sir-modelling"
   ]
  },
  {
   "cell_type": "code",
   "execution_count": 1,
   "metadata": {},
   "outputs": [
    {
     "name": "stderr",
     "output_type": "stream",
     "text": [
      "WARNING (theano.link.c.cmodule): install mkl with `conda install mkl-service`: No module named 'mkl'\n",
      "WARNING (theano.tensor.blas): Using NumPy C-API based implementation for BLAS functions.\n"
     ]
    }
   ],
   "source": [
    "import os\n",
    "os.environ['OMP_NUM_THREADS'] = '1'\n",
    "os.environ['MKL_THREADING_LAYER'] = 'GNU'\n",
    "\n",
    "import numpy as np\n",
    "import pandas as pd\n",
    "import theano\n",
    "import theano.tensor as tt\n",
    "import pymc3 as pm"
   ]
  },
  {
   "cell_type": "markdown",
   "metadata": {
    "tags": []
   },
   "source": [
    "# Reading and exploring COVID Data\n",
    "The first step in building a model is collecting data. Here, we will pull data from the COVID Tracking Project (https://covidtracking.com) that used to update daily until March 2021. We will then trim and store our data accordingly."
   ]
  },
  {
   "cell_type": "code",
   "execution_count": 2,
   "metadata": {},
   "outputs": [
    {
     "data": {
      "text/html": [
       "<div>\n",
       "<style scoped>\n",
       "    .dataframe tbody tr th:only-of-type {\n",
       "        vertical-align: middle;\n",
       "    }\n",
       "\n",
       "    .dataframe tbody tr th {\n",
       "        vertical-align: top;\n",
       "    }\n",
       "\n",
       "    .dataframe thead th {\n",
       "        text-align: right;\n",
       "    }\n",
       "</style>\n",
       "<table border=\"1\" class=\"dataframe\">\n",
       "  <thead>\n",
       "    <tr style=\"text-align: right;\">\n",
       "      <th></th>\n",
       "      <th>date</th>\n",
       "      <th>state</th>\n",
       "      <th>positive</th>\n",
       "      <th>negative</th>\n",
       "      <th>recovered</th>\n",
       "      <th>death</th>\n",
       "      <th>hospitalized</th>\n",
       "      <th>total</th>\n",
       "    </tr>\n",
       "  </thead>\n",
       "  <tbody>\n",
       "    <tr>\n",
       "      <th>20451</th>\n",
       "      <td>2020-03-06</td>\n",
       "      <td>AK</td>\n",
       "      <td>NaN</td>\n",
       "      <td>NaN</td>\n",
       "      <td>NaN</td>\n",
       "      <td>0.0</td>\n",
       "      <td>0.0</td>\n",
       "      <td>1</td>\n",
       "    </tr>\n",
       "    <tr>\n",
       "      <th>20400</th>\n",
       "      <td>2020-03-07</td>\n",
       "      <td>AK</td>\n",
       "      <td>NaN</td>\n",
       "      <td>NaN</td>\n",
       "      <td>NaN</td>\n",
       "      <td>0.0</td>\n",
       "      <td>0.0</td>\n",
       "      <td>2</td>\n",
       "    </tr>\n",
       "    <tr>\n",
       "      <th>20349</th>\n",
       "      <td>2020-03-08</td>\n",
       "      <td>AK</td>\n",
       "      <td>NaN</td>\n",
       "      <td>NaN</td>\n",
       "      <td>NaN</td>\n",
       "      <td>0.0</td>\n",
       "      <td>0.0</td>\n",
       "      <td>6</td>\n",
       "    </tr>\n",
       "    <tr>\n",
       "      <th>20298</th>\n",
       "      <td>2020-03-09</td>\n",
       "      <td>AK</td>\n",
       "      <td>NaN</td>\n",
       "      <td>NaN</td>\n",
       "      <td>NaN</td>\n",
       "      <td>0.0</td>\n",
       "      <td>1.0</td>\n",
       "      <td>9</td>\n",
       "    </tr>\n",
       "    <tr>\n",
       "      <th>20247</th>\n",
       "      <td>2020-03-10</td>\n",
       "      <td>AK</td>\n",
       "      <td>NaN</td>\n",
       "      <td>NaN</td>\n",
       "      <td>NaN</td>\n",
       "      <td>0.0</td>\n",
       "      <td>1.0</td>\n",
       "      <td>9</td>\n",
       "    </tr>\n",
       "    <tr>\n",
       "      <th>...</th>\n",
       "      <td>...</td>\n",
       "      <td>...</td>\n",
       "      <td>...</td>\n",
       "      <td>...</td>\n",
       "      <td>...</td>\n",
       "      <td>...</td>\n",
       "      <td>...</td>\n",
       "      <td>...</td>\n",
       "    </tr>\n",
       "    <tr>\n",
       "      <th>13663</th>\n",
       "      <td>2020-07-07</td>\n",
       "      <td>WY</td>\n",
       "      <td>1711.0</td>\n",
       "      <td>36078.0</td>\n",
       "      <td>1274.0</td>\n",
       "      <td>20.0</td>\n",
       "      <td>119.0</td>\n",
       "      <td>37789</td>\n",
       "    </tr>\n",
       "    <tr>\n",
       "      <th>13607</th>\n",
       "      <td>2020-07-08</td>\n",
       "      <td>WY</td>\n",
       "      <td>1740.0</td>\n",
       "      <td>36078.0</td>\n",
       "      <td>1291.0</td>\n",
       "      <td>21.0</td>\n",
       "      <td>120.0</td>\n",
       "      <td>37818</td>\n",
       "    </tr>\n",
       "    <tr>\n",
       "      <th>13551</th>\n",
       "      <td>2020-07-09</td>\n",
       "      <td>WY</td>\n",
       "      <td>1774.0</td>\n",
       "      <td>37271.0</td>\n",
       "      <td>1313.0</td>\n",
       "      <td>21.0</td>\n",
       "      <td>121.0</td>\n",
       "      <td>39045</td>\n",
       "    </tr>\n",
       "    <tr>\n",
       "      <th>13495</th>\n",
       "      <td>2020-07-10</td>\n",
       "      <td>WY</td>\n",
       "      <td>1790.0</td>\n",
       "      <td>38077.0</td>\n",
       "      <td>1327.0</td>\n",
       "      <td>21.0</td>\n",
       "      <td>121.0</td>\n",
       "      <td>39867</td>\n",
       "    </tr>\n",
       "    <tr>\n",
       "      <th>13439</th>\n",
       "      <td>2020-07-11</td>\n",
       "      <td>WY</td>\n",
       "      <td>1839.0</td>\n",
       "      <td>38077.0</td>\n",
       "      <td>1361.0</td>\n",
       "      <td>21.0</td>\n",
       "      <td>123.0</td>\n",
       "      <td>39916</td>\n",
       "    </tr>\n",
       "  </tbody>\n",
       "</table>\n",
       "<p>6677 rows × 8 columns</p>\n",
       "</div>"
      ],
      "text/plain": [
       "             date state  positive  negative  recovered  death  hospitalized  \\\n",
       "20451  2020-03-06    AK       NaN       NaN        NaN    0.0           0.0   \n",
       "20400  2020-03-07    AK       NaN       NaN        NaN    0.0           0.0   \n",
       "20349  2020-03-08    AK       NaN       NaN        NaN    0.0           0.0   \n",
       "20298  2020-03-09    AK       NaN       NaN        NaN    0.0           1.0   \n",
       "20247  2020-03-10    AK       NaN       NaN        NaN    0.0           1.0   \n",
       "...           ...   ...       ...       ...        ...    ...           ...   \n",
       "13663  2020-07-07    WY    1711.0   36078.0     1274.0   20.0         119.0   \n",
       "13607  2020-07-08    WY    1740.0   36078.0     1291.0   21.0         120.0   \n",
       "13551  2020-07-09    WY    1774.0   37271.0     1313.0   21.0         121.0   \n",
       "13495  2020-07-10    WY    1790.0   38077.0     1327.0   21.0         121.0   \n",
       "13439  2020-07-11    WY    1839.0   38077.0     1361.0   21.0         123.0   \n",
       "\n",
       "       total  \n",
       "20451      1  \n",
       "20400      2  \n",
       "20349      6  \n",
       "20298      9  \n",
       "20247      9  \n",
       "...      ...  \n",
       "13663  37789  \n",
       "13607  37818  \n",
       "13551  39045  \n",
       "13495  39867  \n",
       "13439  39916  \n",
       "\n",
       "[6677 rows x 8 columns]"
      ]
     },
     "execution_count": 2,
     "metadata": {},
     "output_type": "execute_result"
    }
   ],
   "source": [
    "# making dict of state populations\n",
    "state_population = {'AK': 731545, 'AL': 4903185, 'AR': 3017804, 'AS': 49437, 'AZ': 7278717,\n",
    "             'CA': 39512223, 'CO': 5758736, 'CT': 3565287, 'DC': 705749, 'DE': 973764,\n",
    "             'FL': 21477737, 'GA': 10617423, 'GU': 168485, 'HI': 1415872, 'IA': 3155070,\n",
    "             'ID': 1787065, 'IL': 12671821, 'IN': 6732219, 'KS': 2913314, 'KY': 4467673,\n",
    "             'LA': 4648794, 'MA': 6892503, 'MD': 6045680, 'ME': 1344212, 'MI': 9986857,\n",
    "             'MN': 5639632, 'MO': 6137428, 'MP': 51433, 'MS': 2976149, 'MT': 1068778,\n",
    "             'NC': 10488084, 'ND': 762062, 'NE': 1934408, 'NH': 1359711, 'NJ': 8882190,\n",
    "             'NM': 2096829, 'NV': 3080156, 'NY': 19453561, 'OH': 11689100, 'OK': 3956971,\n",
    "             'OR': 4217737, 'PA': 12801989, 'PR': 3193694, 'RI': 1059361, 'SC': 5148714,\n",
    "             'SD': 884659, 'TN': 6829174, 'TX': 28995881, 'UT': 3205958, 'VA': 8535519,\n",
    "             'VI': 106235, 'VT': 623989, 'WA': 7614893, 'WI': 5822434, 'WV': 1792147,\n",
    "             'WY': 578759}\n",
    "    \n",
    "# this function will attempt to fill in missing data from each state as accurately as possible\n",
    "def fill_na(df):\n",
    "    df = df.sort_values(by=['date'])\n",
    "    filled_df = []\n",
    "    \n",
    "    # loop through table for each state\n",
    "    for state in np.unique(df.state):\n",
    "        # # subset by state\n",
    "        this_df = df.loc[df.state == state,]\n",
    "        # # fill NA forward with first good value\n",
    "        this_df = this_df.fillna(method='ffill')\n",
    "        # # fill NA backward with zero, this ASSUMES deaths were 0 before first set of reported deaths\n",
    "        this_df.hospitalized = this_df.hospitalized.fillna(0)\n",
    "        this_df.death = this_df.death.fillna(0)\n",
    "        # # appending filled data to filledDf\n",
    "        filled_df.append(this_df)\n",
    "\n",
    "    # concatenating filledDf into dataframe\n",
    "    filled_df = pd.concat(filled_df)\n",
    "\n",
    "    return filled_df\n",
    "\n",
    "# this function will take in a csv and a name and return a dataframe with that name\n",
    "def load_us_df(file, data_filter=None):\n",
    "    df = pd.read_csv(file)\n",
    "    df = df[['date','state','positive','negative','recovered','death','hospitalized','total']]\n",
    "    df['date'] = df['date'].apply(lambda d: str(d)[0:4] + '-' + str(d)[4:6] + '-' + str(d)[6:8])\n",
    "    if data_filter:\n",
    "        df = df[(df.date >= data_filter[0]) & (df.date <= data_filter[1])]\n",
    "    df = fill_na(df)\n",
    "    \n",
    "    return df\n",
    "\n",
    "# URL of data\n",
    "historicalStatesURL = 'https://api.covidtracking.com/v1/states/daily.csv'\n",
    "data_filter = ['2020-01-12', '2020-07-11']\n",
    "# Until 11Aug2020: DC, PR no hosp; GU, VI few dead no hosp; MP few all; AS no data;\n",
    "# Originally deemed poor data: \"AS\",\"DC\",\"GU\",\"MP\",\"PR\",\"VI\"\n",
    "state_filter = ['AS', 'DC', 'GU', 'MP', 'PR', 'VI']\n",
    "# loading data\n",
    "state_data = load_us_df(historicalStatesURL, data_filter)\n",
    "state_data = state_data[~state_data.state.isin(state_filter)]\n",
    "\n",
    "state_data"
   ]
  },
  {
   "cell_type": "code",
   "execution_count": 13,
   "metadata": {
    "tags": []
   },
   "outputs": [
    {
     "name": "stdout",
     "output_type": "stream",
     "text": [
      "[(('AS', 49437), -1), (('MP', 51433), -1), (('VI', 106235), -1), (('GU', 168485), -1), (('WY', 578759), 21.0), (('VT', 623989), 56.0), (('DC', 705749), -1), (('AK', 731545), 17.0), (('ND', 762062), 91.0), (('SD', 884659), 109.0), (('DE', 973764), 517.0), (('RI', 1059361), 976.0), (('MT', 1068778), 29.0), (('ME', 1344212), 112.0), (('NH', 1359711), 391.0), (('HI', 1415872), 19.0), (('ID', 1787065), 101.0), (('WV', 1792147), 95.0), (('NE', 1934408), 286.0), (('NM', 2096829), 543.0), (('KS', 2913314), 284.0), (('MS', 2976149), 1230.0), (('AR', 3017804), 313.0), (('NV', 3080156), 592.0), (('IA', 3155070), 748.0), (('PR', 3193694), -1), (('UT', 3205958), 212.0), (('CT', 3565287), 4348.0), (('OK', 3956971), 421.0), (('OR', 4217737), 232.0), (('KY', 4467673), 622.0), (('LA', 4648794), 3403.0), (('AL', 4903185), 1114.0), (('SC', 5148714), 951.0), (('MN', 5639632), 1537.0), (('CO', 5758736), 1725.0), (('WI', 5822434), 828.0), (('MD', 6045680), 3310.0), (('MO', 6137428), 1069.0), (('IN', 6732219), 2756.0), (('TN', 6829174), 738.0), (('MA', 6892503), 8310.0), (('AZ', 7278717), 2151.0), (('WA', 7614893), 1424.0), (('VA', 8535519), 1962.0), (('NJ', 8882190), 15345.0), (('MI', 9986857), 6313.0), (('NC', 10488084), 1499.0), (('GA', 10617423), 2996.0), (('OH', 11689100), 3036.0), (('IL', 12671821), 7369.0), (('PA', 12801989), 6897.0), (('NY', 19453561), 24974.0), (('FL', 21477737), 4301.0), (('TX', 28995881), 3112.0), (('CA', 39512223), 6945.0)]\n"
     ]
    }
   ],
   "source": [
    "print(sorted(list(zip(state_population.items(), [state_data[state_data.state == s].iloc[-1].death if s in state_data.state.values else -1 for s in state_population])), key=lambda x: x[0][1]))"
   ]
  },
  {
   "cell_type": "code",
   "execution_count": 14,
   "metadata": {},
   "outputs": [
    {
     "data": {
      "text/html": [
       "<div>\n",
       "<style scoped>\n",
       "    .dataframe tbody tr th:only-of-type {\n",
       "        vertical-align: middle;\n",
       "    }\n",
       "\n",
       "    .dataframe tbody tr th {\n",
       "        vertical-align: top;\n",
       "    }\n",
       "\n",
       "    .dataframe thead th {\n",
       "        text-align: right;\n",
       "    }\n",
       "</style>\n",
       "<table border=\"1\" class=\"dataframe\">\n",
       "  <thead>\n",
       "    <tr style=\"text-align: right;\">\n",
       "      <th></th>\n",
       "      <th>date</th>\n",
       "      <th>state</th>\n",
       "      <th>positive</th>\n",
       "      <th>negative</th>\n",
       "      <th>recovered</th>\n",
       "      <th>death</th>\n",
       "      <th>hospitalized</th>\n",
       "      <th>total</th>\n",
       "    </tr>\n",
       "  </thead>\n",
       "  <tbody>\n",
       "    <tr>\n",
       "      <th>20587</th>\n",
       "      <td>2020-03-01</td>\n",
       "      <td>WY</td>\n",
       "      <td>NaN</td>\n",
       "      <td>NaN</td>\n",
       "      <td>NaN</td>\n",
       "      <td>0.0</td>\n",
       "      <td>0.0</td>\n",
       "      <td>0</td>\n",
       "    </tr>\n",
       "    <tr>\n",
       "      <th>20576</th>\n",
       "      <td>2020-03-02</td>\n",
       "      <td>WY</td>\n",
       "      <td>NaN</td>\n",
       "      <td>NaN</td>\n",
       "      <td>NaN</td>\n",
       "      <td>0.0</td>\n",
       "      <td>0.0</td>\n",
       "      <td>0</td>\n",
       "    </tr>\n",
       "    <tr>\n",
       "      <th>20564</th>\n",
       "      <td>2020-03-03</td>\n",
       "      <td>WY</td>\n",
       "      <td>NaN</td>\n",
       "      <td>NaN</td>\n",
       "      <td>NaN</td>\n",
       "      <td>0.0</td>\n",
       "      <td>0.0</td>\n",
       "      <td>0</td>\n",
       "    </tr>\n",
       "    <tr>\n",
       "      <th>20548</th>\n",
       "      <td>2020-03-04</td>\n",
       "      <td>WY</td>\n",
       "      <td>NaN</td>\n",
       "      <td>NaN</td>\n",
       "      <td>NaN</td>\n",
       "      <td>0.0</td>\n",
       "      <td>0.0</td>\n",
       "      <td>0</td>\n",
       "    </tr>\n",
       "    <tr>\n",
       "      <th>20522</th>\n",
       "      <td>2020-03-05</td>\n",
       "      <td>WY</td>\n",
       "      <td>NaN</td>\n",
       "      <td>NaN</td>\n",
       "      <td>NaN</td>\n",
       "      <td>0.0</td>\n",
       "      <td>0.0</td>\n",
       "      <td>0</td>\n",
       "    </tr>\n",
       "    <tr>\n",
       "      <th>...</th>\n",
       "      <td>...</td>\n",
       "      <td>...</td>\n",
       "      <td>...</td>\n",
       "      <td>...</td>\n",
       "      <td>...</td>\n",
       "      <td>...</td>\n",
       "      <td>...</td>\n",
       "      <td>...</td>\n",
       "    </tr>\n",
       "    <tr>\n",
       "      <th>13663</th>\n",
       "      <td>2020-07-07</td>\n",
       "      <td>WY</td>\n",
       "      <td>1711.0</td>\n",
       "      <td>36078.0</td>\n",
       "      <td>1274.0</td>\n",
       "      <td>20.0</td>\n",
       "      <td>119.0</td>\n",
       "      <td>37789</td>\n",
       "    </tr>\n",
       "    <tr>\n",
       "      <th>13607</th>\n",
       "      <td>2020-07-08</td>\n",
       "      <td>WY</td>\n",
       "      <td>1740.0</td>\n",
       "      <td>36078.0</td>\n",
       "      <td>1291.0</td>\n",
       "      <td>21.0</td>\n",
       "      <td>120.0</td>\n",
       "      <td>37818</td>\n",
       "    </tr>\n",
       "    <tr>\n",
       "      <th>13551</th>\n",
       "      <td>2020-07-09</td>\n",
       "      <td>WY</td>\n",
       "      <td>1774.0</td>\n",
       "      <td>37271.0</td>\n",
       "      <td>1313.0</td>\n",
       "      <td>21.0</td>\n",
       "      <td>121.0</td>\n",
       "      <td>39045</td>\n",
       "    </tr>\n",
       "    <tr>\n",
       "      <th>13495</th>\n",
       "      <td>2020-07-10</td>\n",
       "      <td>WY</td>\n",
       "      <td>1790.0</td>\n",
       "      <td>38077.0</td>\n",
       "      <td>1327.0</td>\n",
       "      <td>21.0</td>\n",
       "      <td>121.0</td>\n",
       "      <td>39867</td>\n",
       "    </tr>\n",
       "    <tr>\n",
       "      <th>13439</th>\n",
       "      <td>2020-07-11</td>\n",
       "      <td>WY</td>\n",
       "      <td>1839.0</td>\n",
       "      <td>38077.0</td>\n",
       "      <td>1361.0</td>\n",
       "      <td>21.0</td>\n",
       "      <td>123.0</td>\n",
       "      <td>39916</td>\n",
       "    </tr>\n",
       "  </tbody>\n",
       "</table>\n",
       "<p>133 rows × 8 columns</p>\n",
       "</div>"
      ],
      "text/plain": [
       "             date state  positive  negative  recovered  death  hospitalized  \\\n",
       "20587  2020-03-01    WY       NaN       NaN        NaN    0.0           0.0   \n",
       "20576  2020-03-02    WY       NaN       NaN        NaN    0.0           0.0   \n",
       "20564  2020-03-03    WY       NaN       NaN        NaN    0.0           0.0   \n",
       "20548  2020-03-04    WY       NaN       NaN        NaN    0.0           0.0   \n",
       "20522  2020-03-05    WY       NaN       NaN        NaN    0.0           0.0   \n",
       "...           ...   ...       ...       ...        ...    ...           ...   \n",
       "13663  2020-07-07    WY    1711.0   36078.0     1274.0   20.0         119.0   \n",
       "13607  2020-07-08    WY    1740.0   36078.0     1291.0   21.0         120.0   \n",
       "13551  2020-07-09    WY    1774.0   37271.0     1313.0   21.0         121.0   \n",
       "13495  2020-07-10    WY    1790.0   38077.0     1327.0   21.0         121.0   \n",
       "13439  2020-07-11    WY    1839.0   38077.0     1361.0   21.0         123.0   \n",
       "\n",
       "       total  \n",
       "20587      0  \n",
       "20576      0  \n",
       "20564      0  \n",
       "20548      0  \n",
       "20522      0  \n",
       "...      ...  \n",
       "13663  37789  \n",
       "13607  37818  \n",
       "13551  39045  \n",
       "13495  39867  \n",
       "13439  39916  \n",
       "\n",
       "[133 rows x 8 columns]"
      ]
     },
     "execution_count": 14,
     "metadata": {},
     "output_type": "execute_result"
    }
   ],
   "source": [
    "state_data[state_data.state == 'WY']"
   ]
  },
  {
   "cell_type": "markdown",
   "metadata": {
    "tags": []
   },
   "source": [
    "# Bayesian Modelling"
   ]
  },
  {
   "cell_type": "markdown",
   "metadata": {},
   "source": [
    "<h2> (Side) Simple example of pymc3"
   ]
  },
  {
   "cell_type": "code",
   "execution_count": 2,
   "metadata": {},
   "outputs": [],
   "source": [
    "i = 0\n",
    "@tt.compile.ops.as_op(itypes=[tt.dvector, tt.dmatrix],otypes=[tt.dscalar])\n",
    "def get_error(x1, x2):\n",
    "    err = ((x1 - x2) ** 2).mean()\n",
    "    global i\n",
    "    if abs(i - err) > 0.05:\n",
    "        print(f'Latest error: {err}')\n",
    "    i = err\n",
    "    return err"
   ]
  },
  {
   "cell_type": "code",
   "execution_count": 3,
   "metadata": {},
   "outputs": [
    {
     "name": "stdout",
     "output_type": "stream",
     "text": [
      "Latest error: 2.5120077034896138\n"
     ]
    },
    {
     "name": "stderr",
     "output_type": "stream",
     "text": [
      "Auto-assigning NUTS sampler...\n",
      "Initializing NUTS using jitter+adapt_diag...\n",
      "Sequential sampling (2 chains in 1 job)\n",
      "NUTS: [sd, a, beta]\n"
     ]
    },
    {
     "data": {
      "text/html": [
       "\n",
       "<style>\n",
       "    /* Turns off some styling */\n",
       "    progress {\n",
       "        /* gets rid of default border in Firefox and Opera. */\n",
       "        border: none;\n",
       "        /* Needs to be in here for Safari polyfill so background images work as expected. */\n",
       "        background-size: auto;\n",
       "    }\n",
       "    progress:not([value]), progress:not([value])::-webkit-progress-bar {\n",
       "        background: repeating-linear-gradient(45deg, #7e7e7e, #7e7e7e 10px, #5c5c5c 10px, #5c5c5c 20px);\n",
       "    }\n",
       "    .progress-bar-interrupted, .progress-bar-interrupted::-webkit-progress-bar {\n",
       "        background: #F44336;\n",
       "    }\n",
       "</style>\n"
      ],
      "text/plain": [
       "<IPython.core.display.HTML object>"
      ]
     },
     "metadata": {},
     "output_type": "display_data"
    },
    {
     "data": {
      "text/html": [
       "\n",
       "    <div>\n",
       "      <progress value='2000' class='' max='2000' style='width:300px; height:20px; vertical-align: middle;'></progress>\n",
       "      100.00% [2000/2000 00:05&lt;00:00 Sampling chain 0, 0 divergences]\n",
       "    </div>\n",
       "    "
      ],
      "text/plain": [
       "<IPython.core.display.HTML object>"
      ]
     },
     "metadata": {},
     "output_type": "display_data"
    },
    {
     "name": "stdout",
     "output_type": "stream",
     "text": [
      "Latest error: 4.014317324866072\n",
      "Latest error: 3.7976292231754427\n",
      "Latest error: 3.67051478323279\n",
      "Latest error: 2.990336591665009\n",
      "Latest error: 2.90899649004778\n",
      "Latest error: 2.7866895288358533\n",
      "Latest error: 2.568856244387978\n",
      "Latest error: 0.1092271615173876\n"
     ]
    },
    {
     "data": {
      "text/html": [
       "\n",
       "<style>\n",
       "    /* Turns off some styling */\n",
       "    progress {\n",
       "        /* gets rid of default border in Firefox and Opera. */\n",
       "        border: none;\n",
       "        /* Needs to be in here for Safari polyfill so background images work as expected. */\n",
       "        background-size: auto;\n",
       "    }\n",
       "    progress:not([value]), progress:not([value])::-webkit-progress-bar {\n",
       "        background: repeating-linear-gradient(45deg, #7e7e7e, #7e7e7e 10px, #5c5c5c 10px, #5c5c5c 20px);\n",
       "    }\n",
       "    .progress-bar-interrupted, .progress-bar-interrupted::-webkit-progress-bar {\n",
       "        background: #F44336;\n",
       "    }\n",
       "</style>\n"
      ],
      "text/plain": [
       "<IPython.core.display.HTML object>"
      ]
     },
     "metadata": {},
     "output_type": "display_data"
    },
    {
     "data": {
      "text/html": [
       "\n",
       "    <div>\n",
       "      <progress value='2000' class='' max='2000' style='width:300px; height:20px; vertical-align: middle;'></progress>\n",
       "      100.00% [2000/2000 00:03&lt;00:00 Sampling chain 1, 0 divergences]\n",
       "    </div>\n",
       "    "
      ],
      "text/plain": [
       "<IPython.core.display.HTML object>"
      ]
     },
     "metadata": {},
     "output_type": "display_data"
    },
    {
     "name": "stdout",
     "output_type": "stream",
     "text": [
      "Latest error: 2.5120077034896138\n",
      "Latest error: 1.309152445592219\n",
      "Latest error: 0.8032195406234186\n",
      "Latest error: 0.14159719420716138\n"
     ]
    },
    {
     "name": "stderr",
     "output_type": "stream",
     "text": [
      "Sampling 2 chains for 1_000 tune and 1_000 draw iterations (2_000 + 2_000 draws total) took 9 seconds.\n"
     ]
    },
    {
     "name": "stdout",
     "output_type": "stream",
     "text": [
      "Latest error: 2.5120077034896138\n"
     ]
    }
   ],
   "source": [
    "N = 100\n",
    "seed = 11\n",
    "X = np.random.default_rng(seed).standard_normal(N)\n",
    "eps = np.random.default_rng(seed).standard_normal((N, 1))*.3\n",
    "y = X*.4 + 1.5 + eps\n",
    "\n",
    "with pm.Model() as m0:\n",
    "    beta = pm.Normal('beta', 0, 10)\n",
    "    a = pm.Normal('a', 0, 10)\n",
    "    sd = pm.HalfNormal('sd', 5)\n",
    "    loss = pm.Deterministic('loss', get_error(X*beta+a, theano.shared(y)))\n",
    "    pm.Normal('y', X*beta+a, sd, observed=y)\n",
    "    trace0 = pm.sample(return_inferencedata=True, chains=2, cores=1)"
   ]
  },
  {
   "cell_type": "code",
   "execution_count": 4,
   "metadata": {},
   "outputs": [
    {
     "data": {
      "image/png": "[encoded data removed]",
      "text/plain": [
       "<Figure size 1200x800 with 8 Axes>"
      ]
     },
     "metadata": {},
     "output_type": "display_data"
    }
   ],
   "source": [
    "pl = pm.plot_trace(trace0, legend=True, chain_prop={\"color\": ['C0', 'C1', 'C2', 'C3', \"xkcd:purple blue\"]})"
   ]
  },
  {
   "cell_type": "code",
   "execution_count": 5,
   "metadata": {},
   "outputs": [
    {
     "data": {
      "text/html": [
       "\n",
       "<style>\n",
       "    /* Turns off some styling */\n",
       "    progress {\n",
       "        /* gets rid of default border in Firefox and Opera. */\n",
       "        border: none;\n",
       "        /* Needs to be in here for Safari polyfill so background images work as expected. */\n",
       "        background-size: auto;\n",
       "    }\n",
       "    progress:not([value]), progress:not([value])::-webkit-progress-bar {\n",
       "        background: repeating-linear-gradient(45deg, #7e7e7e, #7e7e7e 10px, #5c5c5c 10px, #5c5c5c 20px);\n",
       "    }\n",
       "    .progress-bar-interrupted, .progress-bar-interrupted::-webkit-progress-bar {\n",
       "        background: #F44336;\n",
       "    }\n",
       "</style>\n"
      ],
      "text/plain": [
       "<IPython.core.display.HTML object>"
      ]
     },
     "metadata": {},
     "output_type": "display_data"
    },
    {
     "data": {
      "text/html": [
       "\n",
       "    <div>\n",
       "      <progress value='20' class='' max='20' style='width:300px; height:20px; vertical-align: middle;'></progress>\n",
       "      100.00% [20/20 00:00&lt;00:00 logp = -2,620.5, ||grad|| = 7,323.2]\n",
       "    </div>\n",
       "    "
      ],
      "text/plain": [
       "<IPython.core.display.HTML object>"
      ]
     },
     "metadata": {},
     "output_type": "display_data"
    },
    {
     "name": "stdout",
     "output_type": "stream",
     "text": [
      "\n",
      "Latest error: 0.07556834321049391\n"
     ]
    },
    {
     "data": {
      "text/plain": [
       "{'beta': array(0.4),\n",
       " 'a': array(1.50739949),\n",
       " 'sd_log__': array(-1.291359),\n",
       " 'sd': array(0.27489694),\n",
       " 'loss': 0.07556834321049391}"
      ]
     },
     "execution_count": 5,
     "metadata": {},
     "output_type": "execute_result"
    }
   ],
   "source": [
    "pm.find_MAP(model=m0)"
   ]
  },
  {
   "cell_type": "code",
   "execution_count": 6,
   "metadata": {},
   "outputs": [
    {
     "data": {
      "text/html": [
       "<div>\n",
       "<style scoped>\n",
       "    .dataframe tbody tr th:only-of-type {\n",
       "        vertical-align: middle;\n",
       "    }\n",
       "\n",
       "    .dataframe tbody tr th {\n",
       "        vertical-align: top;\n",
       "    }\n",
       "\n",
       "    .dataframe thead th {\n",
       "        text-align: right;\n",
       "    }\n",
       "</style>\n",
       "<table border=\"1\" class=\"dataframe\">\n",
       "  <thead>\n",
       "    <tr style=\"text-align: right;\">\n",
       "      <th></th>\n",
       "      <th>mean</th>\n",
       "      <th>sd</th>\n",
       "      <th>hdi_3%</th>\n",
       "      <th>hdi_97%</th>\n",
       "      <th>mcse_mean</th>\n",
       "      <th>mcse_sd</th>\n",
       "      <th>ess_bulk</th>\n",
       "      <th>ess_tail</th>\n",
       "      <th>r_hat</th>\n",
       "    </tr>\n",
       "  </thead>\n",
       "  <tbody>\n",
       "    <tr>\n",
       "      <th>beta</th>\n",
       "      <td>0.400</td>\n",
       "      <td>0.003</td>\n",
       "      <td>0.394</td>\n",
       "      <td>0.406</td>\n",
       "      <td>0.0</td>\n",
       "      <td>0.0</td>\n",
       "      <td>2267.0</td>\n",
       "      <td>1487.0</td>\n",
       "      <td>1.0</td>\n",
       "    </tr>\n",
       "    <tr>\n",
       "      <th>a</th>\n",
       "      <td>1.507</td>\n",
       "      <td>0.003</td>\n",
       "      <td>1.502</td>\n",
       "      <td>1.512</td>\n",
       "      <td>0.0</td>\n",
       "      <td>0.0</td>\n",
       "      <td>2507.0</td>\n",
       "      <td>1469.0</td>\n",
       "      <td>1.0</td>\n",
       "    </tr>\n",
       "    <tr>\n",
       "      <th>sd</th>\n",
       "      <td>0.275</td>\n",
       "      <td>0.002</td>\n",
       "      <td>0.271</td>\n",
       "      <td>0.279</td>\n",
       "      <td>0.0</td>\n",
       "      <td>0.0</td>\n",
       "      <td>2436.0</td>\n",
       "      <td>1397.0</td>\n",
       "      <td>1.0</td>\n",
       "    </tr>\n",
       "    <tr>\n",
       "      <th>loss</th>\n",
       "      <td>0.076</td>\n",
       "      <td>0.000</td>\n",
       "      <td>0.076</td>\n",
       "      <td>0.076</td>\n",
       "      <td>0.0</td>\n",
       "      <td>0.0</td>\n",
       "      <td>926.0</td>\n",
       "      <td>1337.0</td>\n",
       "      <td>1.0</td>\n",
       "    </tr>\n",
       "  </tbody>\n",
       "</table>\n",
       "</div>"
      ],
      "text/plain": [
       "       mean     sd  hdi_3%  hdi_97%  mcse_mean  mcse_sd  ess_bulk  ess_tail  \\\n",
       "beta  0.400  0.003   0.394    0.406        0.0      0.0    2267.0    1487.0   \n",
       "a     1.507  0.003   1.502    1.512        0.0      0.0    2507.0    1469.0   \n",
       "sd    0.275  0.002   0.271    0.279        0.0      0.0    2436.0    1397.0   \n",
       "loss  0.076  0.000   0.076    0.076        0.0      0.0     926.0    1337.0   \n",
       "\n",
       "      r_hat  \n",
       "beta    1.0  \n",
       "a       1.0  \n",
       "sd      1.0  \n",
       "loss    1.0  "
      ]
     },
     "execution_count": 6,
     "metadata": {},
     "output_type": "execute_result"
    }
   ],
   "source": [
    "pm.summary(trace0)"
   ]
  },
  {
   "cell_type": "code",
   "execution_count": 7,
   "metadata": {},
   "outputs": [
    {
     "name": "stderr",
     "output_type": "stream",
     "text": [
      "e:\\Anaconda\\envs\\graph\\lib\\site-packages\\pymc3\\sampling.py:1689: UserWarning: samples parameter is smaller than nchains times ndraws, some draws and/or chains may not be represented in the returned posterior predictive sample\n",
      "  warnings.warn(\n"
     ]
    },
    {
     "data": {
      "text/html": [
       "\n",
       "<style>\n",
       "    /* Turns off some styling */\n",
       "    progress {\n",
       "        /* gets rid of default border in Firefox and Opera. */\n",
       "        border: none;\n",
       "        /* Needs to be in here for Safari polyfill so background images work as expected. */\n",
       "        background-size: auto;\n",
       "    }\n",
       "    progress:not([value]), progress:not([value])::-webkit-progress-bar {\n",
       "        background: repeating-linear-gradient(45deg, #7e7e7e, #7e7e7e 10px, #5c5c5c 10px, #5c5c5c 20px);\n",
       "    }\n",
       "    .progress-bar-interrupted, .progress-bar-interrupted::-webkit-progress-bar {\n",
       "        background: #F44336;\n",
       "    }\n",
       "</style>\n"
      ],
      "text/plain": [
       "<IPython.core.display.HTML object>"
      ]
     },
     "metadata": {},
     "output_type": "display_data"
    },
    {
     "data": {
      "text/html": [
       "\n",
       "    <div>\n",
       "      <progress value='200' class='' max='200' style='width:300px; height:20px; vertical-align: middle;'></progress>\n",
       "      100.00% [200/200 00:00&lt;00:00]\n",
       "    </div>\n",
       "    "
      ],
      "text/plain": [
       "<IPython.core.display.HTML object>"
      ]
     },
     "metadata": {},
     "output_type": "display_data"
    },
    {
     "name": "stdout",
     "output_type": "stream",
     "text": [
      "[0.39986875 0.40101748 0.39977453 0.402563   0.39598455 0.40354536\n",
      " 0.40179756 0.40471062 0.40241413 0.39927458 0.40564837 0.40561909\n",
      " 0.39947471 0.39947471 0.39897536 0.40026013 0.40020882 0.40322477\n",
      " 0.40498663 0.39992557 0.40165695 0.40039703 0.40042369 0.4054905\n",
      " 0.39345121 0.39394282 0.4013258  0.4009146  0.40162691 0.39899943\n",
      " 0.40027214 0.39972856 0.39974419 0.39773917 0.40071559 0.40226001\n",
      " 0.39820483 0.39862814 0.39827535 0.40126425 0.39345741 0.40123485\n",
      " 0.40100022 0.40098186 0.40010265 0.39953675 0.39938925 0.40055202\n",
      " 0.39934087 0.40373812 0.39615357 0.39615357 0.40394347 0.39295813\n",
      " 0.39934434 0.40384884 0.39683319 0.40282058 0.39978207 0.40153494\n",
      " 0.39861878 0.39837222 0.39837222 0.39961155 0.4034046  0.39945121\n",
      " 0.39675404 0.39884958 0.400735   0.40125889 0.40168974 0.39806836\n",
      " 0.39697841 0.40461223 0.40292648 0.39789244 0.40333035 0.3966333\n",
      " 0.39864812 0.39993593 0.4008232  0.40158392 0.39931522 0.39905239\n",
      " 0.40865036 0.40518336 0.40220504 0.39808703 0.39665911 0.39780058\n",
      " 0.40026292 0.39959814 0.39668875 0.40293691 0.39893871 0.40002444\n",
      " 0.39875471 0.40181979 0.40027378 0.39839538 0.40171675 0.39901095\n",
      " 0.4019971  0.39722276 0.40044996 0.40048887 0.39963506 0.39720481\n",
      " 0.40185776 0.40254943 0.39876447 0.40130397 0.40099487 0.39630916\n",
      " 0.40163732 0.39760836 0.39760836 0.39930807 0.4001926  0.40035455\n",
      " 0.39920357 0.39891322 0.399928   0.40245968 0.39749948 0.4018461\n",
      " 0.39824408 0.39958879 0.39952144 0.40319079 0.40319079 0.39863521\n",
      " 0.40148173 0.39833393 0.40341438 0.3986227  0.40144942 0.39800107\n",
      " 0.40156914 0.39721292 0.40309739 0.40309739 0.40196409 0.4030124\n",
      " 0.40223933 0.39968173 0.39817498 0.39494355 0.39494355 0.39681092\n",
      " 0.39907853 0.3989285  0.39734377 0.40407104 0.39849857 0.40411862\n",
      " 0.39959365 0.40406021 0.39978286 0.40051264 0.40129984 0.39890693\n",
      " 0.39984081 0.40020048 0.39978517 0.39978517 0.40056262 0.39891538\n",
      " 0.39770872 0.3970849  0.39583153 0.39903102 0.40380421 0.40223026\n",
      " 0.40160678 0.39449355 0.39299957 0.39374824 0.40100536 0.40088943\n",
      " 0.40003308 0.40461092 0.39897649 0.39974883 0.40070236 0.40138942\n",
      " 0.39958575 0.40023811 0.40313063 0.40430597 0.40137108 0.39866246\n",
      " 0.4011668  0.39599889 0.40514105 0.39988644 0.39616978 0.39565425\n",
      " 0.39588353 0.40391261]\n"
     ]
    }
   ],
   "source": [
    "t = pm.sample_posterior_predictive(trace0, samples=200, var_names=['beta', 'a', 'sd', 'y'], model=m0)\n",
    "print(t['beta'])"
   ]
  },
  {
   "cell_type": "code",
   "execution_count": 8,
   "metadata": {},
   "outputs": [
    {
     "data": {
      "text/plain": [
       "<Axes: xlabel='y / y'>"
      ]
     },
     "execution_count": 8,
     "metadata": {},
     "output_type": "execute_result"
    },
    {
     "data": {
      "image/png": "[encoded data removed]",
      "text/plain": [
       "<Figure size 640x480 with 1 Axes>"
      ]
     },
     "metadata": {},
     "output_type": "display_data"
    }
   ],
   "source": [
    "import arviz as az\n",
    "pm.plot_ppc(az.from_pymc3(posterior_predictive=t, model=m0))"
   ]
  },
  {
   "cell_type": "code",
   "execution_count": 9,
   "metadata": {},
   "outputs": [
    {
     "data": {
      "text/plain": [
       "array([<Axes: title={'center': 'beta'}>, <Axes: title={'center': 'a'}>],\n",
       "      dtype=object)"
      ]
     },
     "execution_count": 9,
     "metadata": {},
     "output_type": "execute_result"
    },
    {
     "data": {
      "image/png": "[encoded data removed]",
      "text/plain": [
       "<Figure size 1472x552 with 2 Axes>"
      ]
     },
     "metadata": {},
     "output_type": "display_data"
    }
   ],
   "source": [
    "pm.plot_posterior(trace0, var_names=['beta', 'a'])"
   ]
  },
  {
   "cell_type": "code",
   "execution_count": 10,
   "metadata": {},
   "outputs": [
    {
     "name": "stdout",
     "output_type": "stream",
     "text": [
      "(0.400048757108897, 0.003019176606439983)\n",
      "(1.5074427059349877, 0.0027900403470376626)\n"
     ]
    }
   ],
   "source": [
    "import scipy.stats as st\n",
    "print(st.norm.fit(trace0.posterior['beta']))\n",
    "print(st.norm.fit(trace0.posterior['a']))"
   ]
  },
  {
   "cell_type": "code",
   "execution_count": null,
   "metadata": {},
   "outputs": [],
   "source": []
  },
  {
   "cell_type": "markdown",
   "metadata": {},
   "source": [
    "<h2> Epidemic modelling"
   ]
  },
  {
   "cell_type": "markdown",
   "metadata": {},
   "source": [
    "Here we define a function that will take in data as well as initial conditions and perform a Markov-Chain Monte Carlo simulation on the given data generation model to estimate the parameters of the SIR model in question."
   ]
  },
  {
   "cell_type": "code",
   "execution_count": 6,
   "metadata": {},
   "outputs": [
    {
     "name": "stdout",
     "output_type": "stream",
     "text": [
      "Running WY with Population 10000 AND 0 hosp NaNs AND 0 death NaNs\n",
      "=======================================================================================================\n",
      "pos=1839.0, rec=1361.0, hos=123.0, dea=21.0, tot=39916.0, beta=0.02540, gamma=0.06851, rho_h=0.02330, rho=0.00694\n"
     ]
    },
    {
     "name": "stderr",
     "output_type": "stream",
     "text": [
      "e:\\Anaconda\\envs\\graph\\lib\\site-packages\\theano\\tensor\\elemwise.py:826: RuntimeWarning: divide by zero encountered in log1p\n",
      "  variables = ufunc(*ufunc_args, **ufunc_kwargs)\n"
     ]
    },
    {
     "name": "stdout",
     "output_type": "stream",
     "text": [
      "Sampled i0=9; beta=0.025400129999999996; gamma=0.06851045; rho_h=0.02329967; rho=0.006937619999999999\n",
      "Death error: 137.4249089546101\n"
     ]
    },
    {
     "name": "stderr",
     "output_type": "stream",
     "text": [
      "Only 100 samples in chain.\n",
      "Sequential sampling (2 chains in 1 job)\n",
      "CompoundStep\n",
      ">NUTS: [sigma, rho, gamma, beta]\n",
      ">Metropolis: [i0]\n"
     ]
    },
    {
     "data": {
      "text/html": [
       "\n",
       "<style>\n",
       "    /* Turns off some styling */\n",
       "    progress {\n",
       "        /* gets rid of default border in Firefox and Opera. */\n",
       "        border: none;\n",
       "        /* Needs to be in here for Safari polyfill so background images work as expected. */\n",
       "        background-size: auto;\n",
       "    }\n",
       "    progress:not([value]), progress:not([value])::-webkit-progress-bar {\n",
       "        background: repeating-linear-gradient(45deg, #7e7e7e, #7e7e7e 10px, #5c5c5c 10px, #5c5c5c 20px);\n",
       "    }\n",
       "    .progress-bar-interrupted, .progress-bar-interrupted::-webkit-progress-bar {\n",
       "        background: #F44336;\n",
       "    }\n",
       "</style>\n"
      ],
      "text/plain": [
       "<IPython.core.display.HTML object>"
      ]
     },
     "metadata": {},
     "output_type": "display_data"
    },
    {
     "data": {
      "text/html": [
       "\n",
       "    <div>\n",
       "      <progress value='300' class='' max='300' style='width:300px; height:20px; vertical-align: middle;'></progress>\n",
       "      100.00% [300/300 00:52&lt;00:00 Sampling chain 0, 0 divergences]\n",
       "    </div>\n",
       "    "
      ],
      "text/plain": [
       "<IPython.core.display.HTML object>"
      ]
     },
     "metadata": {},
     "output_type": "display_data"
    },
    {
     "name": "stdout",
     "output_type": "stream",
     "text": [
      "Sampled i0=9; beta=0.025400129999999996; gamma=0.06851045; rho_h=0.02329967; rho=0.006937619999999999\n",
      "Sampled i0=9; beta=0.025400129999999996; gamma=0.06851045; rho_h=0.02329967; rho=0.006937619999999999\n",
      "Sampled i0=9; beta=0.025400129999999996; gamma=0.06851045; rho_h=0.02329967; rho=0.006937619999999999\n",
      "Sampled i0=9; beta=0.02397116959290879; gamma=0.07196938957659042; rho_h=0.02329967; rho=0.007241113116148113\n",
      "Sampled i0=10; beta=0.02328187386957875; gamma=0.07299985224101704; rho_h=0.02329967; rho=0.0074620969458979\n",
      "Death error: 137.23447108527495\n",
      "Sampled i0=11; beta=0.025708264230457942; gamma=0.0799674433430214; rho_h=0.02329967; rho=0.0073885038048765415\n",
      "Death error: 137.05337214246762\n",
      "Sampled i0=10; beta=0.02258312044518514; gamma=0.0935929033100042; rho_h=0.02329967; rho=0.007297140160422651\n",
      "Death error: 137.44509214087273\n",
      "Sampled i0=8; beta=0.010161857675395599; gamma=0.1298286781704949; rho_h=0.02329967; rho=0.018116717724180574\n",
      "Death error: 136.3923489519436\n",
      "Sampled i0=8; beta=0.010764827131192756; gamma=0.11244599596351697; rho_h=0.02329967; rho=0.021283105987391367\n",
      "Death error: 135.86234068699378\n",
      "Sampled i0=8; beta=0.01938786501978317; gamma=0.09381676312256876; rho_h=0.02329967; rho=0.021597387373173335\n",
      "Death error: 135.36595415491902\n",
      "Sampled i0=8; beta=0.01471803406200769; gamma=0.10696321815460193; rho_h=0.02329967; rho=0.021528830550715056\n",
      "Death error: 135.66851099941695\n",
      "Sampled i0=8; beta=0.021175284104408224; gamma=0.08021288690087623; rho_h=0.02329967; rho=0.01905465543743937\n",
      "Death error: 135.5618887018027\n",
      "Sampled i0=8; beta=0.013609674789391443; gamma=0.03880483940482541; rho_h=0.02329967; rho=0.046422237805782314\n",
      "Death error: 130.29150983884284\n",
      "Sampled i0=9; beta=0.017626303291876595; gamma=0.03790109613575842; rho_h=0.02329967; rho=0.04374405650145608\n",
      "Death error: 128.45044620321616\n",
      "Sampled i0=8; beta=0.01918849611625957; gamma=0.05588090004223356; rho_h=0.02329967; rho=0.04868130829734782\n",
      "Death error: 129.4102985356602\n",
      "Sampled i0=6; beta=0.016313289553024964; gamma=0.055508074049062106; rho_h=0.02329967; rho=0.027893075117183176\n",
      "Death error: 135.1461495890686\n",
      "Sampled i0=6; beta=0.014893464631424295; gamma=0.06469207371556657; rho_h=0.02329967; rho=0.04279684851362277\n",
      "Death error: 133.4657686821626\n",
      "Sampled i0=6; beta=0.024020191013460805; gamma=0.05790007360737143; rho_h=0.02329967; rho=0.026428543187100466\n",
      "Death error: 134.65761287424428\n",
      "Sampled i0=6; beta=0.011082032775898967; gamma=0.03722186090915364; rho_h=0.02329967; rho=0.057886117243527976\n",
      "Death error: 131.401240751425\n",
      "Sampled i0=7; beta=0.013957387468249443; gamma=0.0411845764295953; rho_h=0.02329967; rho=0.053554677740336114\n",
      "Death error: 130.22389550729352\n",
      "Sampled i0=7; beta=0.012691935736413506; gamma=0.02154223549934432; rho_h=0.02329967; rho=0.025571375759499155\n",
      "Death error: 134.7591360966285\n",
      "Sampled i0=6; beta=0.021818455313423354; gamma=0.03615742476360458; rho_h=0.02329967; rho=0.034507326775048155\n",
      "Death error: 132.4085678875673\n",
      "Sampled i0=7; beta=0.020115907069171313; gamma=0.03746436723060114; rho_h=0.02329967; rho=0.0352861061506837\n",
      "Death error: 131.7232591524709\n",
      "Sampled i0=7; beta=0.01627458960662399; gamma=0.025682629295987667; rho_h=0.02329967; rho=0.03752330325497251\n",
      "Sampled i0=6; beta=0.018263649378841305; gamma=0.03213133650439946; rho_h=0.02329967; rho=0.04347802933384925\n",
      "Death error: 131.48343259759588\n",
      "Sampled i0=6; beta=0.024562792145962735; gamma=0.030561178090082138; rho_h=0.02329967; rho=0.04930944968755259\n",
      "Death error: 127.6932198550663\n",
      "Sampled i0=6; beta=0.01279051012446853; gamma=0.03861787138831663; rho_h=0.02329967; rho=0.03038916645665815\n",
      "Death error: 134.8341983094875\n",
      "Sampled i0=7; beta=0.016395973400287214; gamma=0.037753111471190606; rho_h=0.02329967; rho=0.032319663692800704\n",
      "Death error: 133.15864621996485\n",
      "Sampled i0=7; beta=0.016173147327516384; gamma=0.03779591321607412; rho_h=0.02329967; rho=0.034820472951398576\n",
      "Death error: 132.7535722186717\n",
      "Sampled i0=7; beta=0.01835200050729605; gamma=0.009601722675669947; rho_h=0.02329967; rho=0.045686355792859054\n",
      "Death error: 130.4617109847869\n",
      "Sampled i0=8; beta=0.022363895652778857; gamma=0.014088078612301377; rho_h=0.02329967; rho=0.04077907345046316\n",
      "Death error: 126.64095894847013\n",
      "Sampled i0=9; beta=0.028725186877698906; gamma=0.011288401985011912; rho_h=0.02329967; rho=0.04187581032626476\n",
      "Death error: 118.35057233270749\n",
      "Sampled i0=9; beta=0.02876864556068104; gamma=0.010752668960145463; rho_h=0.02329967; rho=0.04271968392154114\n",
      "Death error: 118.10213432500743\n",
      "Sampled i0=9; beta=0.0593284779150126; gamma=0.0142764097133256; rho_h=0.02329967; rho=0.05310292723463119\n",
      "Death error: 46.09004906938923\n",
      "Sampled i0=9; beta=0.04897491525979894; gamma=0.014154160358421727; rho_h=0.02329967; rho=0.05043334635755888\n",
      "Sampled i0=9; beta=0.05270962922868749; gamma=0.014565901124651453; rho_h=0.02329967; rho=0.048223702349019626\n",
      "Death error: 32.626340482492864\n",
      "Sampled i0=10; beta=0.05367234968619568; gamma=0.014960002430926354; rho_h=0.02329967; rho=0.04612227033380279\n",
      "Death error: 27.131998035461642\n",
      "Sampled i0=10; beta=0.0553227344189196; gamma=0.014231086398858952; rho_h=0.02329967; rho=0.04676328315830949\n",
      "Death error: 24.635274665083596\n",
      "Sampled i0=9; beta=0.05384283097554735; gamma=0.013806674630852776; rho_h=0.02329967; rho=0.048966811023098154\n",
      "Death error: 28.354896005440242\n",
      "Sampled i0=9; beta=0.056353885437811266; gamma=0.013924310502954671; rho_h=0.02329967; rho=0.05052719875224827\n",
      "Death error: 25.929567986764635\n",
      "Sampled i0=10; beta=0.054293183617317234; gamma=0.014348687594305026; rho_h=0.02329967; rho=0.049674743233400674\n",
      "Death error: 24.149177779116947\n",
      "Sampled i0=10; beta=0.05489990454772621; gamma=0.016595885145054882; rho_h=0.02329967; rho=0.05006291310653245\n",
      "Death error: 22.604297014269335\n",
      "Sampled i0=10; beta=0.05508806684158312; gamma=0.01648013307010964; rho_h=0.02329967; rho=0.04917621339623565\n",
      "Death error: 22.831170703007615\n",
      "Sampled i0=10; beta=0.05532431211948527; gamma=0.016862686792832267; rho_h=0.02329967; rho=0.04944302773980104\n",
      "Death error: 22.472369598807084\n",
      "Sampled i0=10; beta=0.05420151669797664; gamma=0.017853107557806232; rho_h=0.02329967; rho=0.05339856687135924\n",
      "Death error: 21.632191181660172\n",
      "Sampled i0=10; beta=0.05623411736980106; gamma=0.018162411974663596; rho_h=0.02329967; rho=0.04927152972768598\n",
      "Death error: 21.739151017600737\n",
      "Sampled i0=10; beta=0.05768303277515392; gamma=0.02189082441616228; rho_h=0.02329967; rho=0.049626594229878605\n",
      "Death error: 19.682774381389464\n",
      "Sampled i0=11; beta=0.05616593401700274; gamma=0.019386472773710698; rho_h=0.02329967; rho=0.04912865556509448\n",
      "Death error: 20.254069132147077\n",
      "Sampled i0=11; beta=0.057056434947510025; gamma=0.028932372952864445; rho_h=0.02329967; rho=0.06273477829858665\n",
      "Death error: 13.899292356386972\n",
      "Sampled i0=11; beta=0.06164964410873464; gamma=0.039228264256328645; rho_h=0.02329967; rho=0.0850036136352023\n",
      "Death error: 7.927024837221793\n",
      "Sampled i0=11; beta=0.06408474845087615; gamma=0.04204226219760758; rho_h=0.02329967; rho=0.08246195721022986\n",
      "Death error: 7.718319284865978\n",
      "Sampled i0=11; beta=0.06247154789965164; gamma=0.042120686784855935; rho_h=0.02329967; rho=0.08217003361634274\n",
      "Death error: 8.20590549781231\n",
      "Sampled i0=10; beta=0.07201668600921299; gamma=0.05265925976082531; rho_h=0.02329967; rho=0.08146031799006603\n",
      "Death error: 6.821603859985577\n",
      "Sampled i0=10; beta=0.07201668600921299; gamma=0.05265925976082531; rho_h=0.02329967; rho=0.08146031799006603\n",
      "Sampled i0=10; beta=0.07199410563887025; gamma=0.05271334133038267; rho_h=0.02329967; rho=0.08144925357644851\n",
      "Sampled i0=10; beta=0.0747039813429016; gamma=0.05543384853065193; rho_h=0.02329967; rho=0.08227693150358353\n",
      "Death error: 6.213422745117073\n",
      "Sampled i0=10; beta=0.07535661169420856; gamma=0.05642336680711686; rho_h=0.02329967; rho=0.08240321096011617\n",
      "Death error: 6.094179068368403\n",
      "Sampled i0=10; beta=0.108219094312719; gamma=0.09649262159312623; rho_h=0.02329967; rho=0.08135831110931742\n",
      "Death error: 4.69566083772794\n",
      "Sampled i0=10; beta=0.11315968903469147; gamma=0.10070130232143167; rho_h=0.02329967; rho=0.07419904263654331\n",
      "Sampled i0=10; beta=0.11252128786944383; gamma=0.09939785914999572; rho_h=0.02329967; rho=0.0718230304432407\n",
      "Sampled i0=10; beta=0.11962434159646089; gamma=0.10721885773129279; rho_h=0.02329967; rho=0.06841394756641565\n",
      "Sampled i0=10; beta=0.13351930003730375; gamma=0.11894751626801506; rho_h=0.02329967; rho=0.05343430886230626\n",
      "Death error: 4.874700545456955\n",
      "Sampled i0=10; beta=0.14665039991088516; gamma=0.13342520007751552; rho_h=0.02329967; rho=0.05232585644413971\n",
      "Death error: 4.752007139030729\n",
      "Sampled i0=10; beta=0.11943517148730905; gamma=0.10465478718147304; rho_h=0.02329967; rho=0.062349147137734415\n",
      "Sampled i0=10; beta=0.11781146532168625; gamma=0.1025271810171229; rho_h=0.02329967; rho=0.0615088959833061\n",
      "Sampled i0=10; beta=0.11929925659107364; gamma=0.10465041314762866; rho_h=0.02329967; rho=0.0626717697748741\n",
      "Death error: 4.798654856009454\n",
      "Sampled i0=10; beta=0.1248431509664588; gamma=0.11068806672860146; rho_h=0.02329967; rho=0.05934224397099864\n",
      "Sampled i0=10; beta=0.15803891786157062; gamma=0.14359748783741372; rho_h=0.02329967; rho=0.045654556761987375\n",
      "Sampled i0=10; beta=0.16435888980906418; gamma=0.15030368954463727; rho_h=0.02329967; rho=0.04489107320464323\n",
      "Sampled i0=10; beta=0.1523975111160241; gamma=0.1370801967609946; rho_h=0.02329967; rho=0.044350093249527704\n",
      "Death error: 4.94169582719366\n",
      "Sampled i0=10; beta=0.16279661615452826; gamma=0.14874913139099458; rho_h=0.02329967; rho=0.04548975199726961\n",
      "Death error: 4.702159191702619\n",
      "Sampled i0=10; beta=0.16204026887860654; gamma=0.14781350310974609; rho_h=0.02329967; rho=0.04551421858396053\n",
      "Sampled i0=10; beta=0.16263195802451283; gamma=0.14853795852723106; rho_h=0.02329967; rho=0.04530541978788262\n",
      "Sampled i0=10; beta=0.16909141817167117; gamma=0.15492684057545297; rho_h=0.02329967; rho=0.04260817744203314\n",
      "Sampled i0=10; beta=0.19771965869019587; gamma=0.1840400934895506; rho_h=0.02329967; rho=0.03878978706617555\n",
      "Sampled i0=10; beta=0.1818159832911718; gamma=0.16632674894833765; rho_h=0.02329967; rho=0.03695832935973161\n",
      "Death error: 4.8674791624542575\n",
      "Sampled i0=10; beta=0.18494942607680254; gamma=0.17001149781307948; rho_h=0.02329967; rho=0.0379094744488831\n",
      "Sampled i0=10; beta=0.17502939674085288; gamma=0.16212615614477432; rho_h=0.02329967; rho=0.04567311218986598\n",
      "Death error: 4.65828598121655\n",
      "Sampled i0=10; beta=0.15670945245425802; gamma=0.14192155923065017; rho_h=0.02329967; rho=0.04553156476367389\n",
      "Death error: 4.778028833915518\n",
      "Sampled i0=10; beta=0.16588653691633812; gamma=0.15276727177709035; rho_h=0.02329967; rho=0.0470070620512748\n",
      "Death error: 4.660937127335764\n",
      "Sampled i0=10; beta=0.18148832692443775; gamma=0.16723035076805645; rho_h=0.02329967; rho=0.039519782337278965\n",
      "Sampled i0=10; beta=0.18171615887447173; gamma=0.16735745738767988; rho_h=0.02329967; rho=0.04020366716756073\n",
      "Sampled i0=10; beta=0.18608355375546323; gamma=0.17224031935251843; rho_h=0.02329967; rho=0.039479732753874994\n",
      "Sampled i0=10; beta=0.1613489999565022; gamma=0.14800136046690845; rho_h=0.02329967; rho=0.04843166674019056\n",
      "Sampled i0=10; beta=0.16270098401417693; gamma=0.14964664378047707; rho_h=0.02329967; rho=0.04860972635121654\n",
      "Sampled i0=10; beta=0.16173184882960817; gamma=0.14789424595318112; rho_h=0.02329967; rho=0.047583309757071895\n",
      "Sampled i0=10; beta=0.1726788376151847; gamma=0.15872826379859847; rho_h=0.02329967; rho=0.044075046624784356\n",
      "Sampled i0=10; beta=0.18467603117629586; gamma=0.17096066955203099; rho_h=0.02329967; rho=0.040807421630915816\n",
      "Sampled i0=10; beta=0.18497970440517525; gamma=0.17072657079571044; rho_h=0.02329967; rho=0.040784491900805596\n",
      "Death error: 4.863853471214361\n",
      "Sampled i0=10; beta=0.18464223355205545; gamma=0.17027783664313564; rho_h=0.02329967; rho=0.0404931238161355\n",
      "Sampled i0=10; beta=0.1839155046433638; gamma=0.1704605258689461; rho_h=0.02329967; rho=0.040514106627662194\n",
      "Death error: 4.750955052656135\n",
      "Sampled i0=10; beta=0.18681134645092842; gamma=0.173164144439372; rho_h=0.02329967; rho=0.04080660845771184\n",
      "Sampled i0=10; beta=0.18854077417168424; gamma=0.17549164570289053; rho_h=0.02329967; rho=0.04202852870268807\n",
      "Sampled i0=10; beta=0.1774578794783475; gamma=0.16471680797460297; rho_h=0.02329967; rho=0.04596173481112913\n",
      "Sampled i0=10; beta=0.16535850842241456; gamma=0.15182422160064504; rho_h=0.02329967; rho=0.045137529073873355\n",
      "Sampled i0=10; beta=0.16816617340940593; gamma=0.1558006329118942; rho_h=0.02329967; rho=0.04760902755560077\n",
      "Sampled i0=10; beta=0.16837003746187862; gamma=0.15577395459429935; rho_h=0.02329967; rho=0.047525882030096056\n",
      "Sampled i0=10; beta=0.16122390726380453; gamma=0.14676259860616805; rho_h=0.02329967; rho=0.04438912448955882\n",
      "Sampled i0=10; beta=0.180730561274037; gamma=0.16812726650411822; rho_h=0.02329967; rho=0.044737975444600925\n",
      "Death error: 4.653358017627694\n",
      "Sampled i0=10; beta=0.17255787804008343; gamma=0.15844232706590702; rho_h=0.02329967; rho=0.04238704708933376\n",
      "Sampled i0=10; beta=0.15756192316119033; gamma=0.1423989110381851; rho_h=0.02329967; rho=0.043681964599114026\n",
      "Death error: 4.854471235233241\n",
      "Sampled i0=10; beta=0.15602041291908955; gamma=0.14036003264448024; rho_h=0.02329967; rho=0.04278896230397913\n",
      "Sampled i0=10; beta=0.16607808363343524; gamma=0.1510178851808304; rho_h=0.02329967; rho=0.042606096284187184\n",
      "Death error: 4.827198414783317\n",
      "Sampled i0=10; beta=0.17974673852544878; gamma=0.16790522989199505; rho_h=0.02329967; rho=0.04469828517677742\n",
      "Death error: 4.969998874916678\n",
      "Sampled i0=10; beta=0.17967253133528657; gamma=0.16813428474435319; rho_h=0.02329967; rho=0.044713364674588904\n",
      "Death error: 5.233912230188347\n",
      "Sampled i0=10; beta=0.17976089905804343; gamma=0.1679207965087852; rho_h=0.02329967; rho=0.04470849221526999\n",
      "Death error: 4.967386970314808\n",
      "Sampled i0=10; beta=0.18513895168666233; gamma=0.1721045229058801; rho_h=0.02329967; rho=0.04294703282308062\n",
      "Death error: 4.672456130643094\n",
      "Sampled i0=10; beta=0.18307315022894152; gamma=0.16987896167545333; rho_h=0.02329967; rho=0.042642373167483844\n",
      "Sampled i0=10; beta=0.1831041462673928; gamma=0.16965279150065127; rho_h=0.02329967; rho=0.04265701298172244\n",
      "Sampled i0=10; beta=0.19601664846651828; gamma=0.18245258857503951; rho_h=0.02329967; rho=0.03896782216845128\n",
      "Sampled i0=10; beta=0.20588513102116318; gamma=0.19338655752551104; rho_h=0.02329967; rho=0.03888439454207073\n",
      "Sampled i0=10; beta=0.20701226242559692; gamma=0.19462908774000814; rho_h=0.02329967; rho=0.039060486788112685\n",
      "Sampled i0=10; beta=0.20836604626229857; gamma=0.19569133737755712; rho_h=0.02329967; rho=0.03909966505154179\n",
      "Sampled i0=11; beta=0.1992982249774373; gamma=0.186413045877959; rho_h=0.02329967; rho=0.03798000725348489\n",
      "Death error: 5.023021855758413\n",
      "Sampled i0=11; beta=0.1992617553416728; gamma=0.18668241899754842; rho_h=0.02329967; rho=0.037985454636070726\n",
      "Death error: 4.806938669486425\n",
      "Sampled i0=11; beta=0.19840122260256746; gamma=0.1866252359073769; rho_h=0.02329967; rho=0.03794318910246251\n",
      "Sampled i0=11; beta=0.20455157645163638; gamma=0.19253477780414563; rho_h=0.02329967; rho=0.03755360463492009\n",
      "Sampled i0=11; beta=0.20506081132104917; gamma=0.19311869266512552; rho_h=0.02329967; rho=0.037067454644462365\n",
      "Sampled i0=11; beta=0.19559968573314637; gamma=0.18238466800819328; rho_h=0.02329967; rho=0.03563417893113147\n",
      "Sampled i0=11; beta=0.19173780316111078; gamma=0.17812896776860224; rho_h=0.02329967; rho=0.03546921103016321\n",
      "Sampled i0=11; beta=0.18768716749943648; gamma=0.1737307638109739; rho_h=0.02329967; rho=0.035974539237964405\n",
      "Sampled i0=11; beta=0.18360764456584153; gamma=0.16962660665646062; rho_h=0.02329967; rho=0.03676452166094072\n",
      "Sampled i0=11; beta=0.17709151127145878; gamma=0.16206365358611124; rho_h=0.02329967; rho=0.0358022967634864\n",
      "Death error: 4.783123900183169\n",
      "Sampled i0=11; beta=0.17482171901254842; gamma=0.16164126832347; rho_h=0.02329967; rho=0.040231548379911414\n",
      "Death error: 4.6624220153937195\n",
      "Sampled i0=11; beta=0.18450688432171003; gamma=0.1728647866557649; rho_h=0.02329967; rho=0.04275378627792767\n",
      "Sampled i0=11; beta=0.16741292745502306; gamma=0.15307657145680809; rho_h=0.02329967; rho=0.040145859354809216\n",
      "Sampled i0=11; beta=0.17650939532505083; gamma=0.1625779039282405; rho_h=0.02329967; rho=0.038215856611966914\n",
      "Sampled i0=11; beta=0.1665385531140433; gamma=0.1512186789521212; rho_h=0.02329967; rho=0.03705363421171723\n",
      "Death error: 4.866740089463825\n",
      "Sampled i0=11; beta=0.17019223447213228; gamma=0.1564850956332931; rho_h=0.02329967; rho=0.04056878477070958\n",
      "Death error: 4.665981199852974\n",
      "Sampled i0=11; beta=0.1722801109627785; gamma=0.15755627245393683; rho_h=0.02329967; rho=0.03680827782729373\n",
      "Death error: 4.816518232408845\n",
      "Sampled i0=11; beta=0.1704231196136289; gamma=0.15636669498195838; rho_h=0.02329967; rho=0.0387891037449868\n",
      "Sampled i0=11; beta=0.17670797434588661; gamma=0.16402561399363932; rho_h=0.02329967; rho=0.040620085303852395\n",
      "Sampled i0=11; beta=0.17232098583419841; gamma=0.15776506576811472; rho_h=0.02329967; rho=0.03717814898801217\n",
      "Death error: 4.797840484419123\n",
      "Sampled i0=11; beta=0.16596594820426766; gamma=0.150126898454333; rho_h=0.02329967; rho=0.037559574748246845\n",
      "Death error: 5.014858632151258\n",
      "Sampled i0=11; beta=0.1536363650164061; gamma=0.13921053109416326; rho_h=0.02329967; rho=0.04402435928144158\n",
      "Death error: 4.760900577110906\n",
      "Sampled i0=11; beta=0.16032680624203086; gamma=0.14730739706380042; rho_h=0.02329967; rho=0.044550572858014593\n",
      "Sampled i0=11; beta=0.16181084909029628; gamma=0.14851317175616746; rho_h=0.02329967; rho=0.044396128083126186\n",
      "Sampled i0=11; beta=0.16346246141186066; gamma=0.15065968005155816; rho_h=0.02329967; rho=0.0444272779808382\n",
      "Sampled i0=11; beta=0.16097787656018175; gamma=0.14783206514717448; rho_h=0.02329967; rho=0.044184736739407024\n",
      "Sampled i0=11; beta=0.16788271142004832; gamma=0.15473211418151797; rho_h=0.02329967; rho=0.042443900464096365\n",
      "Sampled i0=11; beta=0.16753066279840412; gamma=0.15471809284286592; rho_h=0.02329967; rho=0.04358660731766531\n",
      "Sampled i0=11; beta=0.16213774576972861; gamma=0.14914966594571683; rho_h=0.02329967; rho=0.04446853149072867\n",
      "Sampled i0=11; beta=0.1517674812661996; gamma=0.13756638503672905; rho_h=0.02329967; rho=0.042900698008897106\n",
      "Death error: 4.887585192528303\n",
      "Sampled i0=11; beta=0.16184925271470854; gamma=0.1463953730617473; rho_h=0.02329967; rho=0.03753358062944819\n",
      "Sampled i0=11; beta=0.16552837359147257; gamma=0.1517900312232581; rho_h=0.02329967; rho=0.040884440512289094\n",
      "Death error: 4.720220509179192\n",
      "Sampled i0=11; beta=0.16309735065249104; gamma=0.1487140457354944; rho_h=0.02329967; rho=0.03991667298956116\n",
      "Sampled i0=11; beta=0.16690753617595228; gamma=0.153258307752181; rho_h=0.02329967; rho=0.040566360328267166\n",
      "Sampled i0=11; beta=0.1523198768338807; gamma=0.13689040197866706; rho_h=0.02329967; rho=0.03989761715141391\n",
      "Death error: 4.99473147319387\n",
      "Sampled i0=11; beta=0.15495964092096812; gamma=0.13922359417126978; rho_h=0.02329967; rho=0.04020793493735872\n",
      "Sampled i0=11; beta=0.16409155076217732; gamma=0.15128976535935668; rho_h=0.02329967; rho=0.04435219192992938\n",
      "Death error: 4.649571718142716\n",
      "Sampled i0=11; beta=0.16486681267486844; gamma=0.152226840012144; rho_h=0.02329967; rho=0.04439260621446381\n",
      "Sampled i0=11; beta=0.16431734547810203; gamma=0.15190830974115144; rho_h=0.02329967; rho=0.04449727401260247\n",
      "Sampled i0=11; beta=0.1682620943245195; gamma=0.15546908548233604; rho_h=0.02329967; rho=0.04312878605826594\n",
      "Sampled i0=11; beta=0.1781974476326082; gamma=0.16638421382105298; rho_h=0.02329967; rho=0.04424570897203811\n",
      "Death error: 4.777258073719277\n",
      "Sampled i0=11; beta=0.17186472699131006; gamma=0.15974524717042246; rho_h=0.02329967; rho=0.04366446851964908\n",
      "Sampled i0=11; beta=0.16474610031847853; gamma=0.15102636569469102; rho_h=0.02329967; rho=0.04148258865777632\n",
      "Sampled i0=11; beta=0.16683592575408063; gamma=0.1519172032871693; rho_h=0.02329967; rho=0.038127499325909364\n",
      "Death error: 4.789467694301792\n",
      "Sampled i0=11; beta=0.159292208641887; gamma=0.14373718875135752; rho_h=0.02329967; rho=0.038547677605794445\n",
      "Death error: 4.891235374455031\n",
      "Sampled i0=11; beta=0.1822684799482391; gamma=0.16847067876114571; rho_h=0.02329967; rho=0.03795207286176481\n",
      "Death error: 4.68409659956163\n",
      "Sampled i0=11; beta=0.1933225746077234; gamma=0.17969927081535428; rho_h=0.02329967; rho=0.03545428382172146\n",
      "Sampled i0=11; beta=0.19940596442846759; gamma=0.18622967425474699; rho_h=0.02329967; rho=0.03540705701589137\n",
      "Sampled i0=11; beta=0.18289536725916317; gamma=0.16762570574221566; rho_h=0.02329967; rho=0.03357672030580762\n",
      "Death error: 4.851837436750642\n",
      "Sampled i0=11; beta=0.1833278478929182; gamma=0.16866455130607838; rho_h=0.02329967; rho=0.03575826599185212\n",
      "Death error: 4.749277968506812\n",
      "Sampled i0=11; beta=0.17782920762692736; gamma=0.16365028965054002; rho_h=0.02329967; rho=0.03775195853162581\n",
      "Sampled i0=11; beta=0.15668830342689297; gamma=0.1421265314974088; rho_h=0.02329967; rho=0.041374969590088254\n",
      "Sampled i0=11; beta=0.1593200186026907; gamma=0.1451282490384048; rho_h=0.02329967; rho=0.04191755640171525\n",
      "Sampled i0=11; beta=0.1610114152413494; gamma=0.14615895991264302; rho_h=0.02329967; rho=0.04035977699411464\n",
      "Sampled i0=11; beta=0.1519984987891132; gamma=0.13689750266129222; rho_h=0.02329967; rho=0.04149522806814115\n",
      "Sampled i0=11; beta=0.17675883153762845; gamma=0.1636360060230609; rho_h=0.02329967; rho=0.04041037908492047\n",
      "Death error: 4.646673775681044\n",
      "Sampled i0=11; beta=0.17363776512667956; gamma=0.160350258602684; rho_h=0.02329967; rho=0.04177002004492196\n",
      "Sampled i0=11; beta=0.17144324868474692; gamma=0.15725583374247037; rho_h=0.02329967; rho=0.039772972681403264\n",
      "Sampled i0=11; beta=0.16358968574110494; gamma=0.14831479701396366; rho_h=0.02329967; rho=0.03804651334835914\n",
      "Death error: 4.846324541818956\n",
      "Sampled i0=11; beta=0.17704182027605453; gamma=0.16270693734409045; rho_h=0.02329967; rho=0.037531861962031975\n",
      "Death error: 4.7064312065337734\n",
      "Sampled i0=11; beta=0.17307277941002525; gamma=0.1559943383737304; rho_h=0.02329967; rho=0.03265528778430035\n",
      "Death error: 5.201267271010913\n",
      "Sampled i0=11; beta=0.17781461389677297; gamma=0.16215556473996132; rho_h=0.02329967; rho=0.03433190681585971\n",
      "Death error: 4.877663640022995\n",
      "Sampled i0=11; beta=0.18341402709946267; gamma=0.16848292312782023; rho_h=0.02329967; rho=0.034627260341637184\n",
      "Death error: 4.767753029378218\n",
      "Sampled i0=11; beta=0.18106361035617605; gamma=0.16747019839704308; rho_h=0.02329967; rho=0.037487645259728364\n",
      "Sampled i0=11; beta=0.1526635408519026; gamma=0.13832379558190752; rho_h=0.02329967; rho=0.042933023987987894\n",
      "Sampled i0=11; beta=0.15983937547851867; gamma=0.14614035661928584; rho_h=0.02329967; rho=0.04297056820997138\n",
      "Death error: 4.6821189417005735\n",
      "Sampled i0=11; beta=0.15949924804008314; gamma=0.1459912730953919; rho_h=0.02329967; rho=0.043132558233775646\n",
      "Sampled i0=11; beta=0.1529131090195099; gamma=0.13751658705428046; rho_h=0.02329967; rho=0.04159548268159498\n",
      "Death error: 4.87783737461851\n",
      "Sampled i0=11; beta=0.16000810878060123; gamma=0.14670092265029575; rho_h=0.02329967; rho=0.04315842417081905\n",
      "Death error: 4.750659447951359\n",
      "Sampled i0=11; beta=0.16899576814559605; gamma=0.1560015192118383; rho_h=0.02329967; rho=0.04249696415995944\n",
      "Death error: 4.648225465672747\n",
      "Sampled i0=11; beta=0.1663328595487151; gamma=0.15266141188969565; rho_h=0.02329967; rho=0.04141575991770613\n",
      "Sampled i0=11; beta=0.16771950841858432; gamma=0.15368563005798666; rho_h=0.02329967; rho=0.040501246921774675\n",
      "Sampled i0=11; beta=0.1709345903872798; gamma=0.1570631079354688; rho_h=0.02329967; rho=0.03948884085228154\n",
      "Sampled i0=11; beta=0.1561024644271172; gamma=0.14220579576947148; rho_h=0.02329967; rho=0.04272817235159199\n",
      "Sampled i0=11; beta=0.14115749267531172; gamma=0.12500716329543082; rho_h=0.02329967; rho=0.043627028194164974\n",
      "Death error: 5.059857138629362\n",
      "Sampled i0=11; beta=0.14138321200156856; gamma=0.12504010597336518; rho_h=0.02329967; rho=0.04365444363260869\n",
      "Death error: 5.204265117053663\n",
      "Sampled i0=11; beta=0.14233373229397328; gamma=0.12686705644004898; rho_h=0.02329967; rho=0.04503062452186819\n",
      "Death error: 4.921344958404356\n",
      "Sampled i0=11; beta=0.16051110305769445; gamma=0.14691099899425933; rho_h=0.02329967; rho=0.04269593757790381\n",
      "Death error: 4.7044585639706185\n",
      "Sampled i0=11; beta=0.15860450030488485; gamma=0.14413545827385654; rho_h=0.02329967; rho=0.04217831653251834\n",
      "Sampled i0=11; beta=0.15844613167815416; gamma=0.14447978769818495; rho_h=0.02329967; rho=0.042166955791839864\n",
      "Sampled i0=11; beta=0.16295167714906927; gamma=0.14819154609771035; rho_h=0.02329967; rho=0.03924850560313772\n",
      "Sampled i0=11; beta=0.1731447761013866; gamma=0.15954448308517533; rho_h=0.02329967; rho=0.03934588247040521\n",
      "Sampled i0=11; beta=0.1608201986548441; gamma=0.14612813950579054; rho_h=0.02329967; rho=0.0402055334631547\n",
      "Sampled i0=11; beta=0.16422794351206793; gamma=0.15033862250707045; rho_h=0.02329967; rho=0.04144883992761043\n",
      "Sampled i0=11; beta=0.18634862432148366; gamma=0.1749005945775; rho_h=0.02329967; rho=0.04232800778298524\n",
      "Sampled i0=11; beta=0.1695878492205089; gamma=0.15512977758598018; rho_h=0.02329967; rho=0.03869415026201032\n",
      "Sampled i0=11; beta=0.1641028276083088; gamma=0.1492355916965989; rho_h=0.02329967; rho=0.04003717318286126\n",
      "Sampled i0=11; beta=0.16788059490202928; gamma=0.1543294337682793; rho_h=0.02329967; rho=0.04048589157279816\n",
      "Sampled i0=11; beta=0.16249880700782576; gamma=0.1482498195634623; rho_h=0.02329967; rho=0.040403966607761174\n",
      "Sampled i0=11; beta=0.1608041712162752; gamma=0.14653075756024025; rho_h=0.02329967; rho=0.04053357814924464\n",
      "Sampled i0=11; beta=0.17053612154269976; gamma=0.15690124308320247; rho_h=0.02329967; rho=0.04034944244589968\n",
      "Death error: 4.669266952443004\n",
      "Sampled i0=11; beta=0.17065387458475162; gamma=0.15675934928505486; rho_h=0.02329967; rho=0.04034961591331114\n",
      "Sampled i0=11; beta=0.17019030430041635; gamma=0.15639538025267496; rho_h=0.02329967; rho=0.04032892492380699\n",
      "Sampled i0=11; beta=0.12232579720307986; gamma=0.11022156715080196; rho_h=0.02329967; rho=0.06338254578654437\n",
      "Sampled i0=11; beta=0.14922628861680753; gamma=0.1338607351586245; rho_h=0.02329967; rho=0.04077962696773754\n",
      "Death error: 5.024997575956034\n",
      "Sampled i0=11; beta=0.1505806999468809; gamma=0.13751909603048756; rho_h=0.02329967; rho=0.04765803110793114\n",
      "Death error: 4.659828554032172\n",
      "Sampled i0=11; beta=0.1773466579079331; gamma=0.1638754945920029; rho_h=0.02329967; rho=0.03907891972465737\n",
      "Sampled i0=11; beta=0.17586068067008023; gamma=0.16214861510478615; rho_h=0.02329967; rho=0.038819168817049325\n",
      "Sampled i0=11; beta=0.1290789298958829; gamma=0.11502923612683777; rho_h=0.02329967; rho=0.053626976960339946\n",
      "Sampled i0=11; beta=0.13006124144120548; gamma=0.11620032361772813; rho_h=0.02329967; rho=0.05444664605317007\n",
      "Sampled i0=11; beta=0.12976188295034347; gamma=0.11712350393153942; rho_h=0.02329967; rho=0.05671903040961131\n",
      "Sampled i0=11; beta=0.10871860370218897; gamma=0.09427393822645799; rho_h=0.02329967; rho=0.06435819424605091\n",
      "Sampled i0=11; beta=0.11065088341016249; gamma=0.09717703201481606; rho_h=0.02329967; rho=0.06638165327391718\n",
      "Sampled i0=11; beta=0.11002821656983108; gamma=0.09717397380237036; rho_h=0.02329967; rho=0.06642845614110636\n",
      "Sampled i0=11; beta=0.13072156391064996; gamma=0.11599230231965266; rho_h=0.02329967; rho=0.0507726004015485\n",
      "Sampled i0=11; beta=0.12338292036443574; gamma=0.1077677985195266; rho_h=0.02329967; rho=0.051251790352357565\n",
      "Death error: 4.926574131363384\n",
      "Sampled i0=11; beta=0.12504572533697558; gamma=0.10870018417424962; rho_h=0.02329967; rho=0.04732334949794837\n",
      "Death error: 5.149680750135041\n",
      "Sampled i0=11; beta=0.12714177801858467; gamma=0.11159852233258341; rho_h=0.02329967; rho=0.04983884207308199\n",
      "Death error: 4.908621022994317\n",
      "Sampled i0=11; beta=0.1677413736182358; gamma=0.1525041161721114; rho_h=0.02329967; rho=0.03733382693544522\n",
      "Sampled i0=11; beta=0.1591150261640752; gamma=0.1431184844023633; rho_h=0.02329967; rho=0.03688783634730497\n",
      "Death error: 5.0613917558920845\n",
      "Sampled i0=11; beta=0.1702814500494728; gamma=0.1573861844820913; rho_h=0.02329967; rho=0.042175123122882165\n",
      "Death error: 4.655479088372649\n",
      "Sampled i0=11; beta=0.16865325113176563; gamma=0.1542751135398761; rho_h=0.02329967; rho=0.039276268121556476\n",
      "Sampled i0=11; beta=0.17628794769988185; gamma=0.1630570811005635; rho_h=0.02329967; rho=0.04029822863876709\n",
      "Sampled i0=11; beta=0.1585650700106404; gamma=0.14489571021252778; rho_h=0.02329967; rho=0.04350685326643761\n",
      "Sampled i0=11; beta=0.15896218762351527; gamma=0.14523866558822052; rho_h=0.02329967; rho=0.04330374783228704\n",
      "Sampled i0=11; beta=0.2517111275702084; gamma=0.23728780259727625; rho_h=0.02329967; rho=0.026531569863835154\n",
      "Sampled i0=11; beta=0.25864775070740215; gamma=0.2450105419161168; rho_h=0.02329967; rho=0.026173775594891067\n",
      "Death error: 4.634851047604294\n",
      "Sampled i0=11; beta=0.21060307395764408; gamma=0.1960629198956713; rho_h=0.02329967; rho=0.030860835674579586\n",
      "Sampled i0=11; beta=0.21869047060944202; gamma=0.20720159199296653; rho_h=0.02329967; rho=0.035680437619648446\n",
      "Sampled i0=11; beta=0.16921651073327384; gamma=0.1538941415839957; rho_h=0.02329967; rho=0.036556080557189195\n",
      "Death error: 4.85081519180039\n",
      "Sampled i0=11; beta=0.1749684582546757; gamma=0.16035876422320225; rho_h=0.02329967; rho=0.03719716545897539\n",
      "Death error: 4.7348798503660126\n",
      "Sampled i0=11; beta=0.17439508402161083; gamma=0.15961285122578248; rho_h=0.02329967; rho=0.03710352706216406\n",
      "Sampled i0=11; beta=0.18610329994264968; gamma=0.17334785864420696; rho_h=0.02329967; rho=0.037452378627821206\n",
      "Death error: 4.8648533231008235\n",
      "Sampled i0=11; beta=0.18408654992348714; gamma=0.1703571804391882; rho_h=0.02329967; rho=0.035643061379094274\n",
      "Sampled i0=11; beta=0.18487497102075823; gamma=0.16998335713978446; rho_h=0.02329967; rho=0.03561870441367824\n",
      "Sampled i0=11; beta=0.18463350423295233; gamma=0.17015032159568017; rho_h=0.02329967; rho=0.03561039183568046\n",
      "Death error: 4.716047196743639\n",
      "Sampled i0=11; beta=0.18462264726413166; gamma=0.17065567972646686; rho_h=0.02329967; rho=0.035604691277281185\n",
      "Sampled i0=11; beta=0.20170622232776714; gamma=0.18873389382328642; rho_h=0.02329967; rho=0.035739887340266153\n",
      "Death error: 4.64991974733128\n",
      "Sampled i0=11; beta=0.19162268562573184; gamma=0.17685896338851373; rho_h=0.02329967; rho=0.033104618562221355\n",
      "Death error: 4.763715261170226\n",
      "Sampled i0=11; beta=0.1679655234190212; gamma=0.15435307547124458; rho_h=0.02329967; rho=0.041461030718038756\n",
      "Death error: 4.66329579470236\n",
      "Sampled i0=11; beta=0.15830338483799625; gamma=0.14279264909361372; rho_h=0.02329967; rho=0.03872754537682309\n",
      "Death error: 4.9002726399330285\n",
      "Sampled i0=11; beta=0.158809046289046; gamma=0.142883568833007; rho_h=0.02329967; rho=0.03871902886553511\n",
      "Sampled i0=11; beta=0.15827258058285623; gamma=0.14332900297904191; rho_h=0.02329967; rho=0.03879893316383879\n",
      "Death error: 5.07775112807917\n",
      "Sampled i0=11; beta=0.1789872190740123; gamma=0.16535139117004669; rho_h=0.02329967; rho=0.039354176734686906\n",
      "Death error: 4.7093363970670055\n",
      "Sampled i0=11; beta=0.132451935571833; gamma=0.11905994125720988; rho_h=0.02329967; rho=0.052906524311413954\n",
      "Sampled i0=11; beta=0.14387930310414912; gamma=0.12963989754684824; rho_h=0.02329967; rho=0.04636327286223998\n",
      "Sampled i0=11; beta=0.14403223254283692; gamma=0.12949531253853683; rho_h=0.02329967; rho=0.046361771525464855\n",
      "Sampled i0=11; beta=0.14421023288782975; gamma=0.12937170696165548; rho_h=0.02329967; rho=0.04636844508461202\n",
      "Death error: 4.85699918998802\n",
      "Sampled i0=11; beta=0.1681384662559939; gamma=0.15494525877018628; rho_h=0.02329967; rho=0.041478724477797324\n",
      "Death error: 4.705830483772657\n",
      "Sampled i0=11; beta=0.14011754513184743; gamma=0.12664747733877327; rho_h=0.02329967; rho=0.05069803872678073\n",
      "Sampled i0=11; beta=0.13363565346721804; gamma=0.12032125387104935; rho_h=0.02329967; rho=0.05421307258392667\n",
      "Sampled i0=11; beta=0.21020083714202883; gamma=0.19654605331147051; rho_h=0.02329967; rho=0.03219004400350363\n",
      "Sampled i0=11; beta=0.20265319449996705; gamma=0.18781312674237316; rho_h=0.02329967; rho=0.03150768064732783\n",
      "Sampled i0=11; beta=0.24953908890606855; gamma=0.23630134784782234; rho_h=0.02329967; rho=0.028310017288605605\n",
      "Sampled i0=11; beta=0.14884327982959997; gamma=0.13512062354494866; rho_h=0.02329967; rho=0.046228650013576816\n",
      "Sampled i0=11; beta=0.14791405144285213; gamma=0.13377016352493282; rho_h=0.02329967; rho=0.045898236121225185\n",
      "Sampled i0=11; beta=0.15187848411227986; gamma=0.1383463803417287; rho_h=0.02329967; rho=0.04636596893655737\n",
      "Sampled i0=11; beta=0.15189340387161435; gamma=0.13917538329125964; rho_h=0.02329967; rho=0.046748389560779244\n",
      "Death error: 4.829897209968595\n",
      "Sampled i0=11; beta=0.1518857899576622; gamma=0.13775901136389826; rho_h=0.02329967; rho=0.04660103120821049\n",
      "Death error: 4.949994590459069\n",
      "Sampled i0=11; beta=0.15133476039504665; gamma=0.13820253841434357; rho_h=0.02329967; rho=0.04655609645897256\n",
      "Death error: 4.71282368001166\n",
      "Sampled i0=11; beta=0.16490113331173964; gamma=0.15205215473779116; rho_h=0.02329967; rho=0.04391355497320719\n",
      "Sampled i0=11; beta=0.15170043275103576; gamma=0.13684496812710903; rho_h=0.02329967; rho=0.043189888540222016\n",
      "Death error: 4.788890633657633\n",
      "Sampled i0=11; beta=0.15147628409610603; gamma=0.13723037427014068; rho_h=0.02329967; rho=0.043192707504791844\n",
      "Sampled i0=11; beta=0.12731119091441007; gamma=0.11330838270680217; rho_h=0.02329967; rho=0.05354874208145985\n",
      "Sampled i0=11; beta=0.15259253566587844; gamma=0.13867202052229533; rho_h=0.02329967; rho=0.04458353142445791\n",
      "Sampled i0=11; beta=0.1703512927947397; gamma=0.15807071914885412; rho_h=0.02329967; rho=0.04406212704579087\n",
      "Sampled i0=11; beta=0.14140125470831205; gamma=0.12662375079777258; rho_h=0.02329967; rho=0.04608288126711972\n",
      "Death error: 4.78629788429683\n",
      "Sampled i0=11; beta=0.1388468560268413; gamma=0.1251718053431083; rho_h=0.02329967; rho=0.04952667840166499\n",
      "Sampled i0=11; beta=0.13692519472625989; gamma=0.121911345988914; rho_h=0.02329967; rho=0.04674213395600222\n",
      "Death error: 4.843324319744122\n",
      "Sampled i0=11; beta=0.18343319264521366; gamma=0.17335864683607477; rho_h=0.02329967; rho=0.04449300173351036\n",
      "Death error: 5.084828195949174\n",
      "Sampled i0=11; beta=0.1829819960309939; gamma=0.17357663730638706; rho_h=0.02329967; rho=0.044494777072055215\n",
      "Death error: 5.752862594073534\n",
      "Sampled i0=11; beta=0.13148023075213575; gamma=0.11598300157371276; rho_h=0.02329967; rho=0.04505403825295953\n",
      "Death error: 5.472205000063132\n",
      "Sampled i0=11; beta=0.1539729051219006; gamma=0.14036295692476214; rho_h=0.02329967; rho=0.045830913684045536\n",
      "Death error: 4.680404501314603\n",
      "Sampled i0=11; beta=0.15471851316394153; gamma=0.14237715372002022; rho_h=0.02329967; rho=0.04891422581229475\n",
      "Sampled i0=11; beta=0.13691972672429759; gamma=0.1208234912134132; rho_h=0.02329967; rho=0.044503324558133085\n",
      "Death error: 5.0070592833838\n",
      "Sampled i0=11; beta=0.1433625515003582; gamma=0.13151832232889432; rho_h=0.02329967; rho=0.05375395819196751\n",
      "Death error: 4.696993149312536\n",
      "Sampled i0=11; beta=0.13887601138262787; gamma=0.12613796418504342; rho_h=0.02329967; rho=0.05340807924295538\n",
      "Sampled i0=11; beta=0.1281642556071948; gamma=0.11279773919572728; rho_h=0.02329967; rho=0.04952677685160303\n",
      "Death error: 4.888024741588851\n",
      "Sampled i0=11; beta=0.15284121387054567; gamma=0.1403598161840315; rho_h=0.02329967; rho=0.048442117913993145\n",
      "Death error: 4.665564164960084\n",
      "Sampled i0=11; beta=0.1520164298675052; gamma=0.13572301305909595; rho_h=0.02329967; rho=0.0391141488637275\n",
      "Death error: 5.030981508305495\n",
      "Sampled i0=11; beta=0.16657379074738024; gamma=0.1522465203347681; rho_h=0.02329967; rho=0.03859426652117072\n",
      "Death error: 4.873497359318315\n",
      "Sampled i0=11; beta=0.1968697388794417; gamma=0.1842292140277117; rho_h=0.02329967; rho=0.035766998684564774\n",
      "Sampled i0=11; beta=0.19256269483823357; gamma=0.17876013581180922; rho_h=0.02329967; rho=0.03576228235850831\n",
      "Death error: 4.67581024388454\n",
      "Sampled i0=11; beta=0.18613515913171608; gamma=0.17282138137938974; rho_h=0.02329967; rho=0.03714162892551198\n",
      "Sampled i0=11; beta=0.19692214966249885; gamma=0.18463471860043099; rho_h=0.02329967; rho=0.03770022588419135\n",
      "Sampled i0=11; beta=0.15137740468657446; gamma=0.13622009448985511; rho_h=0.02329967; rho=0.04139291222856927\n",
      "Death error: 4.865795062326465\n",
      "Sampled i0=11; beta=0.19201968120530338; gamma=0.18117539033995023; rho_h=0.02329967; rho=0.04221384394225417\n",
      "Sampled i0=11; beta=0.1750120757677958; gamma=0.1606059091581766; rho_h=0.02329967; rho=0.0374971764393444\n",
      "Sampled i0=11; beta=0.17446586243080595; gamma=0.15997229725669643; rho_h=0.02329967; rho=0.03746863927432408\n",
      "Sampled i0=11; beta=0.1401943706715503; gamma=0.12596192614914298; rho_h=0.02329967; rho=0.04868213130462821\n",
      "Sampled i0=11; beta=0.12893463784207643; gamma=0.11520086980374049; rho_h=0.02329967; rho=0.05371365298174863\n",
      "Sampled i0=11; beta=0.12875895842101795; gamma=0.11371583198832319; rho_h=0.02329967; rho=0.050545379600194666\n",
      "Sampled i0=11; beta=0.14892132867017305; gamma=0.1357881443200611; rho_h=0.02329967; rho=0.04880464587701292\n",
      "Death error: 4.664624526603139\n",
      "Sampled i0=11; beta=0.15111688897827702; gamma=0.13715640486256492; rho_h=0.02329967; rho=0.045940057970403195\n",
      "Sampled i0=11; beta=0.15962400277494412; gamma=0.1460692573478612; rho_h=0.02329967; rho=0.044625022295071454\n",
      "Sampled i0=11; beta=0.1520045083006957; gamma=0.13800368639689425; rho_h=0.02329967; rho=0.043982307094951004\n",
      "Sampled i0=11; beta=0.15039408547561564; gamma=0.13770846585481963; rho_h=0.02329967; rho=0.0478799687334423\n",
      "Sampled i0=11; beta=0.14215502522083284; gamma=0.126618257663574; rho_h=0.02329967; rho=0.04388145544570572\n",
      "Death error: 4.896067052632783\n"
     ]
    },
    {
     "data": {
      "text/html": [
       "\n",
       "<style>\n",
       "    /* Turns off some styling */\n",
       "    progress {\n",
       "        /* gets rid of default border in Firefox and Opera. */\n",
       "        border: none;\n",
       "        /* Needs to be in here for Safari polyfill so background images work as expected. */\n",
       "        background-size: auto;\n",
       "    }\n",
       "    progress:not([value]), progress:not([value])::-webkit-progress-bar {\n",
       "        background: repeating-linear-gradient(45deg, #7e7e7e, #7e7e7e 10px, #5c5c5c 10px, #5c5c5c 20px);\n",
       "    }\n",
       "    .progress-bar-interrupted, .progress-bar-interrupted::-webkit-progress-bar {\n",
       "        background: #F44336;\n",
       "    }\n",
       "</style>\n"
      ],
      "text/plain": [
       "<IPython.core.display.HTML object>"
      ]
     },
     "metadata": {},
     "output_type": "display_data"
    },
    {
     "data": {
      "text/html": [
       "\n",
       "    <div>\n",
       "      <progress value='300' class='' max='300' style='width:300px; height:20px; vertical-align: middle;'></progress>\n",
       "      100.00% [300/300 00:59&lt;00:00 Sampling chain 1, 0 divergences]\n",
       "    </div>\n",
       "    "
      ],
      "text/plain": [
       "<IPython.core.display.HTML object>"
      ]
     },
     "metadata": {},
     "output_type": "display_data"
    },
    {
     "name": "stdout",
     "output_type": "stream",
     "text": [
      "Sampled i0=9; beta=0.025400129999999996; gamma=0.06851045; rho_h=0.02329967; rho=0.006937619999999999\n",
      "Death error: 137.42490895461006\n",
      "Sampled i0=7; beta=0.025400129999999996; gamma=0.06851045; rho_h=0.02329967; rho=0.006937619999999999\n",
      "Death error: 137.79699425403732\n",
      "Sampled i0=7; beta=0.025400129999999996; gamma=0.06851045; rho_h=0.02329967; rho=0.006937619999999999\n",
      "Sampled i0=6; beta=0.023864006965050748; gamma=0.07610062189790183; rho_h=0.02329967; rho=0.0077204954672195686\n",
      "Death error: 137.94804958714047\n",
      "Sampled i0=6; beta=0.023748600897559105; gamma=0.07553285848781938; rho_h=0.02329967; rho=0.00763022541293112\n",
      "Sampled i0=6; beta=0.023722564428245753; gamma=0.07301641780320466; rho_h=0.02329967; rho=0.007838421077411319\n",
      "Sampled i0=5; beta=0.023479363865478255; gamma=0.07299239225422104; rho_h=0.02329967; rho=0.007910940629141078\n",
      "Death error: 138.10739230742843\n",
      "Sampled i0=5; beta=0.0234372403826579; gamma=0.07284066396106878; rho_h=0.02329967; rho=0.007898756538155586\n",
      "Sampled i0=6; beta=0.02248824919534227; gamma=0.0729686827809527; rho_h=0.02329967; rho=0.00829206089727703\n",
      "Death error: 137.8741973757187\n",
      "Sampled i0=5; beta=0.02082397070708267; gamma=0.07507896834180273; rho_h=0.02329967; rho=0.008594571435853474\n",
      "Death error: 138.0835925420231\n",
      "Sampled i0=5; beta=0.019852066974639326; gamma=0.07225232955487582; rho_h=0.02329967; rho=0.008665072812081433\n",
      "Sampled i0=6; beta=0.02128755211904602; gamma=0.06941495380385852; rho_h=0.02329967; rho=0.008594799798992102\n",
      "Death error: 137.8352650175819\n",
      "Sampled i0=7; beta=0.012833467919624763; gamma=0.07615607297582244; rho_h=0.02329967; rho=0.027898472707374628\n",
      "Death error: 135.08545565726715\n",
      "Sampled i0=5; beta=0.008764750157821705; gamma=0.055414503296838884; rho_h=0.02329967; rho=0.031050363712106815\n",
      "Death error: 135.97695934424968\n",
      "Sampled i0=5; beta=0.013795978714770117; gamma=0.04231778107327244; rho_h=0.02329967; rho=0.047095727998752404\n",
      "Death error: 133.5388300357412\n",
      "Sampled i0=6; beta=0.01417891892158306; gamma=0.0439085508115752; rho_h=0.02329967; rho=0.04564488688224523\n",
      "Death error: 132.62810888269988\n",
      "Sampled i0=6; beta=0.011283683959534949; gamma=0.04176363898302553; rho_h=0.02329967; rho=0.036229560019074354\n",
      "Death error: 134.29594249697712\n",
      "Sampled i0=6; beta=0.013465706587153915; gamma=0.0350414260716422; rho_h=0.02329967; rho=0.04395053504205048\n",
      "Death error: 132.7243221583043\n",
      "Sampled i0=7; beta=0.013711498467880947; gamma=0.03109105798253507; rho_h=0.02329967; rho=0.04473582047251591\n",
      "Death error: 131.352971425533\n",
      "Sampled i0=8; beta=0.026550103993365312; gamma=0.055948082083132185; rho_h=0.02329967; rho=0.04321725860993592\n",
      "Death error: 128.69468033827388\n",
      "Sampled i0=8; beta=0.016178591771514664; gamma=0.04154765442894012; rho_h=0.02329967; rho=0.03453944460388912\n",
      "Death error: 132.09099073499118\n",
      "Sampled i0=9; beta=0.01479083796509867; gamma=0.040306382923638924; rho_h=0.02329967; rho=0.034161674411576526\n",
      "Death error: 131.57692810024952\n",
      "Sampled i0=9; beta=0.014533659400045126; gamma=0.03863124643158862; rho_h=0.02329967; rho=0.032704178279755636\n",
      "Death error: 131.8823402115954\n",
      "Sampled i0=9; beta=0.02124292380903991; gamma=0.042486430287254046; rho_h=0.02329967; rho=0.022972367334262677\n",
      "Death error: 132.9699526580379\n",
      "Sampled i0=9; beta=0.02230882348000086; gamma=0.04308513617656998; rho_h=0.02329967; rho=0.02915912733720376\n",
      "Death error: 131.1180365452707\n",
      "Sampled i0=9; beta=0.023053619313057046; gamma=0.04320736299222258; rho_h=0.02329967; rho=0.04454900954959861\n",
      "Death error: 126.73633873841005\n",
      "Sampled i0=7; beta=0.018673186288367585; gamma=0.03407580364977081; rho_h=0.02329967; rho=0.04761981860714723\n",
      "Death error: 129.41617282312183\n",
      "Sampled i0=8; beta=0.018856982604198085; gamma=0.027517563463499876; rho_h=0.02329967; rho=0.03995210414987995\n",
      "Death error: 129.2292121822413\n",
      "Sampled i0=9; beta=0.021383997220984087; gamma=0.02747960473961664; rho_h=0.02329967; rho=0.036016536057760784\n",
      "Death error: 127.90996791544009\n",
      "Sampled i0=11; beta=0.02171288426310668; gamma=0.030340328279329153; rho_h=0.02329967; rho=0.03752165981407026\n",
      "Death error: 125.1530933276348\n",
      "Sampled i0=11; beta=0.021837286654210385; gamma=0.0312150854553182; rho_h=0.02329967; rho=0.037777979177677355\n",
      "Sampled i0=10; beta=0.00923847797548778; gamma=0.023928639518352852; rho_h=0.02329967; rho=0.031748897062666315\n",
      "Death error: 132.4003743111225\n",
      "Sampled i0=10; beta=0.010278558896638517; gamma=0.027277457630448004; rho_h=0.02329967; rho=0.027444540604243468\n",
      "Death error: 133.03808826242448\n",
      "Sampled i0=10; beta=0.008703575306307672; gamma=0.02743017028319163; rho_h=0.02329967; rho=0.03061176880677028\n",
      "Death error: 132.71394545143252\n",
      "Sampled i0=10; beta=0.008984568426862292; gamma=0.047083266639460185; rho_h=0.02329967; rho=0.0427444145076232\n",
      "Death error: 130.41346033296423\n",
      "Sampled i0=11; beta=0.014092106535216881; gamma=0.04336615989406242; rho_h=0.02329967; rho=0.04361415227596118\n",
      "Death error: 127.89080444204193\n",
      "Sampled i0=10; beta=0.02448904042459032; gamma=0.025200405984005365; rho_h=0.02329967; rho=0.05094811667933887\n",
      "Death error: 118.51798804496183\n",
      "Sampled i0=9; beta=0.028201263350487754; gamma=0.02455745792027894; rho_h=0.02329967; rho=0.040618610979788694\n",
      "Death error: 120.7966803175324\n",
      "Sampled i0=9; beta=0.035511369997425254; gamma=0.025796580025493013; rho_h=0.02329967; rho=0.040807179771402004\n",
      "Death error: 111.90519458523214\n",
      "Sampled i0=10; beta=0.040480330785995854; gamma=0.021939766631237794; rho_h=0.02329967; rho=0.040844548434044795\n",
      "Death error: 94.48282763124611\n",
      "Sampled i0=11; beta=0.04113842635065915; gamma=0.02125622191778443; rho_h=0.02329967; rho=0.04173174178681936\n",
      "Death error: 86.72889283090383\n",
      "Sampled i0=11; beta=0.041823850589691465; gamma=0.02141345013527184; rho_h=0.02329967; rho=0.042103382467074055\n",
      "Death error: 84.18795350523943\n",
      "Sampled i0=13; beta=0.04516228019950932; gamma=0.021787110166111047; rho_h=0.02329967; rho=0.0444772183664781\n",
      "Death error: 59.308044819098036\n",
      "Sampled i0=13; beta=0.05558721440490269; gamma=0.021307734850293542; rho_h=0.02329967; rho=0.04251770491484355\n",
      "Death error: 19.084918986974554\n",
      "Sampled i0=12; beta=0.05346295460152805; gamma=0.01930008802237264; rho_h=0.02329967; rho=0.044656221208373835\n",
      "Death error: 23.586892625667755\n",
      "Sampled i0=12; beta=0.05660723869993399; gamma=0.01714483419661414; rho_h=0.02329967; rho=0.03865433051682464\n",
      "Death error: 22.564699617414284\n",
      "Sampled i0=12; beta=0.056610162810681076; gamma=0.01935300034711219; rho_h=0.02329967; rho=0.04413684548450353\n",
      "Death error: 20.5191194787732\n",
      "Sampled i0=12; beta=0.056400556749916585; gamma=0.01964252480279737; rho_h=0.02329967; rho=0.04600866679314625\n",
      "Death error: 20.147468000197268\n",
      "Sampled i0=12; beta=0.06764330896779205; gamma=0.04359728573150285; rho_h=0.02329967; rho=0.057603506752778734\n",
      "Death error: 9.313682536083457\n",
      "Sampled i0=12; beta=0.06764330896779205; gamma=0.04359728573150285; rho_h=0.02329967; rho=0.057603506752778734\n",
      "Sampled i0=12; beta=0.1167488711050015; gamma=0.09998429778461017; rho_h=0.02329967; rho=0.045940519275476044\n",
      "Death error: 5.233744262701087\n",
      "Sampled i0=12; beta=0.11716993482089628; gamma=0.10032374281326904; rho_h=0.02329967; rho=0.04564555075269992\n",
      "Sampled i0=12; beta=0.12142661897598933; gamma=0.10635222055782244; rho_h=0.02329967; rho=0.04916601214161505\n",
      "Death error: 4.83711830746477\n",
      "Sampled i0=12; beta=0.14992292347118405; gamma=0.1369650574287783; rho_h=0.02329967; rho=0.04434686834572144\n",
      "Death error: 4.651637618935439\n",
      "Sampled i0=12; beta=0.14826443339504103; gamma=0.13504388369430773; rho_h=0.02329967; rho=0.043531330956494606\n",
      "Sampled i0=11; beta=0.14869480693011444; gamma=0.13458511019596792; rho_h=0.02329967; rho=0.04353453532866128\n",
      "Death error: 5.022914938412846\n",
      "Sampled i0=12; beta=0.14856442632980282; gamma=0.13447465871738942; rho_h=0.02329967; rho=0.04351876223260834\n",
      "Death error: 4.840702727868812\n",
      "Sampled i0=13; beta=0.14207987713692216; gamma=0.12691655325125778; rho_h=0.02329967; rho=0.03958182460593149\n",
      "Death error: 4.942060419401331\n",
      "Sampled i0=13; beta=0.14528768522013202; gamma=0.1304254596492319; rho_h=0.02329967; rho=0.03919860045396346\n",
      "Sampled i0=13; beta=0.14526447241958151; gamma=0.13261660037117182; rho_h=0.02329967; rho=0.042909551526663293\n",
      "Death error: 4.665709142515263\n",
      "Sampled i0=13; beta=0.14635346737190438; gamma=0.13301011914185132; rho_h=0.02329967; rho=0.04199438429106671\n",
      "Sampled i0=13; beta=0.14750115069436326; gamma=0.13592029655809784; rho_h=0.02329967; rho=0.0439935810032433\n",
      "Death error: 4.821741016926211\n",
      "Sampled i0=13; beta=0.14793091648904638; gamma=0.13571712748315048; rho_h=0.02329967; rho=0.044047018763052975\n",
      "Death error: 4.677384212529012\n",
      "Sampled i0=13; beta=0.14745470458403392; gamma=0.13408301538188902; rho_h=0.02329967; rho=0.04112949920325834\n",
      "Sampled i0=13; beta=0.153406569147862; gamma=0.13974351291794618; rho_h=0.02329967; rho=0.03793715272087638\n",
      "Sampled i0=13; beta=0.1710471186344309; gamma=0.15867304432053536; rho_h=0.02329967; rho=0.03661034375636064\n",
      "Sampled i0=13; beta=0.17672271872740408; gamma=0.16476808807372162; rho_h=0.02329967; rho=0.03668399545048251\n",
      "Sampled i0=13; beta=0.16996005762142508; gamma=0.15552882838420726; rho_h=0.02329967; rho=0.03274982050678851\n",
      "Sampled i0=13; beta=0.17238595536670615; gamma=0.15880855150232692; rho_h=0.02329967; rho=0.03416778195492645\n",
      "Sampled i0=13; beta=0.10965512624555657; gamma=0.09432115188533685; rho_h=0.02329967; rho=0.049679863849712506\n",
      "Death error: 4.925446626322188\n",
      "Sampled i0=13; beta=0.10978336043447977; gamma=0.09688256876080102; rho_h=0.02329967; rho=0.05810787128467941\n",
      "Death error: 4.656842764391088\n",
      "Sampled i0=13; beta=0.10596927678696362; gamma=0.0900706240515223; rho_h=0.02329967; rho=0.0503841641360598\n",
      "Death error: 5.001456275236273\n",
      "Sampled i0=13; beta=0.10582406543131727; gamma=0.09052473922222908; rho_h=0.02329967; rho=0.05268151188036511\n",
      "Death error: 4.870867330261767\n",
      "Sampled i0=13; beta=0.10422763778215918; gamma=0.08734993035521259; rho_h=0.02329967; rho=0.04808788467770787\n",
      "Death error: 5.27306970562424\n",
      "Sampled i0=13; beta=0.10158419259073496; gamma=0.08453071333129655; rho_h=0.02329967; rho=0.0486513719372398\n",
      "Death error: 5.378799424619142\n",
      "Sampled i0=13; beta=0.10173528651546994; gamma=0.08461320282715254; rho_h=0.02329967; rho=0.04881784264617745\n",
      "Sampled i0=13; beta=0.1146019041892066; gamma=0.10064049547884962; rho_h=0.02329967; rho=0.05202762482041182\n",
      "Death error: 4.699844161059565\n",
      "Sampled i0=13; beta=0.1145102370772265; gamma=0.10007476992202259; rho_h=0.02329967; rho=0.050430194857457804\n",
      "Sampled i0=13; beta=0.11465903998275889; gamma=0.09879527184295953; rho_h=0.02329967; rho=0.045087689242304746\n",
      "Death error: 5.126092282087423\n",
      "Sampled i0=13; beta=0.12177343907396167; gamma=0.10598977140160476; rho_h=0.02329967; rho=0.04306096932345766\n",
      "Death error: 4.980489311334453\n",
      "Sampled i0=13; beta=0.12187490621747514; gamma=0.10856133022008274; rho_h=0.02329967; rho=0.05029906204748259\n",
      "Death error: 4.664124509554805\n",
      "Sampled i0=13; beta=0.10588486839573533; gamma=0.09036854984314041; rho_h=0.02329967; rho=0.050097421431640234\n",
      "Death error: 5.130309119722911\n",
      "Sampled i0=13; beta=0.11634056026701585; gamma=0.10275286378076708; rho_h=0.02329967; rho=0.05018153942819012\n",
      "Death error: 4.920113799131894\n",
      "Sampled i0=13; beta=0.11016205961186837; gamma=0.0953343762996776; rho_h=0.02329967; rho=0.05250355215239258\n",
      "Death error: 4.808135235221544\n",
      "Sampled i0=13; beta=0.10476051304695158; gamma=0.08932508124329146; rho_h=0.02329967; rho=0.054302432230210154\n",
      "Death error: 4.957978037612294\n",
      "Sampled i0=13; beta=0.10622395846013159; gamma=0.09040935303134094; rho_h=0.02329967; rho=0.050315656531975665\n",
      "Sampled i0=13; beta=0.12714076966651885; gamma=0.11493858181488954; rho_h=0.02329967; rho=0.052081590525969654\n",
      "Death error: 4.692277273034171\n",
      "Sampled i0=13; beta=0.12883698321532366; gamma=0.11438281648634886; rho_h=0.02329967; rho=0.04569241460613951\n",
      "Death error: 4.820570735938149\n",
      "Sampled i0=13; beta=0.12882519173297097; gamma=0.11419824256093997; rho_h=0.02329967; rho=0.04572361869273624\n",
      "Death error: 4.931314813908373\n",
      "Sampled i0=13; beta=0.12865520246248385; gamma=0.11424153293636939; rho_h=0.02329967; rho=0.04536167835647152\n",
      "Death error: 4.755668264633928\n",
      "Sampled i0=13; beta=0.1301701799934324; gamma=0.11640823426505552; rho_h=0.02329967; rho=0.04579978911908923\n",
      "Sampled i0=13; beta=0.12188039179987661; gamma=0.10723546403267588; rho_h=0.02329967; rho=0.046497839689646096\n",
      "Sampled i0=13; beta=0.12078226911938883; gamma=0.10814168192684905; rho_h=0.02329967; rho=0.052851067287423864\n",
      "Death error: 4.656372017004017\n",
      "Sampled i0=13; beta=0.12547959244947307; gamma=0.11105952933057116; rho_h=0.02329967; rho=0.045383079060024034\n",
      "Sampled i0=13; beta=0.1377914078029407; gamma=0.12476441309525445; rho_h=0.02329967; rho=0.04504058716352819\n",
      "Death error: 4.649656594084636\n",
      "Sampled i0=13; beta=0.12170142780253689; gamma=0.10658844933669608; rho_h=0.02329967; rho=0.044570425967381255\n",
      "Death error: 4.899386784003271\n",
      "Sampled i0=13; beta=0.1345430434126372; gamma=0.12189614126697507; rho_h=0.02329967; rho=0.047056434339091506\n",
      "Death error: 4.652024751144972\n",
      "Sampled i0=13; beta=0.1308868654892451; gamma=0.11617923335277493; rho_h=0.02329967; rho=0.04329330264924214\n",
      "Death error: 4.7608546517016626\n",
      "Sampled i0=13; beta=0.1351099083234192; gamma=0.12227862328064977; rho_h=0.02329967; rho=0.04721282328877535\n",
      "Sampled i0=13; beta=0.11862211273850858; gamma=0.10314067960042393; rho_h=0.02329967; rho=0.04615768766524719\n",
      "Death error: 4.886135502767108\n",
      "Sampled i0=13; beta=0.1333314087324384; gamma=0.12108444469275549; rho_h=0.02329967; rho=0.04922347370963293\n",
      "Death error: 4.681318338955925\n",
      "Sampled i0=13; beta=0.15377906031940006; gamma=0.13826135636680226; rho_h=0.02329967; rho=0.034643711693536625\n",
      "Death error: 4.853879993482303\n",
      "Sampled i0=13; beta=0.17015885356841554; gamma=0.15725848557798827; rho_h=0.02329967; rho=0.03598347391956148\n",
      "Death error: 4.642546579412015\n",
      "Sampled i0=13; beta=0.11886408941237336; gamma=0.10435760007625172; rho_h=0.02329967; rho=0.04737947763730867\n",
      "Death error: 4.827195893267738\n",
      "Sampled i0=13; beta=0.11914219677252075; gamma=0.10425645335794552; rho_h=0.02329967; rho=0.047375422102374706\n",
      "Sampled i0=13; beta=0.1198366292330779; gamma=0.10544797650193362; rho_h=0.02329967; rho=0.04845612463059459\n",
      "Sampled i0=13; beta=0.1190550459271887; gamma=0.10480620650321337; rho_h=0.02329967; rho=0.0482164838167315\n",
      "Sampled i0=13; beta=0.12243161406890399; gamma=0.10962754152080781; rho_h=0.02329967; rho=0.05132613185947711\n",
      "Death error: 4.663135567484509\n",
      "Sampled i0=13; beta=0.12255063226441856; gamma=0.11013486407543689; rho_h=0.02329967; rho=0.05161772248611752\n",
      "Sampled i0=13; beta=0.1226323552434611; gamma=0.11026875986595396; rho_h=0.02329967; rho=0.05166353985317258\n",
      "Sampled i0=13; beta=0.12215699166632343; gamma=0.1096785278187381; rho_h=0.02329967; rho=0.051606018081104384\n",
      "Sampled i0=13; beta=0.12292724180950494; gamma=0.11082937959075022; rho_h=0.02329967; rho=0.05237227073375307\n",
      "Sampled i0=13; beta=0.12785949514196177; gamma=0.11307581536064389; rho_h=0.02329967; rho=0.043845166330916965\n",
      "Sampled i0=13; beta=0.12911696668586806; gamma=0.11523404789758301; rho_h=0.02329967; rho=0.04555153253456212\n",
      "Sampled i0=13; beta=0.14480539600409628; gamma=0.13160993341432656; rho_h=0.02329967; rho=0.0419462304981017\n",
      "Sampled i0=13; beta=0.14358303947647855; gamma=0.13050910256794718; rho_h=0.02329967; rho=0.041956652682734186\n",
      "Sampled i0=13; beta=0.14402074981316765; gamma=0.1300637145831053; rho_h=0.02329967; rho=0.041916021141570545\n",
      "Death error: 4.81962324897986\n",
      "Sampled i0=13; beta=0.14317483412445267; gamma=0.13032541760149732; rho_h=0.02329967; rho=0.0419913523982458\n",
      "Sampled i0=13; beta=0.14201116826092056; gamma=0.12870447750434258; rho_h=0.02329967; rho=0.04196467572716017\n",
      "Death error: 4.70515339491803\n",
      "Sampled i0=13; beta=0.14224046157616999; gamma=0.12830647657618738; rho_h=0.02329967; rho=0.04179252122780334\n",
      "Sampled i0=13; beta=0.13801152745442902; gamma=0.12513951826794112; rho_h=0.02329967; rho=0.04417066597880622\n",
      "Sampled i0=13; beta=0.13838214586714553; gamma=0.12508489064838202; rho_h=0.02329967; rho=0.04420277813267222\n",
      "Sampled i0=13; beta=0.13507892876821473; gamma=0.12131299885394113; rho_h=0.02329967; rho=0.04434541226972716\n",
      "Sampled i0=13; beta=0.13460126725531996; gamma=0.12077004593646698; rho_h=0.02329967; rho=0.04403813937043776\n",
      "Sampled i0=13; beta=0.12562345724299762; gamma=0.11197767554469278; rho_h=0.02329967; rho=0.04846555958736307\n",
      "Sampled i0=13; beta=0.11539014995126651; gamma=0.1011207413613055; rho_h=0.02329967; rho=0.04982367452258993\n",
      "Sampled i0=13; beta=0.11576534989383717; gamma=0.10108549276364608; rho_h=0.02329967; rho=0.049172204385027785\n",
      "Sampled i0=13; beta=0.11259258910250611; gamma=0.09813345332851406; rho_h=0.02329967; rho=0.05154597653643912\n",
      "Sampled i0=13; beta=0.11201694783628571; gamma=0.098458162801862; rho_h=0.02329967; rho=0.051388998437568875\n",
      "Death error: 5.188771192250271\n",
      "Sampled i0=13; beta=0.11220628915345487; gamma=0.09841674045922166; rho_h=0.02329967; rho=0.051378266354244626\n",
      "Death error: 4.997816449484908\n",
      "Sampled i0=13; beta=0.10645997871073455; gamma=0.09203879757131014; rho_h=0.02329967; rho=0.05240411679222685\n",
      "Death error: 5.107077059318712\n",
      "Sampled i0=13; beta=0.10816198720894864; gamma=0.09322743501061684; rho_h=0.02329967; rho=0.05292732188364793\n",
      "Death error: 4.811438967513937\n",
      "Sampled i0=13; beta=0.12614993628312846; gamma=0.11239333702447724; rho_h=0.02329967; rho=0.0477744353618782\n",
      "Death error: 4.683342398836752\n",
      "Sampled i0=13; beta=0.13895332831525886; gamma=0.1248746879568165; rho_h=0.02329967; rho=0.04239929735851733\n",
      "Sampled i0=13; beta=0.12566007926337336; gamma=0.1126407948650463; rho_h=0.02329967; rho=0.049210678193617\n",
      "Sampled i0=13; beta=0.12361721897945595; gamma=0.11073592047531343; rho_h=0.02329967; rho=0.04953285813346508\n",
      "Sampled i0=13; beta=0.12041872002529942; gamma=0.10711481036733565; rho_h=0.02329967; rho=0.052000639610978096\n",
      "Sampled i0=13; beta=0.12084536553456235; gamma=0.10744659166410893; rho_h=0.02329967; rho=0.0517886892166764\n",
      "Sampled i0=13; beta=0.11721753635880369; gamma=0.10489518717389304; rho_h=0.02329967; rho=0.05529155389967698\n",
      "Sampled i0=13; beta=0.11782017093321101; gamma=0.10488206786645632; rho_h=0.02329967; rho=0.05530963834025402\n",
      "Death error: 4.790058028955528\n",
      "Sampled i0=13; beta=0.11751103011225708; gamma=0.10497146544730408; rho_h=0.02329967; rho=0.055262413734975764\n",
      "Death error: 4.6612378575814155\n",
      "Sampled i0=13; beta=0.11830334631579495; gamma=0.1054386286219242; rho_h=0.02329967; rho=0.054226671713039826\n",
      "Sampled i0=13; beta=0.12507055028899133; gamma=0.11154207432706523; rho_h=0.02329967; rho=0.047973448428894096\n",
      "Sampled i0=13; beta=0.12956094571521748; gamma=0.1160219071244028; rho_h=0.02329967; rho=0.04618391010938104\n",
      "Sampled i0=13; beta=0.14172765826677877; gamma=0.1300865979373784; rho_h=0.02329967; rho=0.04751694924982935\n",
      "Sampled i0=13; beta=0.14222610139408343; gamma=0.13029076094626102; rho_h=0.02329967; rho=0.046205969554917334\n",
      "Sampled i0=13; beta=0.13808417553438673; gamma=0.12388696675100738; rho_h=0.02329967; rho=0.04229925232256676\n",
      "Sampled i0=13; beta=0.13683126286885286; gamma=0.12228555874376372; rho_h=0.02329967; rho=0.04123947071610399\n",
      "Sampled i0=13; beta=0.13159051600108115; gamma=0.1174160704517725; rho_h=0.02329967; rho=0.04334795480225312\n",
      "Sampled i0=13; beta=0.13551504967529698; gamma=0.12193990758059604; rho_h=0.02329967; rho=0.04428263340894956\n",
      "Sampled i0=13; beta=0.12600668097051326; gamma=0.11128985790252555; rho_h=0.02329967; rho=0.044664075389967396\n",
      "Death error: 4.770458648540836\n",
      "Sampled i0=13; beta=0.12757144507715884; gamma=0.11576468647673101; rho_h=0.02329967; rho=0.05248272080220847\n",
      "Sampled i0=13; beta=0.11152129528820007; gamma=0.09567699722806046; rho_h=0.02329967; rho=0.04694649627845686\n",
      "Death error: 5.064103972682017\n",
      "Sampled i0=13; beta=0.10116276694084382; gamma=0.08874215777705546; rho_h=0.02329967; rho=0.0642884756322493\n",
      "Death error: 4.698312568109113\n",
      "Sampled i0=13; beta=0.10252667113531505; gamma=0.08959400551051695; rho_h=0.02329967; rho=0.06374652115620409\n",
      "Sampled i0=13; beta=0.10272252058705952; gamma=0.08986948630615114; rho_h=0.02329967; rho=0.06229465740439005\n",
      "Sampled i0=13; beta=0.0851398182839801; gamma=0.07052480471104072; rho_h=0.02329967; rho=0.07061153138345445\n",
      "Death error: 4.7893616022162595\n",
      "Sampled i0=13; beta=0.08999510141513987; gamma=0.07559723257209211; rho_h=0.02329967; rho=0.06656988575476784\n",
      "Sampled i0=13; beta=0.08846324656946286; gamma=0.07289773467489166; rho_h=0.02329967; rho=0.06408470076525025\n",
      "Death error: 4.937501265683627\n",
      "Sampled i0=13; beta=0.0872242238405557; gamma=0.07130653601578246; rho_h=0.02329967; rho=0.06296010346865337\n",
      "Death error: 5.054164656530161\n",
      "Sampled i0=13; beta=0.09462297778275085; gamma=0.08142266808773342; rho_h=0.02329967; rho=0.06873232443547549\n",
      "Death error: 4.703734015181975\n",
      "Sampled i0=13; beta=0.09858378446811349; gamma=0.08506503087378905; rho_h=0.02329967; rho=0.06206896642641032\n",
      "Sampled i0=13; beta=0.10746819113064729; gamma=0.09554093119223298; rho_h=0.02329967; rho=0.06349222672033215\n",
      "Sampled i0=13; beta=0.10670315010471798; gamma=0.09367888232424727; rho_h=0.02329967; rho=0.05914733510178194\n",
      "Sampled i0=13; beta=0.12285134424763809; gamma=0.10793451694644982; rho_h=0.02329967; rho=0.045893783517455225\n",
      "Death error: 4.7949659826792645\n",
      "Sampled i0=13; beta=0.11149900334842532; gamma=0.09679548904647764; rho_h=0.02329967; rho=0.051169592722055346\n",
      "Sampled i0=13; beta=0.15472787084126596; gamma=0.14045982090335368; rho_h=0.02329967; rho=0.03684668997816041\n",
      "Sampled i0=13; beta=0.15463980651177756; gamma=0.14063466875925093; rho_h=0.02329967; rho=0.03669269625481569\n",
      "Sampled i0=13; beta=0.15544795272856582; gamma=0.14336450419601268; rho_h=0.02329967; rho=0.0419279475264283\n",
      "Sampled i0=13; beta=0.147534616890676; gamma=0.13339239407554138; rho_h=0.02329967; rho=0.038723581379360834\n",
      "Sampled i0=13; beta=0.1623183003373716; gamma=0.1482210687682665; rho_h=0.02329967; rho=0.03527235270805866\n",
      "Sampled i0=13; beta=0.15292910523547415; gamma=0.1379499976081952; rho_h=0.02329967; rho=0.03552416240883578\n",
      "Death error: 4.78224845037092\n",
      "Sampled i0=13; beta=0.1532297716872877; gamma=0.13784849335490273; rho_h=0.02329967; rho=0.035525630616956204\n",
      "Sampled i0=13; beta=0.15433096743971758; gamma=0.1404923328613477; rho_h=0.02329967; rho=0.03862454923433584\n",
      "Death error: 4.709097641958799\n",
      "Sampled i0=13; beta=0.15262323032176667; gamma=0.13818047253925786; rho_h=0.02329967; rho=0.0372720529011049\n",
      "Sampled i0=13; beta=0.1630456269430156; gamma=0.14895664619859536; rho_h=0.02329967; rho=0.034629424038024804\n",
      "Sampled i0=13; beta=0.1471202029850119; gamma=0.13103246986845662; rho_h=0.02329967; rho=0.03515119194547301\n",
      "Death error: 4.967036749876252\n",
      "Sampled i0=13; beta=0.1455791647941353; gamma=0.12923649768567713; rho_h=0.02329967; rho=0.03434077068887331\n",
      "Sampled i0=13; beta=0.19196228533620935; gamma=0.18079844287153557; rho_h=0.02329967; rho=0.03517619330182825\n",
      "Death error: 4.756452192910146\n",
      "Sampled i0=13; beta=0.18265172746232222; gamma=0.17062639082023587; rho_h=0.02329967; rho=0.035203792358738197\n",
      "Sampled i0=13; beta=0.11858850127402121; gamma=0.10536901286240037; rho_h=0.02329967; rho=0.053513409086723904\n",
      "Sampled i0=13; beta=0.13020183813458366; gamma=0.11551037963272835; rho_h=0.02329967; rho=0.041405918310721324\n",
      "Death error: 5.049793784547001\n",
      "Sampled i0=13; beta=0.12505543680915393; gamma=0.11289112527451083; rho_h=0.02329967; rho=0.05383758758794943\n",
      "Death error: 4.767927302965882\n",
      "Sampled i0=13; beta=0.12442736214781648; gamma=0.11275622482191254; rho_h=0.02329967; rho=0.053662898975257424\n",
      "Sampled i0=13; beta=0.12721130669689662; gamma=0.114740256074942; rho_h=0.02329967; rho=0.05009825610904965\n",
      "Sampled i0=13; beta=0.18703349481280457; gamma=0.1746530287578534; rho_h=0.02329967; rho=0.03384589629169164\n",
      "Sampled i0=13; beta=0.19003022827824986; gamma=0.17837343412003742; rho_h=0.02329967; rho=0.03495264531927313\n",
      "Sampled i0=13; beta=0.18623985057528686; gamma=0.17360094300660087; rho_h=0.02329967; rho=0.03431255834963338\n",
      "Sampled i0=13; beta=0.18831196581517531; gamma=0.17259231605387443; rho_h=0.02329967; rho=0.02807748130162916\n",
      "Death error: 4.920177339997815\n",
      "Sampled i0=13; beta=0.18820901782012453; gamma=0.17248867593158512; rho_h=0.02329967; rho=0.028077742801622174\n",
      "Sampled i0=13; beta=0.15003932842974568; gamma=0.13591223865653765; rho_h=0.02329967; rho=0.038737608769004984\n",
      "Death error: 4.695437921491802\n",
      "Sampled i0=13; beta=0.12254462986793846; gamma=0.10885099030210045; rho_h=0.02329967; rho=0.04923249124947158\n",
      "Sampled i0=13; beta=0.12285252783247959; gamma=0.10928163428526308; rho_h=0.02329967; rho=0.04892117312123032\n",
      "Sampled i0=13; beta=0.11709382036819453; gamma=0.10339226163496766; rho_h=0.02329967; rho=0.05206347314253267\n",
      "Sampled i0=13; beta=0.11664297862772915; gamma=0.1033153957532843; rho_h=0.02329967; rho=0.05196559962621853\n",
      "Sampled i0=13; beta=0.117221394026181; gamma=0.10399702184790093; rho_h=0.02329967; rho=0.05193852320567014\n",
      "Sampled i0=13; beta=0.1166083758570347; gamma=0.1034872262967525; rho_h=0.02329967; rho=0.05275873382929465\n",
      "Sampled i0=13; beta=0.11641603787231836; gamma=0.10350998647691131; rho_h=0.02329967; rho=0.05275508533696012\n",
      "Sampled i0=13; beta=0.12473916828058378; gamma=0.11057402248820723; rho_h=0.02329967; rho=0.04643846928874477\n",
      "Sampled i0=13; beta=0.13042598686937526; gamma=0.11768867951105358; rho_h=0.02329967; rho=0.04873464969075392\n",
      "Sampled i0=13; beta=0.16470046341438344; gamma=0.15236663033196957; rho_h=0.02329967; rho=0.03777543196698177\n",
      "Sampled i0=13; beta=0.16564787498911046; gamma=0.1529392681965994; rho_h=0.02329967; rho=0.0374572523997987\n",
      "Sampled i0=13; beta=0.16501183170822248; gamma=0.15259416603165046; rho_h=0.02329967; rho=0.03757233128320589\n",
      "Sampled i0=13; beta=0.13635650022244813; gamma=0.12062198294065701; rho_h=0.02329967; rho=0.03849796870094626\n",
      "Death error: 4.915551669552714\n",
      "Sampled i0=13; beta=0.11318624115922357; gamma=0.09955959198157271; rho_h=0.02329967; rho=0.05387046505629373\n",
      "Death error: 4.677703071897553\n",
      "Sampled i0=13; beta=0.12454692774610623; gamma=0.11097452681198774; rho_h=0.02329967; rho=0.04856537216382441\n",
      "Sampled i0=13; beta=0.11103420053105545; gamma=0.09642799826903954; rho_h=0.02329967; rho=0.0521762036306874\n",
      "Sampled i0=13; beta=0.11178542236277099; gamma=0.09782874709688434; rho_h=0.02329967; rho=0.05331867511165728\n",
      "Sampled i0=13; beta=0.11062602933040538; gamma=0.09571097460731448; rho_h=0.02329967; rho=0.05098656449111245\n",
      "Death error: 4.814570772843296\n",
      "Sampled i0=13; beta=0.1522968568865839; gamma=0.1386330589638486; rho_h=0.02329967; rho=0.038790757519093555\n",
      "Death error: 4.660879299713583\n",
      "Sampled i0=13; beta=0.1520902215459397; gamma=0.13837891489107532; rho_h=0.02329967; rho=0.038746394547423214\n",
      "Sampled i0=13; beta=0.10884174582262812; gamma=0.0967532134516924; rho_h=0.02329967; rho=0.05986250444889117\n",
      "Sampled i0=13; beta=0.11905606267543226; gamma=0.10377538069708153; rho_h=0.02329967; rho=0.04590683097254173\n",
      "Death error: 4.8626478688219645\n",
      "Sampled i0=13; beta=0.12101453298176301; gamma=0.10650854933863614; rho_h=0.02329967; rho=0.04782601736728216\n",
      "Death error: 4.746932723748945\n",
      "Sampled i0=13; beta=0.12056351039813248; gamma=0.10473452831855223; rho_h=0.02329967; rho=0.04390377624265822\n",
      "Death error: 4.953666006327841\n",
      "Sampled i0=13; beta=0.11150876553227457; gamma=0.09555574026217482; rho_h=0.02329967; rho=0.047656686581032184\n",
      "Sampled i0=13; beta=0.12456385516323329; gamma=0.11311487597728322; rho_h=0.02329967; rho=0.05455215630648158\n",
      "Death error: 4.719458934558366\n",
      "Sampled i0=13; beta=0.12419613337189306; gamma=0.11163054143327315; rho_h=0.02329967; rho=0.051930352255379085\n",
      "Sampled i0=13; beta=0.10962546651707096; gamma=0.09662089228895407; rho_h=0.02329967; rho=0.05711338577104355\n",
      "Sampled i0=13; beta=0.1571895668450272; gamma=0.14245361821166708; rho_h=0.02329967; rho=0.03451146627177706\n",
      "Death error: 4.805123891184483\n",
      "Sampled i0=13; beta=0.1471291798961901; gamma=0.13424009202947; rho_h=0.02329967; rho=0.04275811169656842\n",
      "Death error: 4.66855830004495\n",
      "Sampled i0=13; beta=0.13030598756531508; gamma=0.11606910497871903; rho_h=0.02329967; rho=0.04378159044975925\n",
      "Sampled i0=13; beta=0.12913120074776469; gamma=0.1145688192655659; rho_h=0.02329967; rho=0.04404853327411086\n",
      "Sampled i0=13; beta=0.12633900300665957; gamma=0.11171362158309715; rho_h=0.02329967; rho=0.044767821693806234\n",
      "Sampled i0=13; beta=0.12435824476808163; gamma=0.10935308115436022; rho_h=0.02329967; rho=0.04460379879292838\n",
      "Sampled i0=13; beta=0.13293835981876284; gamma=0.11743045594226807; rho_h=0.02329967; rho=0.04053002172348858\n",
      "Sampled i0=13; beta=0.12343791306154403; gamma=0.11112801757109604; rho_h=0.02329967; rho=0.0527091202192938\n",
      "Death error: 4.662591705244351\n",
      "Sampled i0=13; beta=0.18413467632870173; gamma=0.17036913590345756; rho_h=0.02329967; rho=0.03104295889559777\n",
      "Sampled i0=12; beta=0.223453649091779; gamma=0.2094967180717243; rho_h=0.02329967; rho=0.025936054617032356\n",
      "Death error: 5.13900838143427\n",
      "Sampled i0=12; beta=0.22421285964025328; gamma=0.20873263328068586; rho_h=0.02329967; rho=0.02592549403489837\n",
      "Death error: 4.949001115142842\n",
      "Sampled i0=12; beta=0.22355593756854963; gamma=0.2087472565334649; rho_h=0.02329967; rho=0.02590851897771046\n",
      "Death error: 4.724147552703353\n",
      "Sampled i0=12; beta=0.2032694005286293; gamma=0.19198017244999108; rho_h=0.02329967; rho=0.035901889064680496\n",
      "Sampled i0=12; beta=0.14436327183503028; gamma=0.12862672273798248; rho_h=0.02329967; rho=0.03980984845588629\n",
      "Death error: 4.928668907758819\n",
      "Sampled i0=12; beta=0.15310773036005726; gamma=0.13957073176523452; rho_h=0.02329967; rho=0.041483013929799854\n",
      "Death error: 4.691189495275994\n",
      "Sampled i0=12; beta=0.1743541559694021; gamma=0.16017281367883868; rho_h=0.02329967; rho=0.03532085388223737\n",
      "Sampled i0=12; beta=0.13450840728055008; gamma=0.12004141065024669; rho_h=0.02329967; rho=0.04559537037195574\n",
      "Sampled i0=12; beta=0.142682268442481; gamma=0.12880691304810662; rho_h=0.02329967; rho=0.04444014645648539\n",
      "Sampled i0=12; beta=0.1166800091712576; gamma=0.10400733528674495; rho_h=0.02329967; rho=0.059273994879904\n",
      "Sampled i0=12; beta=0.17682614541306732; gamma=0.16215965006206737; rho_h=0.02329967; rho=0.033963401618795984\n",
      "Sampled i0=12; beta=0.17649940506660597; gamma=0.1622828544077551; rho_h=0.02329967; rho=0.0339712152718045\n",
      "Sampled i0=12; beta=0.19159224618426218; gamma=0.1789678410431708; rho_h=0.02329967; rho=0.03576030097826971\n",
      "Sampled i0=12; beta=0.188906916864898; gamma=0.176155396744306; rho_h=0.02329967; rho=0.036458078789988385\n",
      "Sampled i0=11; beta=0.19328549421411959; gamma=0.17973973264029913; rho_h=0.02329967; rho=0.034286353228524455\n",
      "Death error: 4.890066447119777\n",
      "Sampled i0=11; beta=0.20704459662611446; gamma=0.19292582550952506; rho_h=0.02329967; rho=0.031861507644330246\n",
      "Death error: 4.686225056691707\n",
      "Sampled i0=11; beta=0.1326421389637209; gamma=0.11772691507493875; rho_h=0.02329967; rho=0.04939119012299438\n",
      "Death error: 4.802704237198571\n",
      "Sampled i0=11; beta=0.13291992928737212; gamma=0.11841260373462671; rho_h=0.02329967; rho=0.04957044043220728\n",
      "Sampled i0=11; beta=0.12939222908233822; gamma=0.11528780794339975; rho_h=0.02329967; rho=0.05344571813324598\n",
      "Sampled i0=11; beta=0.12964937961755735; gamma=0.11509262280414503; rho_h=0.02329967; rho=0.05339772728445596\n",
      "Death error: 4.888739587717575\n",
      "Sampled i0=11; beta=0.12963168310332274; gamma=0.11512549285529403; rho_h=0.02329967; rho=0.05337261105740506\n",
      "Sampled i0=11; beta=0.1365929311580862; gamma=0.12428019966028785; rho_h=0.02329967; rho=0.05779533580934504\n",
      "Sampled i0=11; beta=0.13586823531837397; gamma=0.12442799497910402; rho_h=0.02329967; rho=0.05774092057455139\n",
      "Death error: 4.75809172248501\n",
      "Sampled i0=11; beta=0.13346199876734333; gamma=0.12052180072001843; rho_h=0.02329967; rho=0.05562003627923406\n",
      "Sampled i0=11; beta=0.14432850560516952; gamma=0.12907490983347322; rho_h=0.02329967; rho=0.04417852027450093\n",
      "Death error: 4.842830568414015\n",
      "Sampled i0=11; beta=0.14674622872290885; gamma=0.13151897144617644; rho_h=0.02329967; rho=0.04319777125277409\n",
      "Sampled i0=11; beta=0.13824490186807; gamma=0.1251504752649066; rho_h=0.02329967; rho=0.05241700159527307\n",
      "Death error: 4.657666797531473\n",
      "Sampled i0=11; beta=0.14282615460704018; gamma=0.13019968658698927; rho_h=0.02329967; rho=0.05211797973781007\n",
      "Sampled i0=11; beta=0.13782444539264077; gamma=0.1240174779406648; rho_h=0.02329967; rho=0.05023875271597402\n",
      "Sampled i0=11; beta=0.13907487537661878; gamma=0.12464144372562769; rho_h=0.02329967; rho=0.04825633520593748\n",
      "Sampled i0=11; beta=0.16053100281372484; gamma=0.1461301782361405; rho_h=0.02329967; rho=0.04051083049172433\n",
      "Sampled i0=11; beta=0.15689526105840507; gamma=0.14109745393343817; rho_h=0.02329967; rho=0.038027118260614695\n",
      "Death error: 5.005854253153105\n",
      "Sampled i0=11; beta=0.1604111080333052; gamma=0.14493846394213117; rho_h=0.02329967; rho=0.03854886363907712\n",
      "Death error: 4.870452876827938\n",
      "Sampled i0=11; beta=0.11612768362780283; gamma=0.1004517860634189; rho_h=0.02329967; rho=0.054223945504752014\n",
      "Sampled i0=11; beta=0.1180792937590949; gamma=0.10365432306109341; rho_h=0.02329967; rho=0.05774127131014815\n",
      "Death error: 4.753056686192878\n",
      "Sampled i0=11; beta=0.12303107127614187; gamma=0.10935936619100625; rho_h=0.02329967; rho=0.05757297689351253\n",
      "Sampled i0=11; beta=0.12435046935870488; gamma=0.11060911680023064; rho_h=0.02329967; rho=0.05710728136596257\n",
      "Sampled i0=11; beta=0.12398989850296334; gamma=0.110785580901342; rho_h=0.02329967; rho=0.05772749070857402\n",
      "Sampled i0=11; beta=0.12185768529751517; gamma=0.10771890601535887; rho_h=0.02329967; rho=0.05676173254635954\n",
      "Sampled i0=11; beta=0.12089877593450919; gamma=0.1068596742794079; rho_h=0.02329967; rho=0.05586592129437122\n",
      "Death error: 4.844776355628542\n",
      "Sampled i0=11; beta=0.12084052434226744; gamma=0.10690874636649587; rho_h=0.02329967; rho=0.05585489984991421\n",
      "Sampled i0=11; beta=0.11577827329548918; gamma=0.10069810584705458; rho_h=0.02329967; rho=0.056308504476881766\n",
      "Sampled i0=11; beta=0.11688149349909681; gamma=0.1019213726899691; rho_h=0.02329967; rho=0.05610820797625996\n",
      "Sampled i0=11; beta=0.13704652164577105; gamma=0.12472064981809444; rho_h=0.02329967; rho=0.05565873513028153\n",
      "Death error: 4.665701177240862\n",
      "Sampled i0=11; beta=0.1370511186368288; gamma=0.12445997891272606; rho_h=0.02329967; rho=0.05554371045953821\n",
      "Sampled i0=11; beta=0.13650437018581377; gamma=0.12398002423629265; rho_h=0.02329967; rho=0.05408656034496834\n",
      "Sampled i0=11; beta=0.13847801411558053; gamma=0.12557459335973523; rho_h=0.02329967; rho=0.05322365584700843\n",
      "Sampled i0=11; beta=0.13328284864729703; gamma=0.12025770715625082; rho_h=0.02329967; rho=0.05531684827254493\n",
      "Sampled i0=11; beta=0.12492559034086369; gamma=0.11070405514584374; rho_h=0.02329967; rho=0.054620944037660143\n",
      "Sampled i0=11; beta=0.12354051722778246; gamma=0.11017280503835435; rho_h=0.02329967; rho=0.05843430263858707\n",
      "Sampled i0=11; beta=0.12412651736058411; gamma=0.10983381183328994; rho_h=0.02329967; rho=0.05456918226040557\n",
      "Sampled i0=11; beta=0.14412941156339468; gamma=0.13027244541282612; rho_h=0.02329967; rho=0.04740744858436821\n",
      "Sampled i0=11; beta=0.12484892223043634; gamma=0.11075039638734878; rho_h=0.02329967; rho=0.055537986589723504\n",
      "Sampled i0=11; beta=0.12492639324711385; gamma=0.1107174693293052; rho_h=0.02329967; rho=0.05554141935190532\n",
      "Sampled i0=11; beta=0.12476999493418034; gamma=0.11078061393437658; rho_h=0.02329967; rho=0.05553105465398795\n",
      "Sampled i0=11; beta=0.1731949349268388; gamma=0.1607426331885092; rho_h=0.02329967; rho=0.042882139187490696\n",
      "Sampled i0=11; beta=0.1718730563291258; gamma=0.16011539144203718; rho_h=0.02329967; rho=0.04490807333709675\n",
      "Sampled i0=11; beta=0.1684923482810563; gamma=0.15701661628461652; rho_h=0.02329967; rho=0.04602767997171148\n",
      "Sampled i0=11; beta=0.17121857472650204; gamma=0.1587455840522808; rho_h=0.02329967; rho=0.04415921982491005\n",
      "Sampled i0=11; beta=0.14510178262246382; gamma=0.13012086158731137; rho_h=0.02329967; rho=0.04364541188504973\n",
      "Death error: 4.865592744671796\n",
      "Sampled i0=11; beta=0.14764504034037426; gamma=0.13257549097851745; rho_h=0.02329967; rho=0.04238379066251128\n",
      "Sampled i0=11; beta=0.2150428731372084; gamma=0.1999383123686817; rho_h=0.02329967; rho=0.028878480023348814\n",
      "Death error: 4.771317015825557\n",
      "Sampled i0=11; beta=0.22132481450832095; gamma=0.20657514502243776; rho_h=0.02329967; rho=0.028898364444264545\n",
      "Sampled i0=11; beta=0.12977802995445936; gamma=0.11560554483416394; rho_h=0.02329967; rho=0.05211556665128334\n",
      "Sampled i0=11; beta=0.11330360229577675; gamma=0.10041178161385814; rho_h=0.02329967; rho=0.06523360844280825\n",
      "Sampled i0=11; beta=0.12117378504053346; gamma=0.10619615848269177; rho_h=0.02329967; rho=0.05396594893427681\n",
      "Death error: 4.832535099748145\n",
      "Sampled i0=11; beta=0.12029734652505374; gamma=0.10695075948656158; rho_h=0.02329967; rho=0.06039327856456994\n",
      "Death error: 4.669988939495291\n",
      "Sampled i0=11; beta=0.12070251680712668; gamma=0.1069871893923686; rho_h=0.02329967; rho=0.0600495685215481\n",
      "Sampled i0=11; beta=0.12067012175352472; gamma=0.10696674302408825; rho_h=0.02329967; rho=0.06005205697363976\n",
      "Sampled i0=11; beta=0.12034581902948932; gamma=0.10709787561692102; rho_h=0.02329967; rho=0.059558635423015434\n",
      "Sampled i0=11; beta=0.11744007611333585; gamma=0.10259745757946215; rho_h=0.02329967; rho=0.05692974316581723\n",
      "Sampled i0=11; beta=0.11680399722531656; gamma=0.10234309386075187; rho_h=0.02329967; rho=0.05694991253025659\n",
      "Sampled i0=11; beta=0.12187590675238305; gamma=0.10868359663187102; rho_h=0.02329967; rho=0.06137495897302116\n",
      "Death error: 4.7358027958882545\n",
      "Sampled i0=9; beta=0.025400129999999996; gamma=0.06851045; rho_h=0.02329967; rho=0.006937619999999999\n",
      "Death error: 137.42490895461006\n"
     ]
    },
    {
     "name": "stderr",
     "output_type": "stream",
     "text": [
      "Sampling 2 chains for 200 tune and 100 draw iterations (400 + 200 draws total) took 112 seconds.\n"
     ]
    },
    {
     "name": "stdout",
     "output_type": "stream",
     "text": [
      "Sampled i0=9; beta=0.025400129999999996; gamma=0.06851045; rho_h=0.02329967; rho=0.006937619999999999\n",
      "Sampled i0=9; beta=0.025400129999999996; gamma=0.06851045; rho_h=0.02329967; rho=0.006937619999999999\n",
      "Sampled i0=9; beta=0.025400129999999996; gamma=0.06851045; rho_h=0.02329967; rho=0.006937619999999999\n"
     ]
    },
    {
     "name": "stderr",
     "output_type": "stream",
     "text": [
      "The chain reached the maximum tree depth. Increase max_treedepth, increase target_accept or reparameterize.\n",
      "The chain reached the maximum tree depth. Increase max_treedepth, increase target_accept or reparameterize.\n",
      "The rhat statistic is larger than 1.4 for some parameters. The sampler did not converge.\n",
      "The number of effective samples is smaller than 10% for some parameters.\n",
      "e:\\Anaconda\\envs\\graph\\lib\\site-packages\\arviz\\stats\\diagnostics.py:584: RuntimeWarning: invalid value encountered in double_scalars\n",
      "  (between_chain_variance / within_chain_variance + num_samples - 1) / (num_samples)\n"
     ]
    },
    {
     "data": {
      "image/png": "[encoded data removed]",
      "text/plain": [
       "<Figure size 1200x1400 with 14 Axes>"
      ]
     },
     "metadata": {},
     "output_type": "display_data"
    },
    {
     "name": "stdout",
     "output_type": "stream",
     "text": [
      "summary:\n",
      "=======================================================================================================\n",
      "    param      mean       sd  hdi_2.5%  hdi_97.5%  mcse_mean    r_hat state\n",
      "0      i0  11.34000  0.70490  11.00000   13.00000    0.41317  2.20702    WY\n",
      "1    beta   0.15142  0.03011   0.10872    0.21060    0.00558  1.08487    WY\n",
      "2   gamma   0.13753  0.03030   0.09427    0.19655    0.00557  1.08523    WY\n",
      "3     rho   0.04577  0.00887   0.02591    0.05986    0.00190  1.10668    WY\n",
      "4   sigma   2.28993  0.16849   1.87894    2.57195    0.01370  1.12664    WY\n",
      "5  loss_h   0.00000  0.00000   0.00000    0.00000    0.00000      NaN    WY\n",
      "6  loss_d   4.77330  0.13544   4.63485    5.00706    0.01296  1.00044    WY\n",
      "WY succeeded\n",
      "=======================================================================================================\n"
     ]
    }
   ],
   "source": [
    "from ct_simulator.mcmc import run_loop\n",
    "states = ['WY']\n",
    "trace_results, summary = \\\n",
    "    run_loop(\n",
    "        state_data=state_data,\n",
    "        state_population=state_population,\n",
    "        states=states,\n",
    "        use_population=10000,\n",
    "        sample_kwargs=dict(ode=1, model=0, fit_stats=('d',), print_try=0, print_interval=1, print_err_limit=0.1,\n",
    "                           i0=9, beta=0.02540013, gamma=0.06851045, rho_h=0.02329967, rho=0.00693762,\n",
    "                           find_map=0, step=None,#{'Metropolis': dict(target_accept=.99)},\n",
    "                           init='auto', draws=100, tune=200, chains=2, cores=1),\n",
    "    )"
   ]
  },
  {
   "cell_type": "markdown",
   "metadata": {},
   "source": [
    "Considering that the full IBMF model is slower to simulate than the ODE analytical solution, we can stop at parameter values that\n",
    "are close to the true data, without waiting for full parameter convergence. Note, the following can take a long time."
   ]
  },
  {
   "cell_type": "code",
   "execution_count": 4,
   "metadata": {},
   "outputs": [
    {
     "name": "stdout",
     "output_type": "stream",
     "text": [
      "Running WY with Population 10000 AND 0 hosp NaNs AND 0 death NaNs\n",
      "=======================================================================================================\n",
      "pos=1839.0, rec=1361.0, hos=123.0, dea=21.0, tot=39916.0, beta=0.02540, gamma=0.06851, rho_h=0.02330, rho=0.00694\n"
     ]
    },
    {
     "name": "stderr",
     "output_type": "stream",
     "text": [
      "e:\\Anaconda\\envs\\graph\\lib\\site-packages\\theano\\tensor\\elemwise.py:826: RuntimeWarning: divide by zero encountered in log1p\n",
      "  variables = ufunc(*ufunc_args, **ufunc_kwargs)\n"
     ]
    },
    {
     "name": "stdout",
     "output_type": "stream",
     "text": [
      "Sampled i0=9; beta=0.025400129999999996; gamma=0.06851045; rho_h=0.02329967; rho=0.006937619999999999\n",
      "Death error: 139.10526315789474\n"
     ]
    },
    {
     "name": "stderr",
     "output_type": "stream",
     "text": [
      "e:\\Anaconda\\envs\\graph\\lib\\site-packages\\theano\\tensor\\elemwise.py:826: RuntimeWarning: divide by zero encountered in log1p\n",
      "  variables = ufunc(*ufunc_args, **ufunc_kwargs)\n",
      "Only 10 samples in chain.\n",
      "Sequential sampling (2 chains in 1 job)\n",
      "CompoundStep\n",
      ">Metropolis: [i0]\n",
      ">CompoundStep\n",
      ">>Slice: [beta]\n",
      ">>Slice: [gamma]\n",
      ">>Slice: [rho]\n",
      ">NUTS: [sigma]\n"
     ]
    },
    {
     "data": {
      "text/html": [
       "\n",
       "<style>\n",
       "    /* Turns off some styling */\n",
       "    progress {\n",
       "        /* gets rid of default border in Firefox and Opera. */\n",
       "        border: none;\n",
       "        /* Needs to be in here for Safari polyfill so background images work as expected. */\n",
       "        background-size: auto;\n",
       "    }\n",
       "    progress:not([value]), progress:not([value])::-webkit-progress-bar {\n",
       "        background: repeating-linear-gradient(45deg, #7e7e7e, #7e7e7e 10px, #5c5c5c 10px, #5c5c5c 20px);\n",
       "    }\n",
       "    .progress-bar-interrupted, .progress-bar-interrupted::-webkit-progress-bar {\n",
       "        background: #F44336;\n",
       "    }\n",
       "</style>\n"
      ],
      "text/plain": [
       "<IPython.core.display.HTML object>"
      ]
     },
     "metadata": {},
     "output_type": "display_data"
    },
    {
     "data": {
      "text/html": [
       "\n",
       "    <div>\n",
       "      <progress value='0' class='' max='30' style='width:300px; height:20px; vertical-align: middle;'></progress>\n",
       "      0.00% [0/30 00:00&lt;? Sampling chain 0, 0 divergences]\n",
       "    </div>\n",
       "    "
      ],
      "text/plain": [
       "<IPython.core.display.HTML object>"
      ]
     },
     "metadata": {},
     "output_type": "display_data"
    },
    {
     "name": "stdout",
     "output_type": "stream",
     "text": [
      "Sampled i0=9; beta=0.025400129999999996; gamma=0.06851045; rho_h=0.02329967; rho=0.006937619999999999\n"
     ]
    },
    {
     "name": "stderr",
     "output_type": "stream",
     "text": [
      "e:\\Anaconda\\envs\\graph\\lib\\site-packages\\numpy\\core\\fromnumeric.py:3432: RuntimeWarning: Mean of empty slice.\n",
      "  return _methods._mean(a, axis=axis, dtype=dtype,\n",
      "e:\\Anaconda\\envs\\graph\\lib\\site-packages\\numpy\\core\\_methods.py:190: RuntimeWarning: invalid value encountered in double_scalars\n",
      "  ret = ret.dtype.type(ret / rcount)\n"
     ]
    },
    {
     "name": "stdout",
     "output_type": "stream",
     "text": [
      "WY failed 1st try with Sampling stopped before a sample was created.:\n",
      "pos=1839.0, rec=1361.0, hos=123.0, dea=21.0, tot=39916.0, beta=0.02540, gamma=0.06851, rho_h=0.02330, rho=0.00694\n"
     ]
    },
    {
     "ename": "KeyboardInterrupt",
     "evalue": "",
     "output_type": "error",
     "traceback": [
      "\u001b[1;31m---------------------------------------------------------------------------\u001b[0m",
      "\u001b[1;31mValueError\u001b[0m                                Traceback (most recent call last)",
      "File \u001b[1;32md:\\onedrive - university of southampton\\phd\\contact\\ct_simulator\\mcmc.py:61\u001b[0m, in \u001b[0;36mrun_loop\u001b[1;34m(state_data, state_population, states, use_population, sample_kwargs)\u001b[0m\n\u001b[0;32m     59\u001b[0m \u001b[39mtry\u001b[39;00m:\n\u001b[0;32m     60\u001b[0m     \u001b[39m# perform sampling, first set of starting values\u001b[39;00m\n\u001b[1;32m---> 61\u001b[0m     this_sample, this_model \u001b[39m=\u001b[39m sampleMCMC(data_for_state, pop_for_state, \u001b[39m1\u001b[39m, \u001b[39m*\u001b[39m\u001b[39m*\u001b[39msample_kwargs)\n\u001b[0;32m     63\u001b[0m \u001b[39mexcept\u001b[39;00m \u001b[39mException\u001b[39;00m \u001b[39mas\u001b[39;00m e:\n",
      "File \u001b[1;32md:\\onedrive - university of southampton\\phd\\contact\\ct_simulator\\mcmc.py:382\u001b[0m, in \u001b[0;36msampleMCMC\u001b[1;34m(data, pop, start_val, ode, i0, beta, gamma, rho_h, rho, model, fit_stats, find_map, print_try, print_interval, print_err_limit, step, **kwargs)\u001b[0m\n\u001b[0;32m    381\u001b[0m     \u001b[39m# execute sampling\u001b[39;00m\n\u001b[1;32m--> 382\u001b[0m     model_trace \u001b[39m=\u001b[39m pm\u001b[39m.\u001b[39msample(start\u001b[39m=\u001b[39mstart, step\u001b[39m=\u001b[39mstep, return_inferencedata\u001b[39m=\u001b[39m\u001b[39mTrue\u001b[39;00m, \u001b[39m*\u001b[39m\u001b[39m*\u001b[39mkwargs)\n\u001b[0;32m    384\u001b[0m \u001b[39m# return posterior samples and other information\u001b[39;00m\n",
      "File \u001b[1;32me:\\Anaconda\\envs\\graph\\lib\\site-packages\\pymc3\\sampling.py:597\u001b[0m, in \u001b[0;36msample\u001b[1;34m(draws, step, init, n_init, start, trace, chain_idx, chains, cores, tune, progressbar, model, random_seed, discard_tuned_samples, compute_convergence_checks, callback, jitter_max_retries, return_inferencedata, idata_kwargs, mp_ctx, pickle_backend, **kwargs)\u001b[0m\n\u001b[0;32m    596\u001b[0m         _print_step_hierarchy(step)\n\u001b[1;32m--> 597\u001b[0m         trace \u001b[39m=\u001b[39m _sample_many(\u001b[39m*\u001b[39m\u001b[39m*\u001b[39msample_args)\n\u001b[0;32m    599\u001b[0m t_sampling \u001b[39m=\u001b[39m time\u001b[39m.\u001b[39mtime() \u001b[39m-\u001b[39m t_start\n",
      "File \u001b[1;32me:\\Anaconda\\envs\\graph\\lib\\site-packages\\pymc3\\sampling.py:724\u001b[0m, in \u001b[0;36m_sample_many\u001b[1;34m(draws, chain, chains, start, random_seed, step, callback, **kwargs)\u001b[0m\n\u001b[0;32m    723\u001b[0m \u001b[39mif\u001b[39;00m \u001b[39mlen\u001b[39m(traces) \u001b[39m==\u001b[39m \u001b[39m0\u001b[39m:\n\u001b[1;32m--> 724\u001b[0m     \u001b[39mraise\u001b[39;00m \u001b[39mValueError\u001b[39;00m(\u001b[39m\"\u001b[39m\u001b[39mSampling stopped before a sample was created.\u001b[39m\u001b[39m\"\u001b[39m)\n\u001b[0;32m    725\u001b[0m \u001b[39melse\u001b[39;00m:\n",
      "\u001b[1;31mValueError\u001b[0m: Sampling stopped before a sample was created.",
      "\nDuring handling of the above exception, another exception occurred:\n",
      "\u001b[1;31mKeyboardInterrupt\u001b[0m                         Traceback (most recent call last)",
      "\u001b[1;32md:\\OneDrive - University of Southampton\\PhD\\Contact\\notebooks\\MCMC-COVID.ipynb Cell 24\u001b[0m line \u001b[0;36m4\n\u001b[0;32m      <a href='vscode-notebook-cell:/d%3A/OneDrive%20-%20University%20of%20Southampton/PhD/Contact/notebooks/MCMC-COVID.ipynb#X46sZmlsZQ%3D%3D?line=0'>1</a>\u001b[0m \u001b[39mfrom\u001b[39;00m \u001b[39mct_simulator\u001b[39;00m\u001b[39m.\u001b[39;00m\u001b[39mmcmc\u001b[39;00m \u001b[39mimport\u001b[39;00m run_loop\n\u001b[0;32m      <a href='vscode-notebook-cell:/d%3A/OneDrive%20-%20University%20of%20Southampton/PhD/Contact/notebooks/MCMC-COVID.ipynb#X46sZmlsZQ%3D%3D?line=1'>2</a>\u001b[0m states \u001b[39m=\u001b[39m [\u001b[39m'\u001b[39m\u001b[39mWY\u001b[39m\u001b[39m'\u001b[39m]\n\u001b[0;32m      <a href='vscode-notebook-cell:/d%3A/OneDrive%20-%20University%20of%20Southampton/PhD/Contact/notebooks/MCMC-COVID.ipynb#X46sZmlsZQ%3D%3D?line=2'>3</a>\u001b[0m trace_results, summary \u001b[39m=\u001b[39m \\\n\u001b[1;32m----> <a href='vscode-notebook-cell:/d%3A/OneDrive%20-%20University%20of%20Southampton/PhD/Contact/notebooks/MCMC-COVID.ipynb#X46sZmlsZQ%3D%3D?line=3'>4</a>\u001b[0m     run_loop(\n\u001b[0;32m      <a href='vscode-notebook-cell:/d%3A/OneDrive%20-%20University%20of%20Southampton/PhD/Contact/notebooks/MCMC-COVID.ipynb#X46sZmlsZQ%3D%3D?line=4'>5</a>\u001b[0m         state_data\u001b[39m=\u001b[39;49mstate_data,\n\u001b[0;32m      <a href='vscode-notebook-cell:/d%3A/OneDrive%20-%20University%20of%20Southampton/PhD/Contact/notebooks/MCMC-COVID.ipynb#X46sZmlsZQ%3D%3D?line=5'>6</a>\u001b[0m         state_population\u001b[39m=\u001b[39;49mstate_population,\n\u001b[0;32m      <a href='vscode-notebook-cell:/d%3A/OneDrive%20-%20University%20of%20Southampton/PhD/Contact/notebooks/MCMC-COVID.ipynb#X46sZmlsZQ%3D%3D?line=6'>7</a>\u001b[0m         states\u001b[39m=\u001b[39;49mstates,\n\u001b[0;32m      <a href='vscode-notebook-cell:/d%3A/OneDrive%20-%20University%20of%20Southampton/PhD/Contact/notebooks/MCMC-COVID.ipynb#X46sZmlsZQ%3D%3D?line=7'>8</a>\u001b[0m         use_population\u001b[39m=\u001b[39;49m\u001b[39m10000\u001b[39;49m,\n\u001b[0;32m      <a href='vscode-notebook-cell:/d%3A/OneDrive%20-%20University%20of%20Southampton/PhD/Contact/notebooks/MCMC-COVID.ipynb#X46sZmlsZQ%3D%3D?line=8'>9</a>\u001b[0m         sample_kwargs\u001b[39m=\u001b[39;49m\u001b[39mdict\u001b[39;49m(ode\u001b[39m=\u001b[39;49m\u001b[39m0\u001b[39;49m, model\u001b[39m=\u001b[39;49m\u001b[39m2\u001b[39;49m, fit_stats\u001b[39m=\u001b[39;49m(\u001b[39m'\u001b[39;49m\u001b[39md\u001b[39;49m\u001b[39m'\u001b[39;49m,), print_try\u001b[39m=\u001b[39;49m\u001b[39m0\u001b[39;49m, print_interval\u001b[39m=\u001b[39;49m\u001b[39m1\u001b[39;49m, print_err_limit\u001b[39m=\u001b[39;49m\u001b[39m0.1\u001b[39;49m,\n\u001b[0;32m     <a href='vscode-notebook-cell:/d%3A/OneDrive%20-%20University%20of%20Southampton/PhD/Contact/notebooks/MCMC-COVID.ipynb#X46sZmlsZQ%3D%3D?line=9'>10</a>\u001b[0m                            i0\u001b[39m=\u001b[39;49m\u001b[39m9\u001b[39;49m, beta\u001b[39m=\u001b[39;49m\u001b[39m0.02540013\u001b[39;49m, gamma\u001b[39m=\u001b[39;49m\u001b[39m0.06851045\u001b[39;49m, rho_h\u001b[39m=\u001b[39;49m\u001b[39m0.02329967\u001b[39;49m, rho\u001b[39m=\u001b[39;49m\u001b[39m0.00693762\u001b[39;49m,\n\u001b[0;32m     <a href='vscode-notebook-cell:/d%3A/OneDrive%20-%20University%20of%20Southampton/PhD/Contact/notebooks/MCMC-COVID.ipynb#X46sZmlsZQ%3D%3D?line=10'>11</a>\u001b[0m                            find_map\u001b[39m=\u001b[39;49m\u001b[39m0\u001b[39;49m, step\u001b[39m=\u001b[39;49m\u001b[39mNone\u001b[39;49;00m,\u001b[39m#{'Metropolis': dict(target_accept=.99)},\u001b[39;49;00m\n\u001b[0;32m     <a href='vscode-notebook-cell:/d%3A/OneDrive%20-%20University%20of%20Southampton/PhD/Contact/notebooks/MCMC-COVID.ipynb#X46sZmlsZQ%3D%3D?line=11'>12</a>\u001b[0m                            init\u001b[39m=\u001b[39;49m\u001b[39m'\u001b[39;49m\u001b[39mauto\u001b[39;49m\u001b[39m'\u001b[39;49m, draws\u001b[39m=\u001b[39;49m\u001b[39m10\u001b[39;49m, tune\u001b[39m=\u001b[39;49m\u001b[39m20\u001b[39;49m, chains\u001b[39m=\u001b[39;49m\u001b[39m2\u001b[39;49m, cores\u001b[39m=\u001b[39;49m\u001b[39m1\u001b[39;49m),\n\u001b[0;32m     <a href='vscode-notebook-cell:/d%3A/OneDrive%20-%20University%20of%20Southampton/PhD/Contact/notebooks/MCMC-COVID.ipynb#X46sZmlsZQ%3D%3D?line=12'>13</a>\u001b[0m     )\n",
      "File \u001b[1;32md:\\onedrive - university of southampton\\phd\\contact\\ct_simulator\\mcmc.py:68\u001b[0m, in \u001b[0;36mrun_loop\u001b[1;34m(state_data, state_population, states, use_population, sample_kwargs)\u001b[0m\n\u001b[0;32m     65\u001b[0m sample_kwargs[\u001b[39m'\u001b[39m\u001b[39mfind_map\u001b[39m\u001b[39m'\u001b[39m] \u001b[39m=\u001b[39m \u001b[39mFalse\u001b[39;00m\n\u001b[0;32m     66\u001b[0m \u001b[39mtry\u001b[39;00m:\n\u001b[0;32m     67\u001b[0m     \u001b[39m# perform sampling, second set of starting values\u001b[39;00m\n\u001b[1;32m---> 68\u001b[0m     this_sample, this_model \u001b[39m=\u001b[39m sampleMCMC(data_for_state, pop_for_state, \u001b[39m1\u001b[39m, \u001b[39m*\u001b[39m\u001b[39m*\u001b[39msample_kwargs)\n\u001b[0;32m     70\u001b[0m \u001b[39mexcept\u001b[39;00m \u001b[39mException\u001b[39;00m \u001b[39mas\u001b[39;00m e:\n\u001b[0;32m     71\u001b[0m     \u001b[39mprint\u001b[39m(state \u001b[39m+\u001b[39m \u001b[39mf\u001b[39m\u001b[39m'\u001b[39m\u001b[39m failed 2nd try with \u001b[39m\u001b[39m{\u001b[39;00me\u001b[39m}\u001b[39;00m\u001b[39m:\u001b[39m\u001b[39m'\u001b[39m)\n",
      "File \u001b[1;32md:\\onedrive - university of southampton\\phd\\contact\\ct_simulator\\mcmc.py:348\u001b[0m, in \u001b[0;36msampleMCMC\u001b[1;34m(data, pop, start_val, ode, i0, beta, gamma, rho_h, rho, model, fit_stats, find_map, print_try, print_interval, print_err_limit, step, **kwargs)\u001b[0m\n\u001b[0;32m    346\u001b[0m         w_grad\u001b[39m.\u001b[39minsert(\u001b[39m0\u001b[39m, rho)\n\u001b[0;32m    347\u001b[0m \u001b[39melse\u001b[39;00m:\n\u001b[1;32m--> 348\u001b[0m     rem, ded \u001b[39m=\u001b[39m call_seirt(i0, beta, gamma, rho_h, rho, theano\u001b[39m.\u001b[39;49mshared(pop), theano\u001b[39m.\u001b[39;49mshared(length), theano\u001b[39m.\u001b[39;49mshared(model), theano\u001b[39m.\u001b[39;49mshared(print_try))\n\u001b[0;32m    349\u001b[0m     no_grad \u001b[39m=\u001b[39m [gamma, beta]\n\u001b[0;32m    350\u001b[0m     w_grad \u001b[39m=\u001b[39m (sigma,)\n",
      "File \u001b[1;32me:\\Anaconda\\envs\\graph\\lib\\site-packages\\theano\\graph\\op.py:253\u001b[0m, in \u001b[0;36mOp.__call__\u001b[1;34m(self, *inputs, **kwargs)\u001b[0m\n\u001b[0;32m    250\u001b[0m node \u001b[39m=\u001b[39m \u001b[39mself\u001b[39m\u001b[39m.\u001b[39mmake_node(\u001b[39m*\u001b[39minputs, \u001b[39m*\u001b[39m\u001b[39m*\u001b[39mkwargs)\n\u001b[0;32m    252\u001b[0m \u001b[39mif\u001b[39;00m config\u001b[39m.\u001b[39mcompute_test_value \u001b[39m!=\u001b[39m \u001b[39m\"\u001b[39m\u001b[39moff\u001b[39m\u001b[39m\"\u001b[39m:\n\u001b[1;32m--> 253\u001b[0m     compute_test_value(node)\n\u001b[0;32m    255\u001b[0m \u001b[39mif\u001b[39;00m \u001b[39mself\u001b[39m\u001b[39m.\u001b[39mdefault_output \u001b[39mis\u001b[39;00m \u001b[39mnot\u001b[39;00m \u001b[39mNone\u001b[39;00m:\n\u001b[0;32m    256\u001b[0m     rval \u001b[39m=\u001b[39m node\u001b[39m.\u001b[39moutputs[\u001b[39mself\u001b[39m\u001b[39m.\u001b[39mdefault_output]\n",
      "File \u001b[1;32me:\\Anaconda\\envs\\graph\\lib\\site-packages\\theano\\graph\\op.py:130\u001b[0m, in \u001b[0;36mcompute_test_value\u001b[1;34m(node)\u001b[0m\n\u001b[0;32m    127\u001b[0m thunk\u001b[39m.\u001b[39minputs \u001b[39m=\u001b[39m [storage_map[v] \u001b[39mfor\u001b[39;00m v \u001b[39min\u001b[39;00m node\u001b[39m.\u001b[39minputs]\n\u001b[0;32m    128\u001b[0m thunk\u001b[39m.\u001b[39moutputs \u001b[39m=\u001b[39m [storage_map[v] \u001b[39mfor\u001b[39;00m v \u001b[39min\u001b[39;00m node\u001b[39m.\u001b[39moutputs]\n\u001b[1;32m--> 130\u001b[0m required \u001b[39m=\u001b[39m thunk()\n\u001b[0;32m    131\u001b[0m \u001b[39massert\u001b[39;00m \u001b[39mnot\u001b[39;00m required  \u001b[39m# We provided all inputs\u001b[39;00m\n\u001b[0;32m    133\u001b[0m \u001b[39mfor\u001b[39;00m output \u001b[39min\u001b[39;00m node\u001b[39m.\u001b[39moutputs:\n\u001b[0;32m    134\u001b[0m     \u001b[39m# Check that the output has been computed\u001b[39;00m\n",
      "File \u001b[1;32me:\\Anaconda\\envs\\graph\\lib\\site-packages\\theano\\graph\\op.py:476\u001b[0m, in \u001b[0;36mOp.make_py_thunk.<locals>.rval\u001b[1;34m(p, i, o, n)\u001b[0m\n\u001b[0;32m    475\u001b[0m \u001b[39mdef\u001b[39;00m \u001b[39mrval\u001b[39m(p\u001b[39m=\u001b[39mp, i\u001b[39m=\u001b[39mnode_input_storage, o\u001b[39m=\u001b[39mnode_output_storage, n\u001b[39m=\u001b[39mnode):\n\u001b[1;32m--> 476\u001b[0m     r \u001b[39m=\u001b[39m p(n, [x[\u001b[39m0\u001b[39;49m] \u001b[39mfor\u001b[39;49;00m x \u001b[39min\u001b[39;49;00m i], o)\n\u001b[0;32m    477\u001b[0m     \u001b[39mfor\u001b[39;00m o \u001b[39min\u001b[39;00m node\u001b[39m.\u001b[39moutputs:\n\u001b[0;32m    478\u001b[0m         compute_map[o][\u001b[39m0\u001b[39m] \u001b[39m=\u001b[39m \u001b[39mTrue\u001b[39;00m\n",
      "File \u001b[1;32me:\\Anaconda\\envs\\graph\\lib\\site-packages\\theano\\compile\\ops.py:568\u001b[0m, in \u001b[0;36mFromFunctionOp.perform\u001b[1;34m(self, node, inputs, outputs)\u001b[0m\n\u001b[0;32m    567\u001b[0m \u001b[39mdef\u001b[39;00m \u001b[39mperform\u001b[39m(\u001b[39mself\u001b[39m, node, inputs, outputs):\n\u001b[1;32m--> 568\u001b[0m     outs \u001b[39m=\u001b[39m \u001b[39mself\u001b[39;49m\u001b[39m.\u001b[39;49m__fn(\u001b[39m*\u001b[39;49minputs)\n\u001b[0;32m    569\u001b[0m     \u001b[39mif\u001b[39;00m \u001b[39mnot\u001b[39;00m \u001b[39misinstance\u001b[39m(outs, (\u001b[39mlist\u001b[39m, \u001b[39mtuple\u001b[39m)):\n\u001b[0;32m    570\u001b[0m         outs \u001b[39m=\u001b[39m (outs,)\n",
      "File \u001b[1;32md:\\onedrive - university of southampton\\phd\\contact\\ct_simulator\\mcmc.py:207\u001b[0m, in \u001b[0;36mcall_seirt\u001b[1;34m(i0, beta, gamma, rho_h, rho, pop, length, model, print_try)\u001b[0m\n\u001b[0;32m    205\u001b[0m \u001b[39mif\u001b[39;00m rho_h \u001b[39m!=\u001b[39m \u001b[39m0\u001b[39m:\n\u001b[0;32m    206\u001b[0m     rho \u001b[39m/\u001b[39m\u001b[39m=\u001b[39m rho_h\n\u001b[1;32m--> 207\u001b[0m st, _ \u001b[39m=\u001b[39m run_tracing\u001b[39m.\u001b[39;49mrun_api(\n\u001b[0;32m    208\u001b[0m                 first_inf\u001b[39m=\u001b[39;49mi0, presample\u001b[39m=\u001b[39;49m\u001b[39m10000\u001b[39;49m, pa\u001b[39m=\u001b[39;49m\u001b[39m.2\u001b[39;49m, taur\u001b[39m=\u001b[39;49m\u001b[39m0\u001b[39;49m, taut\u001b[39m=\u001b[39;49m\u001b[39m0\u001b[39;49m, beta\u001b[39m=\u001b[39;49mbeta, gamma\u001b[39m=\u001b[39;49mgamma, ph\u001b[39m=\u001b[39;49mrho_h, lamdahd\u001b[39m=\u001b[39;49mrho,\n\u001b[0;32m    209\u001b[0m                 nettype\u001b[39m=\u001b[39;49m\u001b[39m'\u001b[39;49m\u001b[39mbarabasi\u001b[39;49m\u001b[39m'\u001b[39;49m, netsize\u001b[39m=\u001b[39;49mpop, k\u001b[39m=\u001b[39;49m\u001b[39m5\u001b[39;49m, p\u001b[39m=\u001b[39;49m\u001b[39m.01\u001b[39;49m, use_weights\u001b[39m=\u001b[39;49m\u001b[39mTrue\u001b[39;49;00m, dual\u001b[39m=\u001b[39;49m\u001b[39m0\u001b[39;49m,\n\u001b[0;32m    210\u001b[0m                 seed\u001b[39m=\u001b[39;49m\u001b[39m21\u001b[39;49m, netseed\u001b[39m=\u001b[39;49m\u001b[39m25\u001b[39;49m, infseed\u001b[39m=\u001b[39;49m\u001b[39m-\u001b[39;49m\u001b[39m1\u001b[39;49m, model\u001b[39m=\u001b[39;49mepidemic_models[model], spontan\u001b[39m=\u001b[39;49m\u001b[39mTrue\u001b[39;49;00m, sampling_type\u001b[39m=\u001b[39;49m\u001b[39m'\u001b[39;49m\u001b[39mmin\u001b[39;49m\u001b[39m'\u001b[39;49m,\n\u001b[0;32m    211\u001b[0m                 multip\u001b[39m=\u001b[39;49m\u001b[39m0\u001b[39;49m, nnets\u001b[39m=\u001b[39;49m\u001b[39m1\u001b[39;49m, niters\u001b[39m=\u001b[39;49m\u001b[39m1\u001b[39;49m, nevents\u001b[39m=\u001b[39;49mlength, sim_agent_based\u001b[39m=\u001b[39;49m\u001b[39m1\u001b[39;49m,\n\u001b[0;32m    212\u001b[0m                 animate\u001b[39m=\u001b[39;49m\u001b[39m-\u001b[39;49m\u001b[39m2\u001b[39;49m, summary_print\u001b[39m=\u001b[39;49m\u001b[39m0\u001b[39;49m, summary_splits\u001b[39m=\u001b[39;49mlength, avg_without_earlystop\u001b[39m=\u001b[39;49m\u001b[39mTrue\u001b[39;49;00m)\n\u001b[0;32m    213\u001b[0m \u001b[39mif\u001b[39;00m print_try:\n\u001b[0;32m    214\u001b[0m     \u001b[39mprint\u001b[39m(\u001b[39m'\u001b[39m\u001b[39m - Results: Inf ->\u001b[39m\u001b[39m'\u001b[39m, st[\u001b[39m'\u001b[39m\u001b[39mres\u001b[39m\u001b[39m'\u001b[39m][\u001b[39m'\u001b[39m\u001b[39maverage-overall-infected\u001b[39m\u001b[39m'\u001b[39m][\u001b[39m'\u001b[39m\u001b[39mmean\u001b[39m\u001b[39m'\u001b[39m], \n\u001b[0;32m    215\u001b[0m           \u001b[39m'\u001b[39m\u001b[39m  Rec ->\u001b[39m\u001b[39m'\u001b[39m, st[\u001b[39m'\u001b[39m\u001b[39mres\u001b[39m\u001b[39m'\u001b[39m][\u001b[39m'\u001b[39m\u001b[39maverage-overall-recovered\u001b[39m\u001b[39m'\u001b[39m][\u001b[39m'\u001b[39m\u001b[39mmean\u001b[39m\u001b[39m'\u001b[39m], \n\u001b[0;32m    216\u001b[0m           \u001b[39m'\u001b[39m\u001b[39m  Hos ->\u001b[39m\u001b[39m'\u001b[39m, st[\u001b[39m'\u001b[39m\u001b[39mres\u001b[39m\u001b[39m'\u001b[39m][\u001b[39m'\u001b[39m\u001b[39maverage-overall-hospital\u001b[39m\u001b[39m'\u001b[39m][\u001b[39m'\u001b[39m\u001b[39mmean\u001b[39m\u001b[39m'\u001b[39m],\n\u001b[0;32m    217\u001b[0m           \u001b[39m'\u001b[39m\u001b[39m  Ded ->\u001b[39m\u001b[39m'\u001b[39m, st[\u001b[39m'\u001b[39m\u001b[39mres\u001b[39m\u001b[39m'\u001b[39m][\u001b[39m'\u001b[39m\u001b[39maverage-overall-death\u001b[39m\u001b[39m'\u001b[39m][\u001b[39m'\u001b[39m\u001b[39mmean\u001b[39m\u001b[39m'\u001b[39m])\n",
      "File \u001b[1;32md:\\onedrive - university of southampton\\phd\\contact\\ct_simulator\\run_tracing.py:589\u001b[0m, in \u001b[0;36mrun_api\u001b[1;34m(**kwargs)\u001b[0m\n\u001b[0;32m    586\u001b[0m     v \u001b[39m=\u001b[39m v\u001b[39m.\u001b[39mcopy() \u001b[39mif\u001b[39;00m \u001b[39misinstance\u001b[39m(v, \u001b[39mdict\u001b[39m) \u001b[39melse\u001b[39;00m v\n\u001b[0;32m    587\u001b[0m     \u001b[39mvars\u001b[39m(argns)[k] \u001b[39m=\u001b[39m kwargs\u001b[39m.\u001b[39mget(k, v)\n\u001b[1;32m--> 589\u001b[0m \u001b[39mreturn\u001b[39;00m main(argns)\n",
      "File \u001b[1;32md:\\onedrive - university of southampton\\phd\\contact\\ct_simulator\\run_tracing.py:523\u001b[0m, in \u001b[0;36mmain\u001b[1;34m(args)\u001b[0m\n\u001b[0;32m    519\u001b[0m     \u001b[39mprint\u001b[39m(\u001b[39mf\u001b[39m\u001b[39m'\u001b[39m\u001b[39m----- Episode \u001b[39m\u001b[39m{\u001b[39;00midx\u001b[39m}\u001b[39;00m\u001b[39m, simulating network no. \u001b[39m\u001b[39m{\u001b[39;00minet\u001b[39m}\u001b[39;00m\u001b[39m -----\u001b[39m\u001b[39m'\u001b[39m)\n\u001b[0;32m    521\u001b[0m \u001b[39m# Run simulation, and since no distribution required, return the last networks for inspection purposes\u001b[39;00m\n\u001b[0;32m    522\u001b[0m \u001b[39m# extra_return will be a tuple of true_net, know_net\u001b[39;00m\n\u001b[1;32m--> 523\u001b[0m net_events, true_and_know_nets \u001b[39m=\u001b[39m engine(inet, return_last_net\u001b[39m=\u001b[39;49m\u001b[39mTrue\u001b[39;49;00m)\n\u001b[0;32m    525\u001b[0m \u001b[39m# Record sim results\u001b[39;00m\n\u001b[0;32m    526\u001b[0m stats\u001b[39m.\u001b[39msim_summary[inet] \u001b[39m=\u001b[39m net_events\n",
      "File \u001b[1;32md:\\onedrive - university of southampton\\phd\\contact\\ct_simulator\\tracing\\multirun_engine.py:202\u001b[0m, in \u001b[0;36mEngineNet.__call__\u001b[1;34m(self, inet, return_last_net, **kwargs)\u001b[0m\n\u001b[0;32m    199\u001b[0m     engine\u001b[39m.\u001b[39mreinit_net(first_inf_nodes, args\u001b[39m.\u001b[39mis_dynamic)\n\u001b[0;32m    201\u001b[0m \u001b[39m# Run simulation\u001b[39;00m\n\u001b[1;32m--> 202\u001b[0m stats_events \u001b[39m=\u001b[39m engine(itr)\n\u001b[0;32m    203\u001b[0m \u001b[39m# Record sim results\u001b[39;00m\n\u001b[0;32m    204\u001b[0m net_events[itr] \u001b[39m=\u001b[39m stats_events\n",
      "File \u001b[1;32md:\\onedrive - university of southampton\\phd\\contact\\ct_simulator\\tracing\\multirun_engine.py:1061\u001b[0m, in \u001b[0;36mEngineOne.__call__\u001b[1;34m(self, itr, **kwargs)\u001b[0m\n\u001b[0;32m   1059\u001b[0m node_traced \u001b[39m=\u001b[39m true_net\u001b[39m.\u001b[39mnode_traced\n\u001b[0;32m   1060\u001b[0m close \u001b[39m=\u001b[39m \u001b[39mTrue\u001b[39;00m\n\u001b[1;32m-> 1061\u001b[0m \u001b[39mfor\u001b[39;00m n1, n2, w \u001b[39min\u001b[39;00m true_net\u001b[39m.\u001b[39medges\u001b[39m.\u001b[39mdata(\u001b[39m'\u001b[39m\u001b[39mweight\u001b[39m\u001b[39m'\u001b[39m, \u001b[39m1.\u001b[39m):\n\u001b[0;32m   1062\u001b[0m     \u001b[39mif\u001b[39;00m node_states[n1]\u001b[39m.\u001b[39m\u001b[39m__contains__\u001b[39m(\u001b[39m'\u001b[39m\u001b[39mI\u001b[39m\u001b[39m'\u001b[39m) \u001b[39mand\u001b[39;00m \u001b[39mnot\u001b[39;00m node_traced[n1] \u001b[39mand\u001b[39;00m node_states[n2] \u001b[39m==\u001b[39m \u001b[39m'\u001b[39m\u001b[39mS\u001b[39m\u001b[39m'\u001b[39m \u001b[39mand\u001b[39;00m \u001b[39mnot\u001b[39;00m(isolate_s \u001b[39mand\u001b[39;00m node_traced[n2]):\n\u001b[0;32m   1063\u001b[0m         close \u001b[39m=\u001b[39m \u001b[39mFalse\u001b[39;00m\n",
      "File \u001b[1;32me:\\Anaconda\\envs\\graph\\lib\\site-packages\\networkx\\classes\\reportviews.py:848\u001b[0m, in \u001b[0;36mEdgeDataView.__iter__\u001b[1;34m(self)\u001b[0m\n\u001b[0;32m    846\u001b[0m seen \u001b[39m=\u001b[39m {}\n\u001b[0;32m    847\u001b[0m \u001b[39mfor\u001b[39;00m n, nbrs \u001b[39min\u001b[39;00m \u001b[39mself\u001b[39m\u001b[39m.\u001b[39m_nodes_nbrs():\n\u001b[1;32m--> 848\u001b[0m     \u001b[39mfor\u001b[39;00m nbr, dd \u001b[39min\u001b[39;00m nbrs\u001b[39m.\u001b[39mitems():\n\u001b[0;32m    849\u001b[0m         \u001b[39mif\u001b[39;00m nbr \u001b[39mnot\u001b[39;00m \u001b[39min\u001b[39;00m seen:\n\u001b[0;32m    850\u001b[0m             \u001b[39myield\u001b[39;00m \u001b[39mself\u001b[39m\u001b[39m.\u001b[39m_report(n, nbr, dd)\n",
      "\u001b[1;31mKeyboardInterrupt\u001b[0m: "
     ]
    }
   ],
   "source": [
    "from ct_simulator.mcmc import run_loop\n",
    "states = ['WY']\n",
    "trace_results, summary = \\\n",
    "    run_loop(\n",
    "        state_data=state_data,\n",
    "        state_population=state_population,\n",
    "        states=states,\n",
    "        use_population=10000,\n",
    "        sample_kwargs=dict(ode=0, model=2, fit_stats=('d',), print_try=0, print_interval=1, print_err_limit=0.1,\n",
    "                           i0=9, beta=0.02540013, gamma=0.06851045, rho_h=0.02329967, rho=0.00693762,\n",
    "                           find_map=0, step=None,#{'Metropolis': dict(target_accept=.99)},\n",
    "                           init='auto', draws=10, tune=20, chains=2, cores=1),\n",
    "    )"
   ]
  },
  {
   "cell_type": "code",
   "execution_count": null,
   "metadata": {},
   "outputs": [],
   "source": []
  },
  {
   "cell_type": "markdown",
   "metadata": {},
   "source": [
    "<h2> Plotting data fits </h2>\n",
    "\n",
    "<p> After running the MCMC, we can verify the fits by plotting the predicted outcome against the true data. We first generate the dict of real deaths:"
   ]
  },
  {
   "cell_type": "code",
   "execution_count": 8,
   "metadata": {},
   "outputs": [
    {
     "data": {
      "text/plain": [
       "array([ 0.,  0.,  0.,  0.,  0.,  0.,  0.,  0.,  0.,  0.,  0.,  0.,  0.,\n",
       "        0.,  0.,  0.,  0.,  0.,  0.,  0.,  0.,  0.,  0.,  0.,  0.,  0.,\n",
       "        0.,  0.,  0.,  0.,  0.,  0.,  0.,  0.,  0.,  0.,  0.,  0.,  0.,\n",
       "        0.,  0.,  0.,  0.,  1.,  1.,  2.,  2.,  2.,  2.,  2.,  2.,  6.,\n",
       "        6.,  7.,  7.,  7.,  7.,  7.,  7.,  7.,  7.,  7.,  7.,  7.,  7.,\n",
       "        7.,  7.,  7.,  7.,  7.,  7.,  7.,  7.,  7.,  7.,  7.,  7.,  8.,\n",
       "        8., 10., 11., 11., 12., 12., 12., 12., 13., 13., 15., 15., 16.,\n",
       "       16., 17., 17., 17., 17., 17., 17., 17., 17., 17., 18., 18., 18.,\n",
       "       18., 18., 18., 18., 18., 18., 20., 20., 20., 20., 20., 20., 20.,\n",
       "       20., 20., 20., 20., 20., 20., 20., 20., 20., 20., 20., 20., 21.,\n",
       "       21., 21., 21.])"
      ]
     },
     "execution_count": 8,
     "metadata": {},
     "output_type": "execute_result"
    }
   ],
   "source": [
    "dct = {}\n",
    "for state in ['WY', 'AK', 'VT', 'ND']:\n",
    "    data_for_state = state_data.loc[state_data.state == state]\n",
    "    dataHospital = data_for_state['hospitalized'].to_numpy()\n",
    "    dataDeath = data_for_state['death'].to_numpy()\n",
    "    dct[state] = (dataHospital, dataDeath)\n",
    "dct['WY'][1]"
   ]
  },
  {
   "cell_type": "markdown",
   "metadata": {},
   "source": [
    "Then we use the parameters we inferred from MCMC to rerun the simulation:"
   ]
  },
  {
   "cell_type": "code",
   "execution_count": 9,
   "metadata": {},
   "outputs": [
    {
     "name": "stdout",
     "output_type": "stream",
     "text": [
      "Total deaths 18.81\n",
      "Aggregated number of daily deaths 1290.08\n"
     ]
    }
   ],
   "source": [
    "from ct_simulator import run_tracing\n",
    "pop = 10000\n",
    "length = len(dct['WY'][1])\n",
    "\n",
    "# Different settings found after running the MCMC routine...\n",
    "i0=9; beta=0.02540013; gamma=0.06851045; rho_h=0.02329967; rho=0.00693762; k=3 # WY\n",
    "# i0=9; beta=0.07984838164998229; gamma=0.3970664071014556; rho_h=0.03354978354978355; rho=0.006407353207631992; k=3 #AK\n",
    "# i0=30; beta=0.4397572379210608; gamma=0.5733717634623886; rho_h=0.01950078003120125; rho=0.006565624283586454; k=5 #VT\n",
    "# i0=30; beta=1.693539813; gamma=0.19307147220719303; rho_h=0.03102878716375649; rho=0.00796116571919583; k=10 #ND\n",
    "\n",
    "lamdahd = rho / rho_h\n",
    "\n",
    "st, extra = run_tracing.run_api(\n",
    "                netsize=pop, k=k, first_inf=i0, beta=beta, gamma=gamma, ph=rho_h, lamdahd=lamdahd,\n",
    "                presample=10000, pa=.2, taur=0, taut=0, \n",
    "                nettype='barabasi:5:1', p=.01, use_weights=True, dual=0,\n",
    "                seed=21, netseed=25, infseed=-1, model='sir', spontan=True, sampling_type='min',\n",
    "                multip=0, nnets=1, niters=1, nevents=length, sim_agent_based=1,\n",
    "                animate=-2, summary_print=0, summary_splits=length, avg_without_earlystop=True)\n",
    "\n",
    "print('Total deaths', st['res']['average-overall-death']['mean'])\n",
    "res = np.array([i['mean'] for i in st['res']['average-total-death']]) # repeat this for each state, using the parameters obtained from MCMC\n",
    "print('Aggregated number of daily deaths', res.sum())"
   ]
  },
  {
   "cell_type": "markdown",
   "metadata": {},
   "source": [
    "And finally we use the simulation results to generate the data fits: (Note, one needs to rerun the above to generate the res, res2, res3 and res4)"
   ]
  },
  {
   "cell_type": "code",
   "execution_count": 96,
   "metadata": {},
   "outputs": [
    {
     "data": {
      "image/png": "[encoded data removed]",
      "text/plain": [
       "<Figure size 700x700 with 4 Axes>"
      ]
     },
     "metadata": {},
     "output_type": "display_data"
    }
   ],
   "source": [
    "# this needs to be run after obtaining res, res2, res3, res4 for all states\n",
    "import matplotlib.pyplot as plt\n",
    "from matplotlib.ticker import MaxNLocator\n",
    "import seaborn as sns; sns.set_theme()\n",
    "import matplotlib.style as style\n",
    "style.use('seaborn-deep')\n",
    "fig, ax = plt.subplots(2, 2, figsize=(7,7))\n",
    "fig.tight_layout(h_pad=3.5)\n",
    "label_ibmf = 'IBMF Simulation'\n",
    "label_death = 'Deaths recorded'\n",
    "ax[0][0].set_title('Wyoming', fontsize=14)\n",
    "ax[0][0].plot(res, label=label_ibmf)\n",
    "ax[0][0].plot(dct['WY'][1], label=label_death)\n",
    "ax[0][1].set_title('Alaska', fontsize=14)\n",
    "ax[0][1].plot(res2, label=label_ibmf)\n",
    "ax[0][1].plot(dct['AK'][1], label=label_death)\n",
    "ax[0][1].set_ylim(-1, 18)\n",
    "ax[0][1].yaxis.set_major_locator(MaxNLocator(integer=True))\n",
    "ax[1][0].set_title('Vermont', fontsize=14)\n",
    "ax[1][0].plot(res3, label=label_ibmf)\n",
    "ax[1][0].plot(dct['VT'][1], label=label_death)\n",
    "ax[1][1].set_title('North Dakota', fontsize=14)\n",
    "ax[1][1].plot(res4, label=label_ibmf)\n",
    "ax[1][1].plot(dct['ND'][1], label=label_death)\n",
    "for i in range(2):\n",
    "    for j in range(2):\n",
    "        ax[i][j].set_xlabel('Days')\n",
    "        ax[i][j].set_ylabel('Deaths')\n",
    "        ax[i][j].tick_params(size=11)\n",
    "\n",
    "ax[0][0].legend(fontsize=11.5)\n",
    "ax[0][1].legend(fontsize=11.5)\n",
    "plt.savefig('fig/fitting.pdf', bbox_inches='tight')"
   ]
  },
  {
   "cell_type": "code",
   "execution_count": null,
   "metadata": {},
   "outputs": [],
   "source": []
  },
  {
   "cell_type": "markdown",
   "metadata": {},
   "source": [
    "# Plotting overall trends on a map"
   ]
  },
  {
   "cell_type": "code",
   "execution_count": 11,
   "metadata": {},
   "outputs": [],
   "source": [
    "import plotly.graph_objects as go"
   ]
  },
  {
   "cell_type": "code",
   "execution_count": 18,
   "metadata": {},
   "outputs": [
    {
     "data": {
      "text/html": [
       "<div>\n",
       "<style scoped>\n",
       "    .dataframe tbody tr th:only-of-type {\n",
       "        vertical-align: middle;\n",
       "    }\n",
       "\n",
       "    .dataframe tbody tr th {\n",
       "        vertical-align: top;\n",
       "    }\n",
       "\n",
       "    .dataframe thead th {\n",
       "        text-align: right;\n",
       "    }\n",
       "</style>\n",
       "<table border=\"1\" class=\"dataframe\">\n",
       "  <thead>\n",
       "    <tr style=\"text-align: right;\">\n",
       "      <th></th>\n",
       "      <th>param</th>\n",
       "      <th>mean</th>\n",
       "      <th>sd</th>\n",
       "      <th>hdi_2.5%</th>\n",
       "      <th>hdi_97.5%</th>\n",
       "      <th>mcse_mean</th>\n",
       "      <th>r_hat</th>\n",
       "      <th>state</th>\n",
       "    </tr>\n",
       "  </thead>\n",
       "  <tbody>\n",
       "    <tr>\n",
       "      <th>0</th>\n",
       "      <td>i0</td>\n",
       "      <td>11.34000</td>\n",
       "      <td>0.70490</td>\n",
       "      <td>11.00000</td>\n",
       "      <td>13.00000</td>\n",
       "      <td>0.41317</td>\n",
       "      <td>2.20702</td>\n",
       "      <td>WY</td>\n",
       "    </tr>\n",
       "    <tr>\n",
       "      <th>1</th>\n",
       "      <td>beta</td>\n",
       "      <td>0.15142</td>\n",
       "      <td>0.03011</td>\n",
       "      <td>0.10872</td>\n",
       "      <td>0.21060</td>\n",
       "      <td>0.00558</td>\n",
       "      <td>1.08487</td>\n",
       "      <td>WY</td>\n",
       "    </tr>\n",
       "    <tr>\n",
       "      <th>2</th>\n",
       "      <td>gamma</td>\n",
       "      <td>0.13753</td>\n",
       "      <td>0.03030</td>\n",
       "      <td>0.09427</td>\n",
       "      <td>0.19655</td>\n",
       "      <td>0.00557</td>\n",
       "      <td>1.08523</td>\n",
       "      <td>WY</td>\n",
       "    </tr>\n",
       "    <tr>\n",
       "      <th>3</th>\n",
       "      <td>rho</td>\n",
       "      <td>0.04577</td>\n",
       "      <td>0.00887</td>\n",
       "      <td>0.02591</td>\n",
       "      <td>0.05986</td>\n",
       "      <td>0.00190</td>\n",
       "      <td>1.10668</td>\n",
       "      <td>WY</td>\n",
       "    </tr>\n",
       "    <tr>\n",
       "      <th>4</th>\n",
       "      <td>sigma</td>\n",
       "      <td>2.28993</td>\n",
       "      <td>0.16849</td>\n",
       "      <td>1.87894</td>\n",
       "      <td>2.57195</td>\n",
       "      <td>0.01370</td>\n",
       "      <td>1.12664</td>\n",
       "      <td>WY</td>\n",
       "    </tr>\n",
       "    <tr>\n",
       "      <th>5</th>\n",
       "      <td>loss_h</td>\n",
       "      <td>0.00000</td>\n",
       "      <td>0.00000</td>\n",
       "      <td>0.00000</td>\n",
       "      <td>0.00000</td>\n",
       "      <td>0.00000</td>\n",
       "      <td>NaN</td>\n",
       "      <td>WY</td>\n",
       "    </tr>\n",
       "    <tr>\n",
       "      <th>6</th>\n",
       "      <td>loss_d</td>\n",
       "      <td>4.77330</td>\n",
       "      <td>0.13544</td>\n",
       "      <td>4.63485</td>\n",
       "      <td>5.00706</td>\n",
       "      <td>0.01296</td>\n",
       "      <td>1.00044</td>\n",
       "      <td>WY</td>\n",
       "    </tr>\n",
       "  </tbody>\n",
       "</table>\n",
       "</div>"
      ],
      "text/plain": [
       "    param      mean       sd  hdi_2.5%  hdi_97.5%  mcse_mean    r_hat state\n",
       "0      i0  11.34000  0.70490  11.00000   13.00000    0.41317  2.20702    WY\n",
       "1    beta   0.15142  0.03011   0.10872    0.21060    0.00558  1.08487    WY\n",
       "2   gamma   0.13753  0.03030   0.09427    0.19655    0.00557  1.08523    WY\n",
       "3     rho   0.04577  0.00887   0.02591    0.05986    0.00190  1.10668    WY\n",
       "4   sigma   2.28993  0.16849   1.87894    2.57195    0.01370  1.12664    WY\n",
       "5  loss_h   0.00000  0.00000   0.00000    0.00000    0.00000      NaN    WY\n",
       "6  loss_d   4.77330  0.13544   4.63485    5.00706    0.01296  1.00044    WY"
      ]
     },
     "execution_count": 18,
     "metadata": {},
     "output_type": "execute_result"
    }
   ],
   "source": [
    "summary"
   ]
  },
  {
   "cell_type": "code",
   "execution_count": 12,
   "metadata": {},
   "outputs": [
    {
     "data": {
      "application/vnd.plotly.v1+json": {
       "config": {
        "plotlyServerURL": "https://plot.ly"
       },
       "data": [
        {
         "colorbar": {
          "title": {
           "text": "Transmission Rate per Day"
          }
         },
         "colorscale": [
          [
           0,
           "rgb(255,255,229)"
          ],
          [
           0.125,
           "rgb(255,247,188)"
          ],
          [
           0.25,
           "rgb(254,227,145)"
          ],
          [
           0.375,
           "rgb(254,196,79)"
          ],
          [
           0.5,
           "rgb(254,153,41)"
          ],
          [
           0.625,
           "rgb(236,112,20)"
          ],
          [
           0.75,
           "rgb(204,76,2)"
          ],
          [
           0.875,
           "rgb(153,52,4)"
          ],
          [
           1,
           "rgb(102,37,6)"
          ]
         ],
         "locationmode": "USA-states",
         "locations": [
          "WY"
         ],
         "type": "choropleth",
         "z": [
          0.15142
         ]
        }
       ],
       "layout": {
        "geo": {
         "scope": "usa"
        },
        "template": {
         "data": {
          "bar": [
           {
            "error_x": {
             "color": "#2a3f5f"
            },
            "error_y": {
             "color": "#2a3f5f"
            },
            "marker": {
             "line": {
              "color": "#E5ECF6",
              "width": 0.5
             },
             "pattern": {
              "fillmode": "overlay",
              "size": 10,
              "solidity": 0.2
             }
            },
            "type": "bar"
           }
          ],
          "barpolar": [
           {
            "marker": {
             "line": {
              "color": "#E5ECF6",
              "width": 0.5
             },
             "pattern": {
              "fillmode": "overlay",
              "size": 10,
              "solidity": 0.2
             }
            },
            "type": "barpolar"
           }
          ],
          "carpet": [
           {
            "aaxis": {
             "endlinecolor": "#2a3f5f",
             "gridcolor": "white",
             "linecolor": "white",
             "minorgridcolor": "white",
             "startlinecolor": "#2a3f5f"
            },
            "baxis": {
             "endlinecolor": "#2a3f5f",
             "gridcolor": "white",
             "linecolor": "white",
             "minorgridcolor": "white",
             "startlinecolor": "#2a3f5f"
            },
            "type": "carpet"
           }
          ],
          "choropleth": [
           {
            "colorbar": {
             "outlinewidth": 0,
             "ticks": ""
            },
            "type": "choropleth"
           }
          ],
          "contour": [
           {
            "colorbar": {
             "outlinewidth": 0,
             "ticks": ""
            },
            "colorscale": [
             [
              0,
              "#0d0887"
             ],
             [
              0.1111111111111111,
              "#46039f"
             ],
             [
              0.2222222222222222,
              "#7201a8"
             ],
             [
              0.3333333333333333,
              "#9c179e"
             ],
             [
              0.4444444444444444,
              "#bd3786"
             ],
             [
              0.5555555555555556,
              "#d8576b"
             ],
             [
              0.6666666666666666,
              "#ed7953"
             ],
             [
              0.7777777777777778,
              "#fb9f3a"
             ],
             [
              0.8888888888888888,
              "#fdca26"
             ],
             [
              1,
              "#f0f921"
             ]
            ],
            "type": "contour"
           }
          ],
          "contourcarpet": [
           {
            "colorbar": {
             "outlinewidth": 0,
             "ticks": ""
            },
            "type": "contourcarpet"
           }
          ],
          "heatmap": [
           {
            "colorbar": {
             "outlinewidth": 0,
             "ticks": ""
            },
            "colorscale": [
             [
              0,
              "#0d0887"
             ],
             [
              0.1111111111111111,
              "#46039f"
             ],
             [
              0.2222222222222222,
              "#7201a8"
             ],
             [
              0.3333333333333333,
              "#9c179e"
             ],
             [
              0.4444444444444444,
              "#bd3786"
             ],
             [
              0.5555555555555556,
              "#d8576b"
             ],
             [
              0.6666666666666666,
              "#ed7953"
             ],
             [
              0.7777777777777778,
              "#fb9f3a"
             ],
             [
              0.8888888888888888,
              "#fdca26"
             ],
             [
              1,
              "#f0f921"
             ]
            ],
            "type": "heatmap"
           }
          ],
          "heatmapgl": [
           {
            "colorbar": {
             "outlinewidth": 0,
             "ticks": ""
            },
            "colorscale": [
             [
              0,
              "#0d0887"
             ],
             [
              0.1111111111111111,
              "#46039f"
             ],
             [
              0.2222222222222222,
              "#7201a8"
             ],
             [
              0.3333333333333333,
              "#9c179e"
             ],
             [
              0.4444444444444444,
              "#bd3786"
             ],
             [
              0.5555555555555556,
              "#d8576b"
             ],
             [
              0.6666666666666666,
              "#ed7953"
             ],
             [
              0.7777777777777778,
              "#fb9f3a"
             ],
             [
              0.8888888888888888,
              "#fdca26"
             ],
             [
              1,
              "#f0f921"
             ]
            ],
            "type": "heatmapgl"
           }
          ],
          "histogram": [
           {
            "marker": {
             "pattern": {
              "fillmode": "overlay",
              "size": 10,
              "solidity": 0.2
             }
            },
            "type": "histogram"
           }
          ],
          "histogram2d": [
           {
            "colorbar": {
             "outlinewidth": 0,
             "ticks": ""
            },
            "colorscale": [
             [
              0,
              "#0d0887"
             ],
             [
              0.1111111111111111,
              "#46039f"
             ],
             [
              0.2222222222222222,
              "#7201a8"
             ],
             [
              0.3333333333333333,
              "#9c179e"
             ],
             [
              0.4444444444444444,
              "#bd3786"
             ],
             [
              0.5555555555555556,
              "#d8576b"
             ],
             [
              0.6666666666666666,
              "#ed7953"
             ],
             [
              0.7777777777777778,
              "#fb9f3a"
             ],
             [
              0.8888888888888888,
              "#fdca26"
             ],
             [
              1,
              "#f0f921"
             ]
            ],
            "type": "histogram2d"
           }
          ],
          "histogram2dcontour": [
           {
            "colorbar": {
             "outlinewidth": 0,
             "ticks": ""
            },
            "colorscale": [
             [
              0,
              "#0d0887"
             ],
             [
              0.1111111111111111,
              "#46039f"
             ],
             [
              0.2222222222222222,
              "#7201a8"
             ],
             [
              0.3333333333333333,
              "#9c179e"
             ],
             [
              0.4444444444444444,
              "#bd3786"
             ],
             [
              0.5555555555555556,
              "#d8576b"
             ],
             [
              0.6666666666666666,
              "#ed7953"
             ],
             [
              0.7777777777777778,
              "#fb9f3a"
             ],
             [
              0.8888888888888888,
              "#fdca26"
             ],
             [
              1,
              "#f0f921"
             ]
            ],
            "type": "histogram2dcontour"
           }
          ],
          "mesh3d": [
           {
            "colorbar": {
             "outlinewidth": 0,
             "ticks": ""
            },
            "type": "mesh3d"
           }
          ],
          "parcoords": [
           {
            "line": {
             "colorbar": {
              "outlinewidth": 0,
              "ticks": ""
             }
            },
            "type": "parcoords"
           }
          ],
          "pie": [
           {
            "automargin": true,
            "type": "pie"
           }
          ],
          "scatter": [
           {
            "fillpattern": {
             "fillmode": "overlay",
             "size": 10,
             "solidity": 0.2
            },
            "type": "scatter"
           }
          ],
          "scatter3d": [
           {
            "line": {
             "colorbar": {
              "outlinewidth": 0,
              "ticks": ""
             }
            },
            "marker": {
             "colorbar": {
              "outlinewidth": 0,
              "ticks": ""
             }
            },
            "type": "scatter3d"
           }
          ],
          "scattercarpet": [
           {
            "marker": {
             "colorbar": {
              "outlinewidth": 0,
              "ticks": ""
             }
            },
            "type": "scattercarpet"
           }
          ],
          "scattergeo": [
           {
            "marker": {
             "colorbar": {
              "outlinewidth": 0,
              "ticks": ""
             }
            },
            "type": "scattergeo"
           }
          ],
          "scattergl": [
           {
            "marker": {
             "colorbar": {
              "outlinewidth": 0,
              "ticks": ""
             }
            },
            "type": "scattergl"
           }
          ],
          "scattermapbox": [
           {
            "marker": {
             "colorbar": {
              "outlinewidth": 0,
              "ticks": ""
             }
            },
            "type": "scattermapbox"
           }
          ],
          "scatterpolar": [
           {
            "marker": {
             "colorbar": {
              "outlinewidth": 0,
              "ticks": ""
             }
            },
            "type": "scatterpolar"
           }
          ],
          "scatterpolargl": [
           {
            "marker": {
             "colorbar": {
              "outlinewidth": 0,
              "ticks": ""
             }
            },
            "type": "scatterpolargl"
           }
          ],
          "scatterternary": [
           {
            "marker": {
             "colorbar": {
              "outlinewidth": 0,
              "ticks": ""
             }
            },
            "type": "scatterternary"
           }
          ],
          "surface": [
           {
            "colorbar": {
             "outlinewidth": 0,
             "ticks": ""
            },
            "colorscale": [
             [
              0,
              "#0d0887"
             ],
             [
              0.1111111111111111,
              "#46039f"
             ],
             [
              0.2222222222222222,
              "#7201a8"
             ],
             [
              0.3333333333333333,
              "#9c179e"
             ],
             [
              0.4444444444444444,
              "#bd3786"
             ],
             [
              0.5555555555555556,
              "#d8576b"
             ],
             [
              0.6666666666666666,
              "#ed7953"
             ],
             [
              0.7777777777777778,
              "#fb9f3a"
             ],
             [
              0.8888888888888888,
              "#fdca26"
             ],
             [
              1,
              "#f0f921"
             ]
            ],
            "type": "surface"
           }
          ],
          "table": [
           {
            "cells": {
             "fill": {
              "color": "#EBF0F8"
             },
             "line": {
              "color": "white"
             }
            },
            "header": {
             "fill": {
              "color": "#C8D4E3"
             },
             "line": {
              "color": "white"
             }
            },
            "type": "table"
           }
          ]
         },
         "layout": {
          "annotationdefaults": {
           "arrowcolor": "#2a3f5f",
           "arrowhead": 0,
           "arrowwidth": 1
          },
          "autotypenumbers": "strict",
          "coloraxis": {
           "colorbar": {
            "outlinewidth": 0,
            "ticks": ""
           }
          },
          "colorscale": {
           "diverging": [
            [
             0,
             "#8e0152"
            ],
            [
             0.1,
             "#c51b7d"
            ],
            [
             0.2,
             "#de77ae"
            ],
            [
             0.3,
             "#f1b6da"
            ],
            [
             0.4,
             "#fde0ef"
            ],
            [
             0.5,
             "#f7f7f7"
            ],
            [
             0.6,
             "#e6f5d0"
            ],
            [
             0.7,
             "#b8e186"
            ],
            [
             0.8,
             "#7fbc41"
            ],
            [
             0.9,
             "#4d9221"
            ],
            [
             1,
             "#276419"
            ]
           ],
           "sequential": [
            [
             0,
             "#0d0887"
            ],
            [
             0.1111111111111111,
             "#46039f"
            ],
            [
             0.2222222222222222,
             "#7201a8"
            ],
            [
             0.3333333333333333,
             "#9c179e"
            ],
            [
             0.4444444444444444,
             "#bd3786"
            ],
            [
             0.5555555555555556,
             "#d8576b"
            ],
            [
             0.6666666666666666,
             "#ed7953"
            ],
            [
             0.7777777777777778,
             "#fb9f3a"
            ],
            [
             0.8888888888888888,
             "#fdca26"
            ],
            [
             1,
             "#f0f921"
            ]
           ],
           "sequentialminus": [
            [
             0,
             "#0d0887"
            ],
            [
             0.1111111111111111,
             "#46039f"
            ],
            [
             0.2222222222222222,
             "#7201a8"
            ],
            [
             0.3333333333333333,
             "#9c179e"
            ],
            [
             0.4444444444444444,
             "#bd3786"
            ],
            [
             0.5555555555555556,
             "#d8576b"
            ],
            [
             0.6666666666666666,
             "#ed7953"
            ],
            [
             0.7777777777777778,
             "#fb9f3a"
            ],
            [
             0.8888888888888888,
             "#fdca26"
            ],
            [
             1,
             "#f0f921"
            ]
           ]
          },
          "colorway": [
           "#636efa",
           "#EF553B",
           "#00cc96",
           "#ab63fa",
           "#FFA15A",
           "#19d3f3",
           "#FF6692",
           "#B6E880",
           "#FF97FF",
           "#FECB52"
          ],
          "font": {
           "color": "#2a3f5f"
          },
          "geo": {
           "bgcolor": "white",
           "lakecolor": "white",
           "landcolor": "#E5ECF6",
           "showlakes": true,
           "showland": true,
           "subunitcolor": "white"
          },
          "hoverlabel": {
           "align": "left"
          },
          "hovermode": "closest",
          "mapbox": {
           "style": "light"
          },
          "paper_bgcolor": "white",
          "plot_bgcolor": "#E5ECF6",
          "polar": {
           "angularaxis": {
            "gridcolor": "white",
            "linecolor": "white",
            "ticks": ""
           },
           "bgcolor": "#E5ECF6",
           "radialaxis": {
            "gridcolor": "white",
            "linecolor": "white",
            "ticks": ""
           }
          },
          "scene": {
           "xaxis": {
            "backgroundcolor": "#E5ECF6",
            "gridcolor": "white",
            "gridwidth": 2,
            "linecolor": "white",
            "showbackground": true,
            "ticks": "",
            "zerolinecolor": "white"
           },
           "yaxis": {
            "backgroundcolor": "#E5ECF6",
            "gridcolor": "white",
            "gridwidth": 2,
            "linecolor": "white",
            "showbackground": true,
            "ticks": "",
            "zerolinecolor": "white"
           },
           "zaxis": {
            "backgroundcolor": "#E5ECF6",
            "gridcolor": "white",
            "gridwidth": 2,
            "linecolor": "white",
            "showbackground": true,
            "ticks": "",
            "zerolinecolor": "white"
           }
          },
          "shapedefaults": {
           "line": {
            "color": "#2a3f5f"
           }
          },
          "ternary": {
           "aaxis": {
            "gridcolor": "white",
            "linecolor": "white",
            "ticks": ""
           },
           "baxis": {
            "gridcolor": "white",
            "linecolor": "white",
            "ticks": ""
           },
           "bgcolor": "#E5ECF6",
           "caxis": {
            "gridcolor": "white",
            "linecolor": "white",
            "ticks": ""
           }
          },
          "title": {
           "x": 0.05
          },
          "xaxis": {
           "automargin": true,
           "gridcolor": "white",
           "linecolor": "white",
           "ticks": "",
           "title": {
            "standoff": 15
           },
           "zerolinecolor": "white",
           "zerolinewidth": 2
          },
          "yaxis": {
           "automargin": true,
           "gridcolor": "white",
           "linecolor": "white",
           "ticks": "",
           "title": {
            "standoff": 15
           },
           "zerolinecolor": "white",
           "zerolinewidth": 2
          }
         }
        },
        "title": {
         "text": "MCMC Estimates of COVID-19 Transmission Rate by State"
        }
       }
      }
     },
     "metadata": {},
     "output_type": "display_data"
    }
   ],
   "source": [
    "# plotting beta per state\n",
    "fig_beta = go.Figure(data=go.Choropleth(\n",
    "    locations = summary[summary['param']=='beta']['state'], # Spatial coordinates\n",
    "    z = summary[summary['param']=='beta']['mean'].astype(float), # Data to be color-coded\n",
    "    locationmode = 'USA-states', # set of locations match entries in `locations`\n",
    "    colorscale = 'YlOrBr',\n",
    "    colorbar_title = \"Transmission Rate per Day\",\n",
    "))\n",
    "\n",
    "fig_beta.update_layout(\n",
    "    title_text = 'MCMC Estimates of COVID-19 Transmission Rate by State',\n",
    "    geo_scope='usa', # limite map scope to USA\n",
    ")\n",
    "\n",
    "fig_beta.show()"
   ]
  },
  {
   "cell_type": "code",
   "execution_count": 13,
   "metadata": {},
   "outputs": [
    {
     "data": {
      "application/vnd.plotly.v1+json": {
       "config": {
        "plotlyServerURL": "https://plot.ly"
       },
       "data": [
        {
         "colorbar": {
          "title": {
           "text": "Removal Rate per Day"
          }
         },
         "colorscale": [
          [
           0,
           "rgb(247,252,245)"
          ],
          [
           0.125,
           "rgb(229,245,224)"
          ],
          [
           0.25,
           "rgb(199,233,192)"
          ],
          [
           0.375,
           "rgb(161,217,155)"
          ],
          [
           0.5,
           "rgb(116,196,118)"
          ],
          [
           0.625,
           "rgb(65,171,93)"
          ],
          [
           0.75,
           "rgb(35,139,69)"
          ],
          [
           0.875,
           "rgb(0,109,44)"
          ],
          [
           1,
           "rgb(0,68,27)"
          ]
         ],
         "locationmode": "USA-states",
         "locations": [
          "WY"
         ],
         "type": "choropleth",
         "z": [
          0.13753
         ]
        }
       ],
       "layout": {
        "geo": {
         "scope": "usa"
        },
        "template": {
         "data": {
          "bar": [
           {
            "error_x": {
             "color": "#2a3f5f"
            },
            "error_y": {
             "color": "#2a3f5f"
            },
            "marker": {
             "line": {
              "color": "#E5ECF6",
              "width": 0.5
             },
             "pattern": {
              "fillmode": "overlay",
              "size": 10,
              "solidity": 0.2
             }
            },
            "type": "bar"
           }
          ],
          "barpolar": [
           {
            "marker": {
             "line": {
              "color": "#E5ECF6",
              "width": 0.5
             },
             "pattern": {
              "fillmode": "overlay",
              "size": 10,
              "solidity": 0.2
             }
            },
            "type": "barpolar"
           }
          ],
          "carpet": [
           {
            "aaxis": {
             "endlinecolor": "#2a3f5f",
             "gridcolor": "white",
             "linecolor": "white",
             "minorgridcolor": "white",
             "startlinecolor": "#2a3f5f"
            },
            "baxis": {
             "endlinecolor": "#2a3f5f",
             "gridcolor": "white",
             "linecolor": "white",
             "minorgridcolor": "white",
             "startlinecolor": "#2a3f5f"
            },
            "type": "carpet"
           }
          ],
          "choropleth": [
           {
            "colorbar": {
             "outlinewidth": 0,
             "ticks": ""
            },
            "type": "choropleth"
           }
          ],
          "contour": [
           {
            "colorbar": {
             "outlinewidth": 0,
             "ticks": ""
            },
            "colorscale": [
             [
              0,
              "#0d0887"
             ],
             [
              0.1111111111111111,
              "#46039f"
             ],
             [
              0.2222222222222222,
              "#7201a8"
             ],
             [
              0.3333333333333333,
              "#9c179e"
             ],
             [
              0.4444444444444444,
              "#bd3786"
             ],
             [
              0.5555555555555556,
              "#d8576b"
             ],
             [
              0.6666666666666666,
              "#ed7953"
             ],
             [
              0.7777777777777778,
              "#fb9f3a"
             ],
             [
              0.8888888888888888,
              "#fdca26"
             ],
             [
              1,
              "#f0f921"
             ]
            ],
            "type": "contour"
           }
          ],
          "contourcarpet": [
           {
            "colorbar": {
             "outlinewidth": 0,
             "ticks": ""
            },
            "type": "contourcarpet"
           }
          ],
          "heatmap": [
           {
            "colorbar": {
             "outlinewidth": 0,
             "ticks": ""
            },
            "colorscale": [
             [
              0,
              "#0d0887"
             ],
             [
              0.1111111111111111,
              "#46039f"
             ],
             [
              0.2222222222222222,
              "#7201a8"
             ],
             [
              0.3333333333333333,
              "#9c179e"
             ],
             [
              0.4444444444444444,
              "#bd3786"
             ],
             [
              0.5555555555555556,
              "#d8576b"
             ],
             [
              0.6666666666666666,
              "#ed7953"
             ],
             [
              0.7777777777777778,
              "#fb9f3a"
             ],
             [
              0.8888888888888888,
              "#fdca26"
             ],
             [
              1,
              "#f0f921"
             ]
            ],
            "type": "heatmap"
           }
          ],
          "heatmapgl": [
           {
            "colorbar": {
             "outlinewidth": 0,
             "ticks": ""
            },
            "colorscale": [
             [
              0,
              "#0d0887"
             ],
             [
              0.1111111111111111,
              "#46039f"
             ],
             [
              0.2222222222222222,
              "#7201a8"
             ],
             [
              0.3333333333333333,
              "#9c179e"
             ],
             [
              0.4444444444444444,
              "#bd3786"
             ],
             [
              0.5555555555555556,
              "#d8576b"
             ],
             [
              0.6666666666666666,
              "#ed7953"
             ],
             [
              0.7777777777777778,
              "#fb9f3a"
             ],
             [
              0.8888888888888888,
              "#fdca26"
             ],
             [
              1,
              "#f0f921"
             ]
            ],
            "type": "heatmapgl"
           }
          ],
          "histogram": [
           {
            "marker": {
             "pattern": {
              "fillmode": "overlay",
              "size": 10,
              "solidity": 0.2
             }
            },
            "type": "histogram"
           }
          ],
          "histogram2d": [
           {
            "colorbar": {
             "outlinewidth": 0,
             "ticks": ""
            },
            "colorscale": [
             [
              0,
              "#0d0887"
             ],
             [
              0.1111111111111111,
              "#46039f"
             ],
             [
              0.2222222222222222,
              "#7201a8"
             ],
             [
              0.3333333333333333,
              "#9c179e"
             ],
             [
              0.4444444444444444,
              "#bd3786"
             ],
             [
              0.5555555555555556,
              "#d8576b"
             ],
             [
              0.6666666666666666,
              "#ed7953"
             ],
             [
              0.7777777777777778,
              "#fb9f3a"
             ],
             [
              0.8888888888888888,
              "#fdca26"
             ],
             [
              1,
              "#f0f921"
             ]
            ],
            "type": "histogram2d"
           }
          ],
          "histogram2dcontour": [
           {
            "colorbar": {
             "outlinewidth": 0,
             "ticks": ""
            },
            "colorscale": [
             [
              0,
              "#0d0887"
             ],
             [
              0.1111111111111111,
              "#46039f"
             ],
             [
              0.2222222222222222,
              "#7201a8"
             ],
             [
              0.3333333333333333,
              "#9c179e"
             ],
             [
              0.4444444444444444,
              "#bd3786"
             ],
             [
              0.5555555555555556,
              "#d8576b"
             ],
             [
              0.6666666666666666,
              "#ed7953"
             ],
             [
              0.7777777777777778,
              "#fb9f3a"
             ],
             [
              0.8888888888888888,
              "#fdca26"
             ],
             [
              1,
              "#f0f921"
             ]
            ],
            "type": "histogram2dcontour"
           }
          ],
          "mesh3d": [
           {
            "colorbar": {
             "outlinewidth": 0,
             "ticks": ""
            },
            "type": "mesh3d"
           }
          ],
          "parcoords": [
           {
            "line": {
             "colorbar": {
              "outlinewidth": 0,
              "ticks": ""
             }
            },
            "type": "parcoords"
           }
          ],
          "pie": [
           {
            "automargin": true,
            "type": "pie"
           }
          ],
          "scatter": [
           {
            "fillpattern": {
             "fillmode": "overlay",
             "size": 10,
             "solidity": 0.2
            },
            "type": "scatter"
           }
          ],
          "scatter3d": [
           {
            "line": {
             "colorbar": {
              "outlinewidth": 0,
              "ticks": ""
             }
            },
            "marker": {
             "colorbar": {
              "outlinewidth": 0,
              "ticks": ""
             }
            },
            "type": "scatter3d"
           }
          ],
          "scattercarpet": [
           {
            "marker": {
             "colorbar": {
              "outlinewidth": 0,
              "ticks": ""
             }
            },
            "type": "scattercarpet"
           }
          ],
          "scattergeo": [
           {
            "marker": {
             "colorbar": {
              "outlinewidth": 0,
              "ticks": ""
             }
            },
            "type": "scattergeo"
           }
          ],
          "scattergl": [
           {
            "marker": {
             "colorbar": {
              "outlinewidth": 0,
              "ticks": ""
             }
            },
            "type": "scattergl"
           }
          ],
          "scattermapbox": [
           {
            "marker": {
             "colorbar": {
              "outlinewidth": 0,
              "ticks": ""
             }
            },
            "type": "scattermapbox"
           }
          ],
          "scatterpolar": [
           {
            "marker": {
             "colorbar": {
              "outlinewidth": 0,
              "ticks": ""
             }
            },
            "type": "scatterpolar"
           }
          ],
          "scatterpolargl": [
           {
            "marker": {
             "colorbar": {
              "outlinewidth": 0,
              "ticks": ""
             }
            },
            "type": "scatterpolargl"
           }
          ],
          "scatterternary": [
           {
            "marker": {
             "colorbar": {
              "outlinewidth": 0,
              "ticks": ""
             }
            },
            "type": "scatterternary"
           }
          ],
          "surface": [
           {
            "colorbar": {
             "outlinewidth": 0,
             "ticks": ""
            },
            "colorscale": [
             [
              0,
              "#0d0887"
             ],
             [
              0.1111111111111111,
              "#46039f"
             ],
             [
              0.2222222222222222,
              "#7201a8"
             ],
             [
              0.3333333333333333,
              "#9c179e"
             ],
             [
              0.4444444444444444,
              "#bd3786"
             ],
             [
              0.5555555555555556,
              "#d8576b"
             ],
             [
              0.6666666666666666,
              "#ed7953"
             ],
             [
              0.7777777777777778,
              "#fb9f3a"
             ],
             [
              0.8888888888888888,
              "#fdca26"
             ],
             [
              1,
              "#f0f921"
             ]
            ],
            "type": "surface"
           }
          ],
          "table": [
           {
            "cells": {
             "fill": {
              "color": "#EBF0F8"
             },
             "line": {
              "color": "white"
             }
            },
            "header": {
             "fill": {
              "color": "#C8D4E3"
             },
             "line": {
              "color": "white"
             }
            },
            "type": "table"
           }
          ]
         },
         "layout": {
          "annotationdefaults": {
           "arrowcolor": "#2a3f5f",
           "arrowhead": 0,
           "arrowwidth": 1
          },
          "autotypenumbers": "strict",
          "coloraxis": {
           "colorbar": {
            "outlinewidth": 0,
            "ticks": ""
           }
          },
          "colorscale": {
           "diverging": [
            [
             0,
             "#8e0152"
            ],
            [
             0.1,
             "#c51b7d"
            ],
            [
             0.2,
             "#de77ae"
            ],
            [
             0.3,
             "#f1b6da"
            ],
            [
             0.4,
             "#fde0ef"
            ],
            [
             0.5,
             "#f7f7f7"
            ],
            [
             0.6,
             "#e6f5d0"
            ],
            [
             0.7,
             "#b8e186"
            ],
            [
             0.8,
             "#7fbc41"
            ],
            [
             0.9,
             "#4d9221"
            ],
            [
             1,
             "#276419"
            ]
           ],
           "sequential": [
            [
             0,
             "#0d0887"
            ],
            [
             0.1111111111111111,
             "#46039f"
            ],
            [
             0.2222222222222222,
             "#7201a8"
            ],
            [
             0.3333333333333333,
             "#9c179e"
            ],
            [
             0.4444444444444444,
             "#bd3786"
            ],
            [
             0.5555555555555556,
             "#d8576b"
            ],
            [
             0.6666666666666666,
             "#ed7953"
            ],
            [
             0.7777777777777778,
             "#fb9f3a"
            ],
            [
             0.8888888888888888,
             "#fdca26"
            ],
            [
             1,
             "#f0f921"
            ]
           ],
           "sequentialminus": [
            [
             0,
             "#0d0887"
            ],
            [
             0.1111111111111111,
             "#46039f"
            ],
            [
             0.2222222222222222,
             "#7201a8"
            ],
            [
             0.3333333333333333,
             "#9c179e"
            ],
            [
             0.4444444444444444,
             "#bd3786"
            ],
            [
             0.5555555555555556,
             "#d8576b"
            ],
            [
             0.6666666666666666,
             "#ed7953"
            ],
            [
             0.7777777777777778,
             "#fb9f3a"
            ],
            [
             0.8888888888888888,
             "#fdca26"
            ],
            [
             1,
             "#f0f921"
            ]
           ]
          },
          "colorway": [
           "#636efa",
           "#EF553B",
           "#00cc96",
           "#ab63fa",
           "#FFA15A",
           "#19d3f3",
           "#FF6692",
           "#B6E880",
           "#FF97FF",
           "#FECB52"
          ],
          "font": {
           "color": "#2a3f5f"
          },
          "geo": {
           "bgcolor": "white",
           "lakecolor": "white",
           "landcolor": "#E5ECF6",
           "showlakes": true,
           "showland": true,
           "subunitcolor": "white"
          },
          "hoverlabel": {
           "align": "left"
          },
          "hovermode": "closest",
          "mapbox": {
           "style": "light"
          },
          "paper_bgcolor": "white",
          "plot_bgcolor": "#E5ECF6",
          "polar": {
           "angularaxis": {
            "gridcolor": "white",
            "linecolor": "white",
            "ticks": ""
           },
           "bgcolor": "#E5ECF6",
           "radialaxis": {
            "gridcolor": "white",
            "linecolor": "white",
            "ticks": ""
           }
          },
          "scene": {
           "xaxis": {
            "backgroundcolor": "#E5ECF6",
            "gridcolor": "white",
            "gridwidth": 2,
            "linecolor": "white",
            "showbackground": true,
            "ticks": "",
            "zerolinecolor": "white"
           },
           "yaxis": {
            "backgroundcolor": "#E5ECF6",
            "gridcolor": "white",
            "gridwidth": 2,
            "linecolor": "white",
            "showbackground": true,
            "ticks": "",
            "zerolinecolor": "white"
           },
           "zaxis": {
            "backgroundcolor": "#E5ECF6",
            "gridcolor": "white",
            "gridwidth": 2,
            "linecolor": "white",
            "showbackground": true,
            "ticks": "",
            "zerolinecolor": "white"
           }
          },
          "shapedefaults": {
           "line": {
            "color": "#2a3f5f"
           }
          },
          "ternary": {
           "aaxis": {
            "gridcolor": "white",
            "linecolor": "white",
            "ticks": ""
           },
           "baxis": {
            "gridcolor": "white",
            "linecolor": "white",
            "ticks": ""
           },
           "bgcolor": "#E5ECF6",
           "caxis": {
            "gridcolor": "white",
            "linecolor": "white",
            "ticks": ""
           }
          },
          "title": {
           "x": 0.05
          },
          "xaxis": {
           "automargin": true,
           "gridcolor": "white",
           "linecolor": "white",
           "ticks": "",
           "title": {
            "standoff": 15
           },
           "zerolinecolor": "white",
           "zerolinewidth": 2
          },
          "yaxis": {
           "automargin": true,
           "gridcolor": "white",
           "linecolor": "white",
           "ticks": "",
           "title": {
            "standoff": 15
           },
           "zerolinecolor": "white",
           "zerolinewidth": 2
          }
         }
        },
        "title": {
         "text": "MCMC Estimates of COVID-19 Removal Rate by State"
        }
       }
      }
     },
     "metadata": {},
     "output_type": "display_data"
    }
   ],
   "source": [
    "# plotting gamma per state\n",
    "fig_gamma = go.Figure(data=go.Choropleth(\n",
    "    locations = summary[summary['param']=='gamma']['state'], # Spatial coordinates\n",
    "    z = summary[summary['param']=='gamma']['mean'].astype(float), # Data to be color-coded\n",
    "    locationmode = 'USA-states', # set of locations match entries in `locations`\n",
    "    colorscale = 'Greens',\n",
    "    colorbar_title = \"Removal Rate per Day\",\n",
    "))\n",
    "\n",
    "fig_gamma.update_layout(\n",
    "    title_text = 'MCMC Estimates of COVID-19 Removal Rate by State',\n",
    "    geo_scope='usa', # limite map scope to USA\n",
    ")\n",
    "\n",
    "fig_gamma.show()"
   ]
  },
  {
   "cell_type": "code",
   "execution_count": 14,
   "metadata": {},
   "outputs": [
    {
     "data": {
      "application/vnd.plotly.v1+json": {
       "config": {
        "plotlyServerURL": "https://plot.ly"
       },
       "data": [
        {
         "colorbar": {
          "title": {
           "text": "Mortality Rate per Infection"
          }
         },
         "colorscale": [
          [
           0,
           "rgb(255,245,240)"
          ],
          [
           0.125,
           "rgb(254,224,210)"
          ],
          [
           0.25,
           "rgb(252,187,161)"
          ],
          [
           0.375,
           "rgb(252,146,114)"
          ],
          [
           0.5,
           "rgb(251,106,74)"
          ],
          [
           0.625,
           "rgb(239,59,44)"
          ],
          [
           0.75,
           "rgb(203,24,29)"
          ],
          [
           0.875,
           "rgb(165,15,21)"
          ],
          [
           1,
           "rgb(103,0,13)"
          ]
         ],
         "locationmode": "USA-states",
         "locations": [
          "WY"
         ],
         "type": "choropleth",
         "z": [
          0.04577
         ]
        }
       ],
       "layout": {
        "geo": {
         "scope": "usa"
        },
        "template": {
         "data": {
          "bar": [
           {
            "error_x": {
             "color": "#2a3f5f"
            },
            "error_y": {
             "color": "#2a3f5f"
            },
            "marker": {
             "line": {
              "color": "#E5ECF6",
              "width": 0.5
             },
             "pattern": {
              "fillmode": "overlay",
              "size": 10,
              "solidity": 0.2
             }
            },
            "type": "bar"
           }
          ],
          "barpolar": [
           {
            "marker": {
             "line": {
              "color": "#E5ECF6",
              "width": 0.5
             },
             "pattern": {
              "fillmode": "overlay",
              "size": 10,
              "solidity": 0.2
             }
            },
            "type": "barpolar"
           }
          ],
          "carpet": [
           {
            "aaxis": {
             "endlinecolor": "#2a3f5f",
             "gridcolor": "white",
             "linecolor": "white",
             "minorgridcolor": "white",
             "startlinecolor": "#2a3f5f"
            },
            "baxis": {
             "endlinecolor": "#2a3f5f",
             "gridcolor": "white",
             "linecolor": "white",
             "minorgridcolor": "white",
             "startlinecolor": "#2a3f5f"
            },
            "type": "carpet"
           }
          ],
          "choropleth": [
           {
            "colorbar": {
             "outlinewidth": 0,
             "ticks": ""
            },
            "type": "choropleth"
           }
          ],
          "contour": [
           {
            "colorbar": {
             "outlinewidth": 0,
             "ticks": ""
            },
            "colorscale": [
             [
              0,
              "#0d0887"
             ],
             [
              0.1111111111111111,
              "#46039f"
             ],
             [
              0.2222222222222222,
              "#7201a8"
             ],
             [
              0.3333333333333333,
              "#9c179e"
             ],
             [
              0.4444444444444444,
              "#bd3786"
             ],
             [
              0.5555555555555556,
              "#d8576b"
             ],
             [
              0.6666666666666666,
              "#ed7953"
             ],
             [
              0.7777777777777778,
              "#fb9f3a"
             ],
             [
              0.8888888888888888,
              "#fdca26"
             ],
             [
              1,
              "#f0f921"
             ]
            ],
            "type": "contour"
           }
          ],
          "contourcarpet": [
           {
            "colorbar": {
             "outlinewidth": 0,
             "ticks": ""
            },
            "type": "contourcarpet"
           }
          ],
          "heatmap": [
           {
            "colorbar": {
             "outlinewidth": 0,
             "ticks": ""
            },
            "colorscale": [
             [
              0,
              "#0d0887"
             ],
             [
              0.1111111111111111,
              "#46039f"
             ],
             [
              0.2222222222222222,
              "#7201a8"
             ],
             [
              0.3333333333333333,
              "#9c179e"
             ],
             [
              0.4444444444444444,
              "#bd3786"
             ],
             [
              0.5555555555555556,
              "#d8576b"
             ],
             [
              0.6666666666666666,
              "#ed7953"
             ],
             [
              0.7777777777777778,
              "#fb9f3a"
             ],
             [
              0.8888888888888888,
              "#fdca26"
             ],
             [
              1,
              "#f0f921"
             ]
            ],
            "type": "heatmap"
           }
          ],
          "heatmapgl": [
           {
            "colorbar": {
             "outlinewidth": 0,
             "ticks": ""
            },
            "colorscale": [
             [
              0,
              "#0d0887"
             ],
             [
              0.1111111111111111,
              "#46039f"
             ],
             [
              0.2222222222222222,
              "#7201a8"
             ],
             [
              0.3333333333333333,
              "#9c179e"
             ],
             [
              0.4444444444444444,
              "#bd3786"
             ],
             [
              0.5555555555555556,
              "#d8576b"
             ],
             [
              0.6666666666666666,
              "#ed7953"
             ],
             [
              0.7777777777777778,
              "#fb9f3a"
             ],
             [
              0.8888888888888888,
              "#fdca26"
             ],
             [
              1,
              "#f0f921"
             ]
            ],
            "type": "heatmapgl"
           }
          ],
          "histogram": [
           {
            "marker": {
             "pattern": {
              "fillmode": "overlay",
              "size": 10,
              "solidity": 0.2
             }
            },
            "type": "histogram"
           }
          ],
          "histogram2d": [
           {
            "colorbar": {
             "outlinewidth": 0,
             "ticks": ""
            },
            "colorscale": [
             [
              0,
              "#0d0887"
             ],
             [
              0.1111111111111111,
              "#46039f"
             ],
             [
              0.2222222222222222,
              "#7201a8"
             ],
             [
              0.3333333333333333,
              "#9c179e"
             ],
             [
              0.4444444444444444,
              "#bd3786"
             ],
             [
              0.5555555555555556,
              "#d8576b"
             ],
             [
              0.6666666666666666,
              "#ed7953"
             ],
             [
              0.7777777777777778,
              "#fb9f3a"
             ],
             [
              0.8888888888888888,
              "#fdca26"
             ],
             [
              1,
              "#f0f921"
             ]
            ],
            "type": "histogram2d"
           }
          ],
          "histogram2dcontour": [
           {
            "colorbar": {
             "outlinewidth": 0,
             "ticks": ""
            },
            "colorscale": [
             [
              0,
              "#0d0887"
             ],
             [
              0.1111111111111111,
              "#46039f"
             ],
             [
              0.2222222222222222,
              "#7201a8"
             ],
             [
              0.3333333333333333,
              "#9c179e"
             ],
             [
              0.4444444444444444,
              "#bd3786"
             ],
             [
              0.5555555555555556,
              "#d8576b"
             ],
             [
              0.6666666666666666,
              "#ed7953"
             ],
             [
              0.7777777777777778,
              "#fb9f3a"
             ],
             [
              0.8888888888888888,
              "#fdca26"
             ],
             [
              1,
              "#f0f921"
             ]
            ],
            "type": "histogram2dcontour"
           }
          ],
          "mesh3d": [
           {
            "colorbar": {
             "outlinewidth": 0,
             "ticks": ""
            },
            "type": "mesh3d"
           }
          ],
          "parcoords": [
           {
            "line": {
             "colorbar": {
              "outlinewidth": 0,
              "ticks": ""
             }
            },
            "type": "parcoords"
           }
          ],
          "pie": [
           {
            "automargin": true,
            "type": "pie"
           }
          ],
          "scatter": [
           {
            "fillpattern": {
             "fillmode": "overlay",
             "size": 10,
             "solidity": 0.2
            },
            "type": "scatter"
           }
          ],
          "scatter3d": [
           {
            "line": {
             "colorbar": {
              "outlinewidth": 0,
              "ticks": ""
             }
            },
            "marker": {
             "colorbar": {
              "outlinewidth": 0,
              "ticks": ""
             }
            },
            "type": "scatter3d"
           }
          ],
          "scattercarpet": [
           {
            "marker": {
             "colorbar": {
              "outlinewidth": 0,
              "ticks": ""
             }
            },
            "type": "scattercarpet"
           }
          ],
          "scattergeo": [
           {
            "marker": {
             "colorbar": {
              "outlinewidth": 0,
              "ticks": ""
             }
            },
            "type": "scattergeo"
           }
          ],
          "scattergl": [
           {
            "marker": {
             "colorbar": {
              "outlinewidth": 0,
              "ticks": ""
             }
            },
            "type": "scattergl"
           }
          ],
          "scattermapbox": [
           {
            "marker": {
             "colorbar": {
              "outlinewidth": 0,
              "ticks": ""
             }
            },
            "type": "scattermapbox"
           }
          ],
          "scatterpolar": [
           {
            "marker": {
             "colorbar": {
              "outlinewidth": 0,
              "ticks": ""
             }
            },
            "type": "scatterpolar"
           }
          ],
          "scatterpolargl": [
           {
            "marker": {
             "colorbar": {
              "outlinewidth": 0,
              "ticks": ""
             }
            },
            "type": "scatterpolargl"
           }
          ],
          "scatterternary": [
           {
            "marker": {
             "colorbar": {
              "outlinewidth": 0,
              "ticks": ""
             }
            },
            "type": "scatterternary"
           }
          ],
          "surface": [
           {
            "colorbar": {
             "outlinewidth": 0,
             "ticks": ""
            },
            "colorscale": [
             [
              0,
              "#0d0887"
             ],
             [
              0.1111111111111111,
              "#46039f"
             ],
             [
              0.2222222222222222,
              "#7201a8"
             ],
             [
              0.3333333333333333,
              "#9c179e"
             ],
             [
              0.4444444444444444,
              "#bd3786"
             ],
             [
              0.5555555555555556,
              "#d8576b"
             ],
             [
              0.6666666666666666,
              "#ed7953"
             ],
             [
              0.7777777777777778,
              "#fb9f3a"
             ],
             [
              0.8888888888888888,
              "#fdca26"
             ],
             [
              1,
              "#f0f921"
             ]
            ],
            "type": "surface"
           }
          ],
          "table": [
           {
            "cells": {
             "fill": {
              "color": "#EBF0F8"
             },
             "line": {
              "color": "white"
             }
            },
            "header": {
             "fill": {
              "color": "#C8D4E3"
             },
             "line": {
              "color": "white"
             }
            },
            "type": "table"
           }
          ]
         },
         "layout": {
          "annotationdefaults": {
           "arrowcolor": "#2a3f5f",
           "arrowhead": 0,
           "arrowwidth": 1
          },
          "autotypenumbers": "strict",
          "coloraxis": {
           "colorbar": {
            "outlinewidth": 0,
            "ticks": ""
           }
          },
          "colorscale": {
           "diverging": [
            [
             0,
             "#8e0152"
            ],
            [
             0.1,
             "#c51b7d"
            ],
            [
             0.2,
             "#de77ae"
            ],
            [
             0.3,
             "#f1b6da"
            ],
            [
             0.4,
             "#fde0ef"
            ],
            [
             0.5,
             "#f7f7f7"
            ],
            [
             0.6,
             "#e6f5d0"
            ],
            [
             0.7,
             "#b8e186"
            ],
            [
             0.8,
             "#7fbc41"
            ],
            [
             0.9,
             "#4d9221"
            ],
            [
             1,
             "#276419"
            ]
           ],
           "sequential": [
            [
             0,
             "#0d0887"
            ],
            [
             0.1111111111111111,
             "#46039f"
            ],
            [
             0.2222222222222222,
             "#7201a8"
            ],
            [
             0.3333333333333333,
             "#9c179e"
            ],
            [
             0.4444444444444444,
             "#bd3786"
            ],
            [
             0.5555555555555556,
             "#d8576b"
            ],
            [
             0.6666666666666666,
             "#ed7953"
            ],
            [
             0.7777777777777778,
             "#fb9f3a"
            ],
            [
             0.8888888888888888,
             "#fdca26"
            ],
            [
             1,
             "#f0f921"
            ]
           ],
           "sequentialminus": [
            [
             0,
             "#0d0887"
            ],
            [
             0.1111111111111111,
             "#46039f"
            ],
            [
             0.2222222222222222,
             "#7201a8"
            ],
            [
             0.3333333333333333,
             "#9c179e"
            ],
            [
             0.4444444444444444,
             "#bd3786"
            ],
            [
             0.5555555555555556,
             "#d8576b"
            ],
            [
             0.6666666666666666,
             "#ed7953"
            ],
            [
             0.7777777777777778,
             "#fb9f3a"
            ],
            [
             0.8888888888888888,
             "#fdca26"
            ],
            [
             1,
             "#f0f921"
            ]
           ]
          },
          "colorway": [
           "#636efa",
           "#EF553B",
           "#00cc96",
           "#ab63fa",
           "#FFA15A",
           "#19d3f3",
           "#FF6692",
           "#B6E880",
           "#FF97FF",
           "#FECB52"
          ],
          "font": {
           "color": "#2a3f5f"
          },
          "geo": {
           "bgcolor": "white",
           "lakecolor": "white",
           "landcolor": "#E5ECF6",
           "showlakes": true,
           "showland": true,
           "subunitcolor": "white"
          },
          "hoverlabel": {
           "align": "left"
          },
          "hovermode": "closest",
          "mapbox": {
           "style": "light"
          },
          "paper_bgcolor": "white",
          "plot_bgcolor": "#E5ECF6",
          "polar": {
           "angularaxis": {
            "gridcolor": "white",
            "linecolor": "white",
            "ticks": ""
           },
           "bgcolor": "#E5ECF6",
           "radialaxis": {
            "gridcolor": "white",
            "linecolor": "white",
            "ticks": ""
           }
          },
          "scene": {
           "xaxis": {
            "backgroundcolor": "#E5ECF6",
            "gridcolor": "white",
            "gridwidth": 2,
            "linecolor": "white",
            "showbackground": true,
            "ticks": "",
            "zerolinecolor": "white"
           },
           "yaxis": {
            "backgroundcolor": "#E5ECF6",
            "gridcolor": "white",
            "gridwidth": 2,
            "linecolor": "white",
            "showbackground": true,
            "ticks": "",
            "zerolinecolor": "white"
           },
           "zaxis": {
            "backgroundcolor": "#E5ECF6",
            "gridcolor": "white",
            "gridwidth": 2,
            "linecolor": "white",
            "showbackground": true,
            "ticks": "",
            "zerolinecolor": "white"
           }
          },
          "shapedefaults": {
           "line": {
            "color": "#2a3f5f"
           }
          },
          "ternary": {
           "aaxis": {
            "gridcolor": "white",
            "linecolor": "white",
            "ticks": ""
           },
           "baxis": {
            "gridcolor": "white",
            "linecolor": "white",
            "ticks": ""
           },
           "bgcolor": "#E5ECF6",
           "caxis": {
            "gridcolor": "white",
            "linecolor": "white",
            "ticks": ""
           }
          },
          "title": {
           "x": 0.05
          },
          "xaxis": {
           "automargin": true,
           "gridcolor": "white",
           "linecolor": "white",
           "ticks": "",
           "title": {
            "standoff": 15
           },
           "zerolinecolor": "white",
           "zerolinewidth": 2
          },
          "yaxis": {
           "automargin": true,
           "gridcolor": "white",
           "linecolor": "white",
           "ticks": "",
           "title": {
            "standoff": 15
           },
           "zerolinecolor": "white",
           "zerolinewidth": 2
          }
         }
        },
        "title": {
         "text": "MCMC Estimates of COVID-19 Mortality Rate by State"
        }
       }
      }
     },
     "metadata": {},
     "output_type": "display_data"
    }
   ],
   "source": [
    "# plotting rho per state\n",
    "fig_rho = go.Figure(data=go.Choropleth(\n",
    "    locations = summary[summary['param']=='rho']['state'], # Spatial coordinates\n",
    "    z = summary[summary['param']=='rho']['mean'].astype(float), # Data to be color-coded\n",
    "    locationmode = 'USA-states', # set of locations match entries in `locations`\n",
    "    colorscale = 'Reds',\n",
    "    colorbar_title = \"Mortality Rate per Infection\",\n",
    "))\n",
    "\n",
    "fig_rho.update_layout(\n",
    "    title_text = 'MCMC Estimates of COVID-19 Mortality Rate by State',\n",
    "    geo_scope='usa', # limite map scope to USA\n",
    ")\n",
    "\n",
    "fig_rho.show()"
   ]
  },
  {
   "cell_type": "code",
   "execution_count": 15,
   "metadata": {},
   "outputs": [
    {
     "data": {
      "application/vnd.plotly.v1+json": {
       "config": {
        "plotlyServerURL": "https://plot.ly"
       },
       "data": [
        {
         "colorbar": {
          "title": {
           "text": "Mortality Rate per Infection"
          }
         },
         "colorscale": [
          [
           0,
           "rgb(255,245,240)"
          ],
          [
           0.125,
           "rgb(254,224,210)"
          ],
          [
           0.25,
           "rgb(252,187,161)"
          ],
          [
           0.375,
           "rgb(252,146,114)"
          ],
          [
           0.5,
           "rgb(251,106,74)"
          ],
          [
           0.625,
           "rgb(239,59,44)"
          ],
          [
           0.75,
           "rgb(203,24,29)"
          ],
          [
           0.875,
           "rgb(165,15,21)"
          ],
          [
           1,
           "rgb(103,0,13)"
          ]
         ],
         "locationmode": "USA-states",
         "locations": [
          "WY"
         ],
         "type": "choropleth",
         "z": [
          0.04577
         ]
        }
       ],
       "layout": {
        "geo": {
         "scope": "usa"
        },
        "template": {
         "data": {
          "bar": [
           {
            "error_x": {
             "color": "#2a3f5f"
            },
            "error_y": {
             "color": "#2a3f5f"
            },
            "marker": {
             "line": {
              "color": "#E5ECF6",
              "width": 0.5
             },
             "pattern": {
              "fillmode": "overlay",
              "size": 10,
              "solidity": 0.2
             }
            },
            "type": "bar"
           }
          ],
          "barpolar": [
           {
            "marker": {
             "line": {
              "color": "#E5ECF6",
              "width": 0.5
             },
             "pattern": {
              "fillmode": "overlay",
              "size": 10,
              "solidity": 0.2
             }
            },
            "type": "barpolar"
           }
          ],
          "carpet": [
           {
            "aaxis": {
             "endlinecolor": "#2a3f5f",
             "gridcolor": "white",
             "linecolor": "white",
             "minorgridcolor": "white",
             "startlinecolor": "#2a3f5f"
            },
            "baxis": {
             "endlinecolor": "#2a3f5f",
             "gridcolor": "white",
             "linecolor": "white",
             "minorgridcolor": "white",
             "startlinecolor": "#2a3f5f"
            },
            "type": "carpet"
           }
          ],
          "choropleth": [
           {
            "colorbar": {
             "outlinewidth": 0,
             "ticks": ""
            },
            "type": "choropleth"
           }
          ],
          "contour": [
           {
            "colorbar": {
             "outlinewidth": 0,
             "ticks": ""
            },
            "colorscale": [
             [
              0,
              "#0d0887"
             ],
             [
              0.1111111111111111,
              "#46039f"
             ],
             [
              0.2222222222222222,
              "#7201a8"
             ],
             [
              0.3333333333333333,
              "#9c179e"
             ],
             [
              0.4444444444444444,
              "#bd3786"
             ],
             [
              0.5555555555555556,
              "#d8576b"
             ],
             [
              0.6666666666666666,
              "#ed7953"
             ],
             [
              0.7777777777777778,
              "#fb9f3a"
             ],
             [
              0.8888888888888888,
              "#fdca26"
             ],
             [
              1,
              "#f0f921"
             ]
            ],
            "type": "contour"
           }
          ],
          "contourcarpet": [
           {
            "colorbar": {
             "outlinewidth": 0,
             "ticks": ""
            },
            "type": "contourcarpet"
           }
          ],
          "heatmap": [
           {
            "colorbar": {
             "outlinewidth": 0,
             "ticks": ""
            },
            "colorscale": [
             [
              0,
              "#0d0887"
             ],
             [
              0.1111111111111111,
              "#46039f"
             ],
             [
              0.2222222222222222,
              "#7201a8"
             ],
             [
              0.3333333333333333,
              "#9c179e"
             ],
             [
              0.4444444444444444,
              "#bd3786"
             ],
             [
              0.5555555555555556,
              "#d8576b"
             ],
             [
              0.6666666666666666,
              "#ed7953"
             ],
             [
              0.7777777777777778,
              "#fb9f3a"
             ],
             [
              0.8888888888888888,
              "#fdca26"
             ],
             [
              1,
              "#f0f921"
             ]
            ],
            "type": "heatmap"
           }
          ],
          "heatmapgl": [
           {
            "colorbar": {
             "outlinewidth": 0,
             "ticks": ""
            },
            "colorscale": [
             [
              0,
              "#0d0887"
             ],
             [
              0.1111111111111111,
              "#46039f"
             ],
             [
              0.2222222222222222,
              "#7201a8"
             ],
             [
              0.3333333333333333,
              "#9c179e"
             ],
             [
              0.4444444444444444,
              "#bd3786"
             ],
             [
              0.5555555555555556,
              "#d8576b"
             ],
             [
              0.6666666666666666,
              "#ed7953"
             ],
             [
              0.7777777777777778,
              "#fb9f3a"
             ],
             [
              0.8888888888888888,
              "#fdca26"
             ],
             [
              1,
              "#f0f921"
             ]
            ],
            "type": "heatmapgl"
           }
          ],
          "histogram": [
           {
            "marker": {
             "pattern": {
              "fillmode": "overlay",
              "size": 10,
              "solidity": 0.2
             }
            },
            "type": "histogram"
           }
          ],
          "histogram2d": [
           {
            "colorbar": {
             "outlinewidth": 0,
             "ticks": ""
            },
            "colorscale": [
             [
              0,
              "#0d0887"
             ],
             [
              0.1111111111111111,
              "#46039f"
             ],
             [
              0.2222222222222222,
              "#7201a8"
             ],
             [
              0.3333333333333333,
              "#9c179e"
             ],
             [
              0.4444444444444444,
              "#bd3786"
             ],
             [
              0.5555555555555556,
              "#d8576b"
             ],
             [
              0.6666666666666666,
              "#ed7953"
             ],
             [
              0.7777777777777778,
              "#fb9f3a"
             ],
             [
              0.8888888888888888,
              "#fdca26"
             ],
             [
              1,
              "#f0f921"
             ]
            ],
            "type": "histogram2d"
           }
          ],
          "histogram2dcontour": [
           {
            "colorbar": {
             "outlinewidth": 0,
             "ticks": ""
            },
            "colorscale": [
             [
              0,
              "#0d0887"
             ],
             [
              0.1111111111111111,
              "#46039f"
             ],
             [
              0.2222222222222222,
              "#7201a8"
             ],
             [
              0.3333333333333333,
              "#9c179e"
             ],
             [
              0.4444444444444444,
              "#bd3786"
             ],
             [
              0.5555555555555556,
              "#d8576b"
             ],
             [
              0.6666666666666666,
              "#ed7953"
             ],
             [
              0.7777777777777778,
              "#fb9f3a"
             ],
             [
              0.8888888888888888,
              "#fdca26"
             ],
             [
              1,
              "#f0f921"
             ]
            ],
            "type": "histogram2dcontour"
           }
          ],
          "mesh3d": [
           {
            "colorbar": {
             "outlinewidth": 0,
             "ticks": ""
            },
            "type": "mesh3d"
           }
          ],
          "parcoords": [
           {
            "line": {
             "colorbar": {
              "outlinewidth": 0,
              "ticks": ""
             }
            },
            "type": "parcoords"
           }
          ],
          "pie": [
           {
            "automargin": true,
            "type": "pie"
           }
          ],
          "scatter": [
           {
            "fillpattern": {
             "fillmode": "overlay",
             "size": 10,
             "solidity": 0.2
            },
            "type": "scatter"
           }
          ],
          "scatter3d": [
           {
            "line": {
             "colorbar": {
              "outlinewidth": 0,
              "ticks": ""
             }
            },
            "marker": {
             "colorbar": {
              "outlinewidth": 0,
              "ticks": ""
             }
            },
            "type": "scatter3d"
           }
          ],
          "scattercarpet": [
           {
            "marker": {
             "colorbar": {
              "outlinewidth": 0,
              "ticks": ""
             }
            },
            "type": "scattercarpet"
           }
          ],
          "scattergeo": [
           {
            "marker": {
             "colorbar": {
              "outlinewidth": 0,
              "ticks": ""
             }
            },
            "type": "scattergeo"
           }
          ],
          "scattergl": [
           {
            "marker": {
             "colorbar": {
              "outlinewidth": 0,
              "ticks": ""
             }
            },
            "type": "scattergl"
           }
          ],
          "scattermapbox": [
           {
            "marker": {
             "colorbar": {
              "outlinewidth": 0,
              "ticks": ""
             }
            },
            "type": "scattermapbox"
           }
          ],
          "scatterpolar": [
           {
            "marker": {
             "colorbar": {
              "outlinewidth": 0,
              "ticks": ""
             }
            },
            "type": "scatterpolar"
           }
          ],
          "scatterpolargl": [
           {
            "marker": {
             "colorbar": {
              "outlinewidth": 0,
              "ticks": ""
             }
            },
            "type": "scatterpolargl"
           }
          ],
          "scatterternary": [
           {
            "marker": {
             "colorbar": {
              "outlinewidth": 0,
              "ticks": ""
             }
            },
            "type": "scatterternary"
           }
          ],
          "surface": [
           {
            "colorbar": {
             "outlinewidth": 0,
             "ticks": ""
            },
            "colorscale": [
             [
              0,
              "#0d0887"
             ],
             [
              0.1111111111111111,
              "#46039f"
             ],
             [
              0.2222222222222222,
              "#7201a8"
             ],
             [
              0.3333333333333333,
              "#9c179e"
             ],
             [
              0.4444444444444444,
              "#bd3786"
             ],
             [
              0.5555555555555556,
              "#d8576b"
             ],
             [
              0.6666666666666666,
              "#ed7953"
             ],
             [
              0.7777777777777778,
              "#fb9f3a"
             ],
             [
              0.8888888888888888,
              "#fdca26"
             ],
             [
              1,
              "#f0f921"
             ]
            ],
            "type": "surface"
           }
          ],
          "table": [
           {
            "cells": {
             "fill": {
              "color": "#EBF0F8"
             },
             "line": {
              "color": "white"
             }
            },
            "header": {
             "fill": {
              "color": "#C8D4E3"
             },
             "line": {
              "color": "white"
             }
            },
            "type": "table"
           }
          ]
         },
         "layout": {
          "annotationdefaults": {
           "arrowcolor": "#2a3f5f",
           "arrowhead": 0,
           "arrowwidth": 1
          },
          "autotypenumbers": "strict",
          "coloraxis": {
           "colorbar": {
            "outlinewidth": 0,
            "ticks": ""
           }
          },
          "colorscale": {
           "diverging": [
            [
             0,
             "#8e0152"
            ],
            [
             0.1,
             "#c51b7d"
            ],
            [
             0.2,
             "#de77ae"
            ],
            [
             0.3,
             "#f1b6da"
            ],
            [
             0.4,
             "#fde0ef"
            ],
            [
             0.5,
             "#f7f7f7"
            ],
            [
             0.6,
             "#e6f5d0"
            ],
            [
             0.7,
             "#b8e186"
            ],
            [
             0.8,
             "#7fbc41"
            ],
            [
             0.9,
             "#4d9221"
            ],
            [
             1,
             "#276419"
            ]
           ],
           "sequential": [
            [
             0,
             "#0d0887"
            ],
            [
             0.1111111111111111,
             "#46039f"
            ],
            [
             0.2222222222222222,
             "#7201a8"
            ],
            [
             0.3333333333333333,
             "#9c179e"
            ],
            [
             0.4444444444444444,
             "#bd3786"
            ],
            [
             0.5555555555555556,
             "#d8576b"
            ],
            [
             0.6666666666666666,
             "#ed7953"
            ],
            [
             0.7777777777777778,
             "#fb9f3a"
            ],
            [
             0.8888888888888888,
             "#fdca26"
            ],
            [
             1,
             "#f0f921"
            ]
           ],
           "sequentialminus": [
            [
             0,
             "#0d0887"
            ],
            [
             0.1111111111111111,
             "#46039f"
            ],
            [
             0.2222222222222222,
             "#7201a8"
            ],
            [
             0.3333333333333333,
             "#9c179e"
            ],
            [
             0.4444444444444444,
             "#bd3786"
            ],
            [
             0.5555555555555556,
             "#d8576b"
            ],
            [
             0.6666666666666666,
             "#ed7953"
            ],
            [
             0.7777777777777778,
             "#fb9f3a"
            ],
            [
             0.8888888888888888,
             "#fdca26"
            ],
            [
             1,
             "#f0f921"
            ]
           ]
          },
          "colorway": [
           "#636efa",
           "#EF553B",
           "#00cc96",
           "#ab63fa",
           "#FFA15A",
           "#19d3f3",
           "#FF6692",
           "#B6E880",
           "#FF97FF",
           "#FECB52"
          ],
          "font": {
           "color": "#2a3f5f"
          },
          "geo": {
           "bgcolor": "white",
           "lakecolor": "white",
           "landcolor": "#E5ECF6",
           "showlakes": true,
           "showland": true,
           "subunitcolor": "white"
          },
          "hoverlabel": {
           "align": "left"
          },
          "hovermode": "closest",
          "mapbox": {
           "style": "light"
          },
          "paper_bgcolor": "white",
          "plot_bgcolor": "#E5ECF6",
          "polar": {
           "angularaxis": {
            "gridcolor": "white",
            "linecolor": "white",
            "ticks": ""
           },
           "bgcolor": "#E5ECF6",
           "radialaxis": {
            "gridcolor": "white",
            "linecolor": "white",
            "ticks": ""
           }
          },
          "scene": {
           "xaxis": {
            "backgroundcolor": "#E5ECF6",
            "gridcolor": "white",
            "gridwidth": 2,
            "linecolor": "white",
            "showbackground": true,
            "ticks": "",
            "zerolinecolor": "white"
           },
           "yaxis": {
            "backgroundcolor": "#E5ECF6",
            "gridcolor": "white",
            "gridwidth": 2,
            "linecolor": "white",
            "showbackground": true,
            "ticks": "",
            "zerolinecolor": "white"
           },
           "zaxis": {
            "backgroundcolor": "#E5ECF6",
            "gridcolor": "white",
            "gridwidth": 2,
            "linecolor": "white",
            "showbackground": true,
            "ticks": "",
            "zerolinecolor": "white"
           }
          },
          "shapedefaults": {
           "line": {
            "color": "#2a3f5f"
           }
          },
          "ternary": {
           "aaxis": {
            "gridcolor": "white",
            "linecolor": "white",
            "ticks": ""
           },
           "baxis": {
            "gridcolor": "white",
            "linecolor": "white",
            "ticks": ""
           },
           "bgcolor": "#E5ECF6",
           "caxis": {
            "gridcolor": "white",
            "linecolor": "white",
            "ticks": ""
           }
          },
          "title": {
           "x": 0.05
          },
          "xaxis": {
           "automargin": true,
           "gridcolor": "white",
           "linecolor": "white",
           "ticks": "",
           "title": {
            "standoff": 15
           },
           "zerolinecolor": "white",
           "zerolinewidth": 2
          },
          "yaxis": {
           "automargin": true,
           "gridcolor": "white",
           "linecolor": "white",
           "ticks": "",
           "title": {
            "standoff": 15
           },
           "zerolinecolor": "white",
           "zerolinewidth": 2
          }
         }
        },
        "title": {
         "text": "MCMC Estimates of COVID-19 Mortality Rate by State"
        }
       }
      }
     },
     "metadata": {},
     "output_type": "display_data"
    }
   ],
   "source": [
    "# plotting rho per state\n",
    "fig_rho = go.Figure(data=go.Choropleth(\n",
    "    locations = summary[summary['param']=='rho']['state'], # Spatial coordinates\n",
    "    z = summary[summary['param']=='rho']['mean'].astype(float), # Data to be color-coded\n",
    "    locationmode = 'USA-states', # set of locations match entries in `locations`\n",
    "    colorscale = 'Reds',\n",
    "    colorbar_title = \"Mortality Rate per Infection\",\n",
    "))\n",
    "\n",
    "fig_rho.update_layout(\n",
    "    title_text = 'MCMC Estimates of COVID-19 Mortality Rate by State',\n",
    "    geo_scope='usa', # limite map scope to USA\n",
    ")\n",
    "\n",
    "fig_rho.show()"
   ]
  },
  {
   "cell_type": "code",
   "execution_count": 16,
   "metadata": {},
   "outputs": [
    {
     "data": {
      "application/vnd.plotly.v1+json": {
       "config": {
        "plotlyServerURL": "https://plot.ly"
       },
       "data": [
        {
         "colorbar": {
          "title": {
           "text": "Overall Risk"
          }
         },
         "colorscale": [
          [
           0,
           "rgb(251, 230, 197)"
          ],
          [
           0.16666666666666666,
           "rgb(245, 186, 152)"
          ],
          [
           0.3333333333333333,
           "rgb(238, 138, 130)"
          ],
          [
           0.5,
           "rgb(220, 113, 118)"
          ],
          [
           0.6666666666666666,
           "rgb(200, 88, 108)"
          ],
          [
           0.8333333333333334,
           "rgb(156, 63, 93)"
          ],
          [
           1,
           "rgb(112, 40, 74)"
          ]
         ],
         "locationmode": "USA-states",
         "locations": [
          "WY"
         ],
         "type": "choropleth",
         "z": [
          0.050392593615938334
         ]
        }
       ],
       "layout": {
        "geo": {
         "scope": "usa"
        },
        "template": {
         "data": {
          "bar": [
           {
            "error_x": {
             "color": "#2a3f5f"
            },
            "error_y": {
             "color": "#2a3f5f"
            },
            "marker": {
             "line": {
              "color": "#E5ECF6",
              "width": 0.5
             },
             "pattern": {
              "fillmode": "overlay",
              "size": 10,
              "solidity": 0.2
             }
            },
            "type": "bar"
           }
          ],
          "barpolar": [
           {
            "marker": {
             "line": {
              "color": "#E5ECF6",
              "width": 0.5
             },
             "pattern": {
              "fillmode": "overlay",
              "size": 10,
              "solidity": 0.2
             }
            },
            "type": "barpolar"
           }
          ],
          "carpet": [
           {
            "aaxis": {
             "endlinecolor": "#2a3f5f",
             "gridcolor": "white",
             "linecolor": "white",
             "minorgridcolor": "white",
             "startlinecolor": "#2a3f5f"
            },
            "baxis": {
             "endlinecolor": "#2a3f5f",
             "gridcolor": "white",
             "linecolor": "white",
             "minorgridcolor": "white",
             "startlinecolor": "#2a3f5f"
            },
            "type": "carpet"
           }
          ],
          "choropleth": [
           {
            "colorbar": {
             "outlinewidth": 0,
             "ticks": ""
            },
            "type": "choropleth"
           }
          ],
          "contour": [
           {
            "colorbar": {
             "outlinewidth": 0,
             "ticks": ""
            },
            "colorscale": [
             [
              0,
              "#0d0887"
             ],
             [
              0.1111111111111111,
              "#46039f"
             ],
             [
              0.2222222222222222,
              "#7201a8"
             ],
             [
              0.3333333333333333,
              "#9c179e"
             ],
             [
              0.4444444444444444,
              "#bd3786"
             ],
             [
              0.5555555555555556,
              "#d8576b"
             ],
             [
              0.6666666666666666,
              "#ed7953"
             ],
             [
              0.7777777777777778,
              "#fb9f3a"
             ],
             [
              0.8888888888888888,
              "#fdca26"
             ],
             [
              1,
              "#f0f921"
             ]
            ],
            "type": "contour"
           }
          ],
          "contourcarpet": [
           {
            "colorbar": {
             "outlinewidth": 0,
             "ticks": ""
            },
            "type": "contourcarpet"
           }
          ],
          "heatmap": [
           {
            "colorbar": {
             "outlinewidth": 0,
             "ticks": ""
            },
            "colorscale": [
             [
              0,
              "#0d0887"
             ],
             [
              0.1111111111111111,
              "#46039f"
             ],
             [
              0.2222222222222222,
              "#7201a8"
             ],
             [
              0.3333333333333333,
              "#9c179e"
             ],
             [
              0.4444444444444444,
              "#bd3786"
             ],
             [
              0.5555555555555556,
              "#d8576b"
             ],
             [
              0.6666666666666666,
              "#ed7953"
             ],
             [
              0.7777777777777778,
              "#fb9f3a"
             ],
             [
              0.8888888888888888,
              "#fdca26"
             ],
             [
              1,
              "#f0f921"
             ]
            ],
            "type": "heatmap"
           }
          ],
          "heatmapgl": [
           {
            "colorbar": {
             "outlinewidth": 0,
             "ticks": ""
            },
            "colorscale": [
             [
              0,
              "#0d0887"
             ],
             [
              0.1111111111111111,
              "#46039f"
             ],
             [
              0.2222222222222222,
              "#7201a8"
             ],
             [
              0.3333333333333333,
              "#9c179e"
             ],
             [
              0.4444444444444444,
              "#bd3786"
             ],
             [
              0.5555555555555556,
              "#d8576b"
             ],
             [
              0.6666666666666666,
              "#ed7953"
             ],
             [
              0.7777777777777778,
              "#fb9f3a"
             ],
             [
              0.8888888888888888,
              "#fdca26"
             ],
             [
              1,
              "#f0f921"
             ]
            ],
            "type": "heatmapgl"
           }
          ],
          "histogram": [
           {
            "marker": {
             "pattern": {
              "fillmode": "overlay",
              "size": 10,
              "solidity": 0.2
             }
            },
            "type": "histogram"
           }
          ],
          "histogram2d": [
           {
            "colorbar": {
             "outlinewidth": 0,
             "ticks": ""
            },
            "colorscale": [
             [
              0,
              "#0d0887"
             ],
             [
              0.1111111111111111,
              "#46039f"
             ],
             [
              0.2222222222222222,
              "#7201a8"
             ],
             [
              0.3333333333333333,
              "#9c179e"
             ],
             [
              0.4444444444444444,
              "#bd3786"
             ],
             [
              0.5555555555555556,
              "#d8576b"
             ],
             [
              0.6666666666666666,
              "#ed7953"
             ],
             [
              0.7777777777777778,
              "#fb9f3a"
             ],
             [
              0.8888888888888888,
              "#fdca26"
             ],
             [
              1,
              "#f0f921"
             ]
            ],
            "type": "histogram2d"
           }
          ],
          "histogram2dcontour": [
           {
            "colorbar": {
             "outlinewidth": 0,
             "ticks": ""
            },
            "colorscale": [
             [
              0,
              "#0d0887"
             ],
             [
              0.1111111111111111,
              "#46039f"
             ],
             [
              0.2222222222222222,
              "#7201a8"
             ],
             [
              0.3333333333333333,
              "#9c179e"
             ],
             [
              0.4444444444444444,
              "#bd3786"
             ],
             [
              0.5555555555555556,
              "#d8576b"
             ],
             [
              0.6666666666666666,
              "#ed7953"
             ],
             [
              0.7777777777777778,
              "#fb9f3a"
             ],
             [
              0.8888888888888888,
              "#fdca26"
             ],
             [
              1,
              "#f0f921"
             ]
            ],
            "type": "histogram2dcontour"
           }
          ],
          "mesh3d": [
           {
            "colorbar": {
             "outlinewidth": 0,
             "ticks": ""
            },
            "type": "mesh3d"
           }
          ],
          "parcoords": [
           {
            "line": {
             "colorbar": {
              "outlinewidth": 0,
              "ticks": ""
             }
            },
            "type": "parcoords"
           }
          ],
          "pie": [
           {
            "automargin": true,
            "type": "pie"
           }
          ],
          "scatter": [
           {
            "fillpattern": {
             "fillmode": "overlay",
             "size": 10,
             "solidity": 0.2
            },
            "type": "scatter"
           }
          ],
          "scatter3d": [
           {
            "line": {
             "colorbar": {
              "outlinewidth": 0,
              "ticks": ""
             }
            },
            "marker": {
             "colorbar": {
              "outlinewidth": 0,
              "ticks": ""
             }
            },
            "type": "scatter3d"
           }
          ],
          "scattercarpet": [
           {
            "marker": {
             "colorbar": {
              "outlinewidth": 0,
              "ticks": ""
             }
            },
            "type": "scattercarpet"
           }
          ],
          "scattergeo": [
           {
            "marker": {
             "colorbar": {
              "outlinewidth": 0,
              "ticks": ""
             }
            },
            "type": "scattergeo"
           }
          ],
          "scattergl": [
           {
            "marker": {
             "colorbar": {
              "outlinewidth": 0,
              "ticks": ""
             }
            },
            "type": "scattergl"
           }
          ],
          "scattermapbox": [
           {
            "marker": {
             "colorbar": {
              "outlinewidth": 0,
              "ticks": ""
             }
            },
            "type": "scattermapbox"
           }
          ],
          "scatterpolar": [
           {
            "marker": {
             "colorbar": {
              "outlinewidth": 0,
              "ticks": ""
             }
            },
            "type": "scatterpolar"
           }
          ],
          "scatterpolargl": [
           {
            "marker": {
             "colorbar": {
              "outlinewidth": 0,
              "ticks": ""
             }
            },
            "type": "scatterpolargl"
           }
          ],
          "scatterternary": [
           {
            "marker": {
             "colorbar": {
              "outlinewidth": 0,
              "ticks": ""
             }
            },
            "type": "scatterternary"
           }
          ],
          "surface": [
           {
            "colorbar": {
             "outlinewidth": 0,
             "ticks": ""
            },
            "colorscale": [
             [
              0,
              "#0d0887"
             ],
             [
              0.1111111111111111,
              "#46039f"
             ],
             [
              0.2222222222222222,
              "#7201a8"
             ],
             [
              0.3333333333333333,
              "#9c179e"
             ],
             [
              0.4444444444444444,
              "#bd3786"
             ],
             [
              0.5555555555555556,
              "#d8576b"
             ],
             [
              0.6666666666666666,
              "#ed7953"
             ],
             [
              0.7777777777777778,
              "#fb9f3a"
             ],
             [
              0.8888888888888888,
              "#fdca26"
             ],
             [
              1,
              "#f0f921"
             ]
            ],
            "type": "surface"
           }
          ],
          "table": [
           {
            "cells": {
             "fill": {
              "color": "#EBF0F8"
             },
             "line": {
              "color": "white"
             }
            },
            "header": {
             "fill": {
              "color": "#C8D4E3"
             },
             "line": {
              "color": "white"
             }
            },
            "type": "table"
           }
          ]
         },
         "layout": {
          "annotationdefaults": {
           "arrowcolor": "#2a3f5f",
           "arrowhead": 0,
           "arrowwidth": 1
          },
          "autotypenumbers": "strict",
          "coloraxis": {
           "colorbar": {
            "outlinewidth": 0,
            "ticks": ""
           }
          },
          "colorscale": {
           "diverging": [
            [
             0,
             "#8e0152"
            ],
            [
             0.1,
             "#c51b7d"
            ],
            [
             0.2,
             "#de77ae"
            ],
            [
             0.3,
             "#f1b6da"
            ],
            [
             0.4,
             "#fde0ef"
            ],
            [
             0.5,
             "#f7f7f7"
            ],
            [
             0.6,
             "#e6f5d0"
            ],
            [
             0.7,
             "#b8e186"
            ],
            [
             0.8,
             "#7fbc41"
            ],
            [
             0.9,
             "#4d9221"
            ],
            [
             1,
             "#276419"
            ]
           ],
           "sequential": [
            [
             0,
             "#0d0887"
            ],
            [
             0.1111111111111111,
             "#46039f"
            ],
            [
             0.2222222222222222,
             "#7201a8"
            ],
            [
             0.3333333333333333,
             "#9c179e"
            ],
            [
             0.4444444444444444,
             "#bd3786"
            ],
            [
             0.5555555555555556,
             "#d8576b"
            ],
            [
             0.6666666666666666,
             "#ed7953"
            ],
            [
             0.7777777777777778,
             "#fb9f3a"
            ],
            [
             0.8888888888888888,
             "#fdca26"
            ],
            [
             1,
             "#f0f921"
            ]
           ],
           "sequentialminus": [
            [
             0,
             "#0d0887"
            ],
            [
             0.1111111111111111,
             "#46039f"
            ],
            [
             0.2222222222222222,
             "#7201a8"
            ],
            [
             0.3333333333333333,
             "#9c179e"
            ],
            [
             0.4444444444444444,
             "#bd3786"
            ],
            [
             0.5555555555555556,
             "#d8576b"
            ],
            [
             0.6666666666666666,
             "#ed7953"
            ],
            [
             0.7777777777777778,
             "#fb9f3a"
            ],
            [
             0.8888888888888888,
             "#fdca26"
            ],
            [
             1,
             "#f0f921"
            ]
           ]
          },
          "colorway": [
           "#636efa",
           "#EF553B",
           "#00cc96",
           "#ab63fa",
           "#FFA15A",
           "#19d3f3",
           "#FF6692",
           "#B6E880",
           "#FF97FF",
           "#FECB52"
          ],
          "font": {
           "color": "#2a3f5f"
          },
          "geo": {
           "bgcolor": "white",
           "lakecolor": "white",
           "landcolor": "#E5ECF6",
           "showlakes": true,
           "showland": true,
           "subunitcolor": "white"
          },
          "hoverlabel": {
           "align": "left"
          },
          "hovermode": "closest",
          "mapbox": {
           "style": "light"
          },
          "paper_bgcolor": "white",
          "plot_bgcolor": "#E5ECF6",
          "polar": {
           "angularaxis": {
            "gridcolor": "white",
            "linecolor": "white",
            "ticks": ""
           },
           "bgcolor": "#E5ECF6",
           "radialaxis": {
            "gridcolor": "white",
            "linecolor": "white",
            "ticks": ""
           }
          },
          "scene": {
           "xaxis": {
            "backgroundcolor": "#E5ECF6",
            "gridcolor": "white",
            "gridwidth": 2,
            "linecolor": "white",
            "showbackground": true,
            "ticks": "",
            "zerolinecolor": "white"
           },
           "yaxis": {
            "backgroundcolor": "#E5ECF6",
            "gridcolor": "white",
            "gridwidth": 2,
            "linecolor": "white",
            "showbackground": true,
            "ticks": "",
            "zerolinecolor": "white"
           },
           "zaxis": {
            "backgroundcolor": "#E5ECF6",
            "gridcolor": "white",
            "gridwidth": 2,
            "linecolor": "white",
            "showbackground": true,
            "ticks": "",
            "zerolinecolor": "white"
           }
          },
          "shapedefaults": {
           "line": {
            "color": "#2a3f5f"
           }
          },
          "ternary": {
           "aaxis": {
            "gridcolor": "white",
            "linecolor": "white",
            "ticks": ""
           },
           "baxis": {
            "gridcolor": "white",
            "linecolor": "white",
            "ticks": ""
           },
           "bgcolor": "#E5ECF6",
           "caxis": {
            "gridcolor": "white",
            "linecolor": "white",
            "ticks": ""
           }
          },
          "title": {
           "x": 0.05
          },
          "xaxis": {
           "automargin": true,
           "gridcolor": "white",
           "linecolor": "white",
           "ticks": "",
           "title": {
            "standoff": 15
           },
           "zerolinecolor": "white",
           "zerolinewidth": 2
          },
          "yaxis": {
           "automargin": true,
           "gridcolor": "white",
           "linecolor": "white",
           "ticks": "",
           "title": {
            "standoff": 15
           },
           "zerolinecolor": "white",
           "zerolinewidth": 2
          }
         }
        },
        "title": {
         "text": "Estimated Overall Risk of COVID-19 by State"
        }
       }
      }
     },
     "metadata": {},
     "output_type": "display_data"
    }
   ],
   "source": [
    "# plotting ovrsk per state\n",
    "fig_ovrsk = go.Figure(data=go.Choropleth(\n",
    "    locations = summary[summary['param']=='beta']['state'], # Spatial coordinates\n",
    "    z = summary[summary['param']=='rho']['mean'].astype(float).to_numpy() * \n",
    "        (summary[summary['param']=='beta']['mean'].astype(float).to_numpy() / \n",
    "         summary[summary['param']=='gamma']['mean'].astype(float).to_numpy()), # Data to be color-coded\n",
    "    locationmode = 'USA-states', # set of locations match entries in `locations`\n",
    "    colorscale = 'Burgyl',\n",
    "    colorbar_title = \"Overall Risk\",\n",
    "))\n",
    "\n",
    "fig_ovrsk.update_layout(\n",
    "    title_text = 'Estimated Overall Risk of COVID-19 by State',\n",
    "    geo_scope='usa', # limite map scope to USA\n",
    ")\n",
    "\n",
    "fig_ovrsk.show()"
   ]
  }
 ],
 "metadata": {
  "kernelspec": {
   "display_name": "Python 3 (ipykernel)",
   "language": "python",
   "name": "python3"
  },
  "language_info": {
   "codemirror_mode": {
    "name": "ipython",
    "version": 3
   },
   "file_extension": ".py",
   "mimetype": "text/x-python",
   "name": "python",
   "nbconvert_exporter": "python",
   "pygments_lexer": "ipython3",
   "version": "3.9.15"
  }
 },
 "nbformat": 4,
 "nbformat_minor": 4
}
