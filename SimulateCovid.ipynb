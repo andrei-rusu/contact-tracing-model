{
 "cells": [
  {
   "cell_type": "code",
   "execution_count": 1,
   "metadata": {},
   "outputs": [],
   "source": [
    "%load_ext autoreload\n",
    "%autoreload 2"
   ]
  },
  {
   "cell_type": "code",
   "execution_count": 1,
   "metadata": {},
   "outputs": [],
   "source": [
    "import run\n",
    "import lib.stats as stat\n",
    "import lib.utils as utils\n",
    "import lib.network as net\n",
    "import lib.simulation as sim"
   ]
  },
  {
   "cell_type": "code",
   "execution_count": 38,
   "metadata": {},
   "outputs": [
    {
     "data": {
      "text/plain": [
       "<module 'run' from 'D:\\\\OneDrive - University of Southampton\\\\PhD\\\\Contact\\\\run.py'>"
      ]
     },
     "execution_count": 38,
     "metadata": {},
     "output_type": "execute_result"
    }
   ],
   "source": [
    "import importlib\n",
    "importlib.reload(run)"
   ]
  },
  {
   "cell_type": "code",
   "execution_count": 42,
   "metadata": {},
   "outputs": [
    {
     "name": "stdout",
     "output_type": "stream",
     "text": [
      "For taut = 0.05\n",
      "Simulating network - No. 0\n",
      "Running iteration 0:                                                                                                   \n",
      "once                                                                                                                   \n",
      "---> Result:93 total infected persons over time.                                                                       \n",
      "100%|████████████████████████████████████████████████████████████████████████████████████| 1/1 [00:00<00:00,  4.72it/s]\n"
     ]
    }
   ],
   "source": [
    "st1, tr1, kn1 = run.run_mock(netsize=100, multip=False, overlap=.8, model='covid', dual=True, nnets=1, niters=1, nevents=0,\n",
    "                  separate_traced=True, tautrange=False, seed=104, taut=.05, taur=.005, draw=False, draw_iter=False)"
   ]
  },
  {
   "cell_type": "code",
   "execution_count": null,
   "metadata": {},
   "outputs": [],
   "source": []
  },
  {
   "cell_type": "code",
   "execution_count": null,
   "metadata": {},
   "outputs": [],
   "source": []
  },
  {
   "cell_type": "code",
   "execution_count": null,
   "metadata": {},
   "outputs": [],
   "source": []
  },
  {
   "cell_type": "code",
   "execution_count": 74,
   "metadata": {},
   "outputs": [
    {
     "name": "stdout",
     "output_type": "stream",
     "text": [
      "For taut = 0\n",
      "Simulating network - No. 0\n",
      "100%|███████████████████████████████████████████████████████████████████████████████████| 1/1 [00:00<00:00, 142.82it/s]\n",
      "For taut = 0.1\n",
      "Simulating network - No. 0\n",
      "100%|████████████████████████████████████████████████████████████████████████████████████| 1/1 [00:00<00:00,  4.82it/s]\n",
      "For taut = 0.25\n",
      "Simulating network - No. 0\n",
      "100%|████████████████████████████████████████████████████████████████████████████████████| 1/1 [00:00<00:00,  6.27it/s]\n",
      "For taut = 0.5\n",
      "Simulating network - No. 0\n",
      "100%|████████████████████████████████████████████████████████████████████████████████████| 1/1 [00:00<00:00,  5.02it/s]\n",
      "For taut = 0.75\n",
      "Simulating network - No. 0\n",
      "100%|████████████████████████████████████████████████████████████████████████████████████| 1/1 [00:00<00:00,  5.16it/s]\n",
      "For taut = 1\n",
      "Simulating network - No. 0\n",
      "100%|████████████████████████████████████████████████████████████████████████████████████| 1/1 [00:00<00:00,  5.35it/s]\n",
      "For taut = 1.5\n",
      "Simulating network - No. 0\n",
      "100%|████████████████████████████████████████████████████████████████████████████████████| 1/1 [00:00<00:00,  5.18it/s]\n",
      "For taut = 2.5\n",
      "Simulating network - No. 0\n",
      "100%|████████████████████████████████████████████████████████████████████████████████████| 1/1 [00:00<00:00,  5.12it/s]\n"
     ]
    }
   ],
   "source": [
    "sts = run.run_mock(netsize=100, multip=True, model='covid', dual=True, nnets=1, niters=1, nevents=0, \n",
    "                  separate_traced=True, tautrange=True, summary=False, seed=33, taut=.1, taur=.005, draw=False, draw_iter=False)"
   ]
  },
  {
   "cell_type": "code",
   "execution_count": 67,
   "metadata": {},
   "outputs": [],
   "source": [
    "d = utils.get_json(str(json.dumps(sts, cls=NumpyEncoder)))"
   ]
  },
  {
   "cell_type": "code",
   "execution_count": 76,
   "metadata": {},
   "outputs": [],
   "source": [
    "with open('rod', 'w') as f:\n",
    "    f.write(str(json.dumps(sts, cls=NumpyEncoder)))"
   ]
  },
  {
   "cell_type": "code",
   "execution_count": 79,
   "metadata": {},
   "outputs": [],
   "source": [
    "d = utils.get_json('rod')"
   ]
  },
  {
   "cell_type": "code",
   "execution_count": null,
   "metadata": {},
   "outputs": [],
   "source": []
  },
  {
   "cell_type": "code",
   "execution_count": null,
   "metadata": {},
   "outputs": [],
   "source": []
  },
  {
   "cell_type": "code",
   "execution_count": null,
   "metadata": {},
   "outputs": [],
   "source": []
  }
 ],
 "metadata": {
  "kernelspec": {
   "display_name": "Python 3",
   "language": "python",
   "name": "python3"
  },
  "language_info": {
   "codemirror_mode": {
    "name": "ipython",
    "version": 3
   },
   "file_extension": ".py",
   "mimetype": "text/x-python",
   "name": "python",
   "nbconvert_exporter": "python",
   "pygments_lexer": "ipython3",
   "version": "3.7.8"
  }
 },
 "nbformat": 4,
 "nbformat_minor": 4
}
